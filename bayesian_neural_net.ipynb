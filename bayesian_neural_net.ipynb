{
  "nbformat": 4,
  "nbformat_minor": 0,
  "metadata": {
    "colab": {
      "name": "bayesian_neural_net.ipynb",
      "provenance": [],
      "collapsed_sections": [],
      "authorship_tag": "ABX9TyN7KBxqZK9D1hG4zRBk1eLa",
      "include_colab_link": true
    },
    "kernelspec": {
      "name": "python3",
      "display_name": "Python 3"
    },
    "accelerator": "GPU",
    "widgets": {
      "application/vnd.jupyter.widget-state+json": {
        "2c75879a652146c28affcf17961b2598": {
          "model_module": "@jupyter-widgets/controls",
          "model_name": "HBoxModel",
          "state": {
            "_view_name": "HBoxView",
            "_dom_classes": [],
            "_model_name": "HBoxModel",
            "_view_module": "@jupyter-widgets/controls",
            "_model_module_version": "1.5.0",
            "_view_count": null,
            "_view_module_version": "1.5.0",
            "box_style": "",
            "layout": "IPY_MODEL_7d5dffb73c7a443287a6586dc1ab9f7f",
            "_model_module": "@jupyter-widgets/controls",
            "children": [
              "IPY_MODEL_652a29e58bd14597b010556714f3bfca",
              "IPY_MODEL_2c8071a441c7488ea6af5103f20e06dd"
            ]
          }
        },
        "7d5dffb73c7a443287a6586dc1ab9f7f": {
          "model_module": "@jupyter-widgets/base",
          "model_name": "LayoutModel",
          "state": {
            "_view_name": "LayoutView",
            "grid_template_rows": null,
            "right": null,
            "justify_content": null,
            "_view_module": "@jupyter-widgets/base",
            "overflow": null,
            "_model_module_version": "1.2.0",
            "_view_count": null,
            "flex_flow": null,
            "width": null,
            "min_width": null,
            "border": null,
            "align_items": null,
            "bottom": null,
            "_model_module": "@jupyter-widgets/base",
            "top": null,
            "grid_column": null,
            "overflow_y": null,
            "overflow_x": null,
            "grid_auto_flow": null,
            "grid_area": null,
            "grid_template_columns": null,
            "flex": null,
            "_model_name": "LayoutModel",
            "justify_items": null,
            "grid_row": null,
            "max_height": null,
            "align_content": null,
            "visibility": null,
            "align_self": null,
            "height": null,
            "min_height": null,
            "padding": null,
            "grid_auto_rows": null,
            "grid_gap": null,
            "max_width": null,
            "order": null,
            "_view_module_version": "1.2.0",
            "grid_template_areas": null,
            "object_position": null,
            "object_fit": null,
            "grid_auto_columns": null,
            "margin": null,
            "display": null,
            "left": null
          }
        },
        "652a29e58bd14597b010556714f3bfca": {
          "model_module": "@jupyter-widgets/controls",
          "model_name": "FloatProgressModel",
          "state": {
            "_view_name": "ProgressView",
            "style": "IPY_MODEL_c4d39de5b932473abdf94ed766e139c7",
            "_dom_classes": [],
            "description": "100%",
            "_model_name": "FloatProgressModel",
            "bar_style": "success",
            "max": 46827520,
            "_view_module": "@jupyter-widgets/controls",
            "_model_module_version": "1.5.0",
            "value": 46827520,
            "_view_count": null,
            "_view_module_version": "1.5.0",
            "orientation": "horizontal",
            "min": 0,
            "description_tooltip": null,
            "_model_module": "@jupyter-widgets/controls",
            "layout": "IPY_MODEL_396f3b26861e4cffb748d0874c36a201"
          }
        },
        "2c8071a441c7488ea6af5103f20e06dd": {
          "model_module": "@jupyter-widgets/controls",
          "model_name": "HTMLModel",
          "state": {
            "_view_name": "HTMLView",
            "style": "IPY_MODEL_f83949b49d6445b08e2a53fc14d17206",
            "_dom_classes": [],
            "description": "",
            "_model_name": "HTMLModel",
            "placeholder": "​",
            "_view_module": "@jupyter-widgets/controls",
            "_model_module_version": "1.5.0",
            "value": " 44.7M/44.7M [48:06&lt;00:00, 16.2kB/s]",
            "_view_count": null,
            "_view_module_version": "1.5.0",
            "description_tooltip": null,
            "_model_module": "@jupyter-widgets/controls",
            "layout": "IPY_MODEL_f1c733c3dbb1491e8f88151179280f5d"
          }
        },
        "c4d39de5b932473abdf94ed766e139c7": {
          "model_module": "@jupyter-widgets/controls",
          "model_name": "ProgressStyleModel",
          "state": {
            "_view_name": "StyleView",
            "_model_name": "ProgressStyleModel",
            "description_width": "initial",
            "_view_module": "@jupyter-widgets/base",
            "_model_module_version": "1.5.0",
            "_view_count": null,
            "_view_module_version": "1.2.0",
            "bar_color": null,
            "_model_module": "@jupyter-widgets/controls"
          }
        },
        "396f3b26861e4cffb748d0874c36a201": {
          "model_module": "@jupyter-widgets/base",
          "model_name": "LayoutModel",
          "state": {
            "_view_name": "LayoutView",
            "grid_template_rows": null,
            "right": null,
            "justify_content": null,
            "_view_module": "@jupyter-widgets/base",
            "overflow": null,
            "_model_module_version": "1.2.0",
            "_view_count": null,
            "flex_flow": null,
            "width": null,
            "min_width": null,
            "border": null,
            "align_items": null,
            "bottom": null,
            "_model_module": "@jupyter-widgets/base",
            "top": null,
            "grid_column": null,
            "overflow_y": null,
            "overflow_x": null,
            "grid_auto_flow": null,
            "grid_area": null,
            "grid_template_columns": null,
            "flex": null,
            "_model_name": "LayoutModel",
            "justify_items": null,
            "grid_row": null,
            "max_height": null,
            "align_content": null,
            "visibility": null,
            "align_self": null,
            "height": null,
            "min_height": null,
            "padding": null,
            "grid_auto_rows": null,
            "grid_gap": null,
            "max_width": null,
            "order": null,
            "_view_module_version": "1.2.0",
            "grid_template_areas": null,
            "object_position": null,
            "object_fit": null,
            "grid_auto_columns": null,
            "margin": null,
            "display": null,
            "left": null
          }
        },
        "f83949b49d6445b08e2a53fc14d17206": {
          "model_module": "@jupyter-widgets/controls",
          "model_name": "DescriptionStyleModel",
          "state": {
            "_view_name": "StyleView",
            "_model_name": "DescriptionStyleModel",
            "description_width": "",
            "_view_module": "@jupyter-widgets/base",
            "_model_module_version": "1.5.0",
            "_view_count": null,
            "_view_module_version": "1.2.0",
            "_model_module": "@jupyter-widgets/controls"
          }
        },
        "f1c733c3dbb1491e8f88151179280f5d": {
          "model_module": "@jupyter-widgets/base",
          "model_name": "LayoutModel",
          "state": {
            "_view_name": "LayoutView",
            "grid_template_rows": null,
            "right": null,
            "justify_content": null,
            "_view_module": "@jupyter-widgets/base",
            "overflow": null,
            "_model_module_version": "1.2.0",
            "_view_count": null,
            "flex_flow": null,
            "width": null,
            "min_width": null,
            "border": null,
            "align_items": null,
            "bottom": null,
            "_model_module": "@jupyter-widgets/base",
            "top": null,
            "grid_column": null,
            "overflow_y": null,
            "overflow_x": null,
            "grid_auto_flow": null,
            "grid_area": null,
            "grid_template_columns": null,
            "flex": null,
            "_model_name": "LayoutModel",
            "justify_items": null,
            "grid_row": null,
            "max_height": null,
            "align_content": null,
            "visibility": null,
            "align_self": null,
            "height": null,
            "min_height": null,
            "padding": null,
            "grid_auto_rows": null,
            "grid_gap": null,
            "max_width": null,
            "order": null,
            "_view_module_version": "1.2.0",
            "grid_template_areas": null,
            "object_position": null,
            "object_fit": null,
            "grid_auto_columns": null,
            "margin": null,
            "display": null,
            "left": null
          }
        }
      }
    }
  },
  "cells": [
    {
      "cell_type": "markdown",
      "metadata": {
        "id": "view-in-github",
        "colab_type": "text"
      },
      "source": [
        "<a href=\"https://colab.research.google.com/github/themendu/covid_from_ctscan/blob/master/bayesian_neural_net.ipynb\" target=\"_parent\"><img src=\"https://colab.research.google.com/assets/colab-badge.svg\" alt=\"Open In Colab\"/></a>"
      ]
    },
    {
      "cell_type": "code",
      "metadata": {
        "id": "7ueucDH2lOes",
        "colab_type": "code",
        "colab": {}
      },
      "source": [
        "import numpy as np\n",
        "import matplotlib.pyplot as plt\n",
        "#from matplotlib import colors\n",
        "#from IPython import display\n",
        "#import os\n",
        "#from PIL import Image\n",
        "from torch.utils.data.dataset import Dataset\n",
        "#from scipy.misc import imread"
      ],
      "execution_count": null,
      "outputs": []
    },
    {
      "cell_type": "code",
      "metadata": {
        "id": "2GZAGy5MGSdt",
        "colab_type": "code",
        "colab": {}
      },
      "source": [
        "import torch\n",
        "import torch.nn as nn\n",
        "import torch.nn.functional as F\n",
        "import torch.optim as optim\n",
        "import torchvision\n",
        "from torchvision import datasets, transforms\n",
        "from torch.utils.data import DataLoader"
      ],
      "execution_count": null,
      "outputs": []
    },
    {
      "cell_type": "code",
      "metadata": {
        "id": "U9K2-CYClUWs",
        "colab_type": "code",
        "colab": {
          "base_uri": "https://localhost:8080/",
          "height": 121
        },
        "outputId": "c7bb1821-4470-4fe5-b485-82af55159f75"
      },
      "source": [
        "from google.colab import drive\n",
        "drive.mount(\"/content/gdrive\", force_remount=True)"
      ],
      "execution_count": null,
      "outputs": [
        {
          "output_type": "stream",
          "text": [
            "Go to this URL in a browser: https://accounts.google.com/o/oauth2/auth?client_id=947318989803-6bn6qk8qdgf4n4g3pfee6491hc0brc4i.apps.googleusercontent.com&redirect_uri=urn%3aietf%3awg%3aoauth%3a2.0%3aoob&response_type=code&scope=email%20https%3a%2f%2fwww.googleapis.com%2fauth%2fdocs.test%20https%3a%2f%2fwww.googleapis.com%2fauth%2fdrive%20https%3a%2f%2fwww.googleapis.com%2fauth%2fdrive.photos.readonly%20https%3a%2f%2fwww.googleapis.com%2fauth%2fpeopleapi.readonly\n",
            "\n",
            "Enter your authorization code:\n",
            "··········\n",
            "Mounted at /content/gdrive\n"
          ],
          "name": "stdout"
        }
      ]
    },
    {
      "cell_type": "code",
      "metadata": {
        "id": "FPROyv9jqYhA",
        "colab_type": "code",
        "colab": {
          "base_uri": "https://localhost:8080/",
          "height": 84
        },
        "outputId": "38c9b15d-e294-42ff-db56-0c620610d57f"
      },
      "source": [
        "pip install torchbnn"
      ],
      "execution_count": null,
      "outputs": [
        {
          "output_type": "stream",
          "text": [
            "Collecting torchbnn\n",
            "  Downloading https://files.pythonhosted.org/packages/68/47/4629eb37ec9e28d162f76cc44a988bb1f29c7fb2598918b29a06e342fa0d/torchbnn-1.2-py3-none-any.whl\n",
            "Installing collected packages: torchbnn\n",
            "Successfully installed torchbnn-1.2\n"
          ],
          "name": "stdout"
        }
      ]
    },
    {
      "cell_type": "code",
      "metadata": {
        "id": "QUgajmEvqkw0",
        "colab_type": "code",
        "colab": {
          "base_uri": "https://localhost:8080/",
          "height": 84
        },
        "outputId": "0096e570-9b49-4802-d11d-d8768560ed75"
      },
      "source": [
        "pip install torchhk"
      ],
      "execution_count": null,
      "outputs": [
        {
          "output_type": "stream",
          "text": [
            "Collecting torchhk\n",
            "  Downloading https://files.pythonhosted.org/packages/31/06/6b0e557d979d41db6ce525b1bb6eb1c2b0c38e76ea9e43a9c668d732fb5c/torchhk-0.62-py3-none-any.whl\n",
            "Installing collected packages: torchhk\n",
            "Successfully installed torchhk-0.62\n"
          ],
          "name": "stdout"
        }
      ]
    },
    {
      "cell_type": "code",
      "metadata": {
        "id": "uUw7oq1SXIVT",
        "colab_type": "code",
        "colab": {}
      },
      "source": [
        "#pip install Augmentor"
      ],
      "execution_count": null,
      "outputs": []
    },
    {
      "cell_type": "code",
      "metadata": {
        "id": "LoZq84OQThor",
        "colab_type": "code",
        "colab": {
          "base_uri": "https://localhost:8080/",
          "height": 70
        },
        "outputId": "27877ca9-520f-4519-b258-37e58342db74"
      },
      "source": [
        "import torchbnn as bnn\n",
        "from torchhk import transform_model"
      ],
      "execution_count": null,
      "outputs": [
        {
          "output_type": "stream",
          "text": [
            "/usr/local/lib/python3.6/dist-packages/statsmodels/tools/_testing.py:19: FutureWarning: pandas.util.testing is deprecated. Use the functions in the public API at pandas.testing instead.\n",
            "  import pandas.util.testing as tm\n"
          ],
          "name": "stderr"
        }
      ]
    },
    {
      "cell_type": "code",
      "metadata": {
        "id": "4U9DRwtLkSpU",
        "colab_type": "code",
        "colab": {}
      },
      "source": [
        "device = torch.device(\"cuda:0\" if torch.cuda.is_available() else \"cpu\")\n"
      ],
      "execution_count": null,
      "outputs": []
    },
    {
      "cell_type": "code",
      "metadata": {
        "id": "NpOyNxK26bEE",
        "colab_type": "code",
        "colab": {
          "base_uri": "https://localhost:8080/",
          "height": 34
        },
        "outputId": "4e0c9353-7272-4021-b672-5aa6cee0452d"
      },
      "source": [
        "device"
      ],
      "execution_count": null,
      "outputs": [
        {
          "output_type": "execute_result",
          "data": {
            "text/plain": [
              "device(type='cuda', index=0)"
            ]
          },
          "metadata": {
            "tags": []
          },
          "execution_count": 8
        }
      ]
    },
    {
      "cell_type": "code",
      "metadata": {
        "id": "79p4wKyiThlX",
        "colab_type": "code",
        "colab": {
          "base_uri": "https://localhost:8080/",
          "height": 82,
          "referenced_widgets": [
            "2c75879a652146c28affcf17961b2598",
            "7d5dffb73c7a443287a6586dc1ab9f7f",
            "652a29e58bd14597b010556714f3bfca",
            "2c8071a441c7488ea6af5103f20e06dd",
            "c4d39de5b932473abdf94ed766e139c7",
            "396f3b26861e4cffb748d0874c36a201",
            "f83949b49d6445b08e2a53fc14d17206",
            "f1c733c3dbb1491e8f88151179280f5d"
          ]
        },
        "outputId": "5228835c-ec26-4eb2-bd70-98bcc8dfb0b3"
      },
      "source": [
        "\n",
        "import torchvision.models as models\n",
        "import torch.nn as nn\n",
        "\n",
        "model = models.resnet18(pretrained=True)\n",
        "\n",
        "#model = models.alexnet(pretrained=True).to(device)"
      ],
      "execution_count": null,
      "outputs": [
        {
          "output_type": "stream",
          "text": [
            "Downloading: \"https://download.pytorch.org/models/resnet18-5c106cde.pth\" to /root/.cache/torch/hub/checkpoints/resnet18-5c106cde.pth\n"
          ],
          "name": "stderr"
        },
        {
          "output_type": "display_data",
          "data": {
            "application/vnd.jupyter.widget-view+json": {
              "model_id": "2c75879a652146c28affcf17961b2598",
              "version_minor": 0,
              "version_major": 2
            },
            "text/plain": [
              "HBox(children=(FloatProgress(value=0.0, max=46827520.0), HTML(value='')))"
            ]
          },
          "metadata": {
            "tags": []
          }
        },
        {
          "output_type": "stream",
          "text": [
            "\n"
          ],
          "name": "stdout"
        }
      ]
    },
    {
      "cell_type": "code",
      "metadata": {
        "id": "dxe-DPLeXKdf",
        "colab_type": "code",
        "colab": {}
      },
      "source": [
        "for param in model.parameters():\n",
        "  param.requires_grad=True\n"
      ],
      "execution_count": null,
      "outputs": []
    },
    {
      "cell_type": "code",
      "metadata": {
        "id": "sC0m8YK7GOS-",
        "colab_type": "code",
        "colab": {}
      },
      "source": [
        "model.fc=nn.Sequential(\n",
        "               nn.Linear(512,128),\n",
        "               nn.ReLU(inplace=True),\n",
        "#               nn.Dropout(p=0.2,inplace=False),\n",
        "               nn.Linear(128, 2))"
      ],
      "execution_count": null,
      "outputs": []
    },
    {
      "cell_type": "code",
      "metadata": {
        "id": "BfhPNnpAlU6U",
        "colab_type": "code",
        "colab": {}
      },
      "source": [
        "transform_model(model, nn.Conv2d, bnn.BayesConv2d, \n",
        "                args={\"prior_mu\":0, \"prior_sigma\":0.2, \"in_channels\" : \".in_channels\",\n",
        "                      \"out_channels\" : \".out_channels\", \"kernel_size\" : \".kernel_size\",\n",
        "                      \"stride\" : \".stride\", \"padding\" : \".padding\", \"bias\":\".bias\"\n",
        "                     }, \n",
        "                attrs={\"weight_mu\" : \".weight\"})"
      ],
      "execution_count": null,
      "outputs": []
    },
    {
      "cell_type": "code",
      "metadata": {
        "id": "yBCfKwkZpg7S",
        "colab_type": "code",
        "colab": {
          "base_uri": "https://localhost:8080/",
          "height": 1000
        },
        "outputId": "45c4dcdc-fb59-4262-c3a0-c33ece48978c"
      },
      "source": [
        "transform_model(model, nn.Linear, bnn.BayesLinear, \n",
        "            args={\"prior_mu\":0, \"prior_sigma\":0.2, \"in_features\" : \".in_features\",\n",
        "                  \"out_features\" : \".out_features\", \"bias\":\".bias\"\n",
        "                 }, \n",
        "            attrs={\"weight_mu\" : \".weight\"})"
      ],
      "execution_count": null,
      "outputs": [
        {
          "output_type": "stream",
          "text": [
            "/usr/local/lib/python3.6/dist-packages/torchhk/transform.py:34: Warning:\n",
            "\n",
            "\n",
            " * Caution : The Input Model is CHANGED because inplace=True.\n",
            "\n"
          ],
          "name": "stderr"
        },
        {
          "output_type": "execute_result",
          "data": {
            "text/plain": [
              "ResNet(\n",
              "  (conv1): Conv2d(3, 64, kernel_size=(7, 7), stride=(2, 2), padding=(3, 3), bias=False)\n",
              "  (bn1): BatchNorm2d(64, eps=1e-05, momentum=0.1, affine=True, track_running_stats=True)\n",
              "  (relu): ReLU(inplace=True)\n",
              "  (maxpool): MaxPool2d(kernel_size=3, stride=2, padding=1, dilation=1, ceil_mode=False)\n",
              "  (layer1): Sequential(\n",
              "    (0): BasicBlock(\n",
              "      (conv1): Conv2d(64, 64, kernel_size=(3, 3), stride=(1, 1), padding=(1, 1), bias=False)\n",
              "      (bn1): BatchNorm2d(64, eps=1e-05, momentum=0.1, affine=True, track_running_stats=True)\n",
              "      (relu): ReLU(inplace=True)\n",
              "      (conv2): Conv2d(64, 64, kernel_size=(3, 3), stride=(1, 1), padding=(1, 1), bias=False)\n",
              "      (bn2): BatchNorm2d(64, eps=1e-05, momentum=0.1, affine=True, track_running_stats=True)\n",
              "    )\n",
              "    (1): BasicBlock(\n",
              "      (conv1): Conv2d(64, 64, kernel_size=(3, 3), stride=(1, 1), padding=(1, 1), bias=False)\n",
              "      (bn1): BatchNorm2d(64, eps=1e-05, momentum=0.1, affine=True, track_running_stats=True)\n",
              "      (relu): ReLU(inplace=True)\n",
              "      (conv2): Conv2d(64, 64, kernel_size=(3, 3), stride=(1, 1), padding=(1, 1), bias=False)\n",
              "      (bn2): BatchNorm2d(64, eps=1e-05, momentum=0.1, affine=True, track_running_stats=True)\n",
              "    )\n",
              "  )\n",
              "  (layer2): Sequential(\n",
              "    (0): BasicBlock(\n",
              "      (conv1): Conv2d(64, 128, kernel_size=(3, 3), stride=(2, 2), padding=(1, 1), bias=False)\n",
              "      (bn1): BatchNorm2d(128, eps=1e-05, momentum=0.1, affine=True, track_running_stats=True)\n",
              "      (relu): ReLU(inplace=True)\n",
              "      (conv2): Conv2d(128, 128, kernel_size=(3, 3), stride=(1, 1), padding=(1, 1), bias=False)\n",
              "      (bn2): BatchNorm2d(128, eps=1e-05, momentum=0.1, affine=True, track_running_stats=True)\n",
              "      (downsample): Sequential(\n",
              "        (0): Conv2d(64, 128, kernel_size=(1, 1), stride=(2, 2), bias=False)\n",
              "        (1): BatchNorm2d(128, eps=1e-05, momentum=0.1, affine=True, track_running_stats=True)\n",
              "      )\n",
              "    )\n",
              "    (1): BasicBlock(\n",
              "      (conv1): Conv2d(128, 128, kernel_size=(3, 3), stride=(1, 1), padding=(1, 1), bias=False)\n",
              "      (bn1): BatchNorm2d(128, eps=1e-05, momentum=0.1, affine=True, track_running_stats=True)\n",
              "      (relu): ReLU(inplace=True)\n",
              "      (conv2): Conv2d(128, 128, kernel_size=(3, 3), stride=(1, 1), padding=(1, 1), bias=False)\n",
              "      (bn2): BatchNorm2d(128, eps=1e-05, momentum=0.1, affine=True, track_running_stats=True)\n",
              "    )\n",
              "  )\n",
              "  (layer3): Sequential(\n",
              "    (0): BasicBlock(\n",
              "      (conv1): Conv2d(128, 256, kernel_size=(3, 3), stride=(2, 2), padding=(1, 1), bias=False)\n",
              "      (bn1): BatchNorm2d(256, eps=1e-05, momentum=0.1, affine=True, track_running_stats=True)\n",
              "      (relu): ReLU(inplace=True)\n",
              "      (conv2): Conv2d(256, 256, kernel_size=(3, 3), stride=(1, 1), padding=(1, 1), bias=False)\n",
              "      (bn2): BatchNorm2d(256, eps=1e-05, momentum=0.1, affine=True, track_running_stats=True)\n",
              "      (downsample): Sequential(\n",
              "        (0): Conv2d(128, 256, kernel_size=(1, 1), stride=(2, 2), bias=False)\n",
              "        (1): BatchNorm2d(256, eps=1e-05, momentum=0.1, affine=True, track_running_stats=True)\n",
              "      )\n",
              "    )\n",
              "    (1): BasicBlock(\n",
              "      (conv1): Conv2d(256, 256, kernel_size=(3, 3), stride=(1, 1), padding=(1, 1), bias=False)\n",
              "      (bn1): BatchNorm2d(256, eps=1e-05, momentum=0.1, affine=True, track_running_stats=True)\n",
              "      (relu): ReLU(inplace=True)\n",
              "      (conv2): Conv2d(256, 256, kernel_size=(3, 3), stride=(1, 1), padding=(1, 1), bias=False)\n",
              "      (bn2): BatchNorm2d(256, eps=1e-05, momentum=0.1, affine=True, track_running_stats=True)\n",
              "    )\n",
              "  )\n",
              "  (layer4): Sequential(\n",
              "    (0): BasicBlock(\n",
              "      (conv1): Conv2d(256, 512, kernel_size=(3, 3), stride=(2, 2), padding=(1, 1), bias=False)\n",
              "      (bn1): BatchNorm2d(512, eps=1e-05, momentum=0.1, affine=True, track_running_stats=True)\n",
              "      (relu): ReLU(inplace=True)\n",
              "      (conv2): Conv2d(512, 512, kernel_size=(3, 3), stride=(1, 1), padding=(1, 1), bias=False)\n",
              "      (bn2): BatchNorm2d(512, eps=1e-05, momentum=0.1, affine=True, track_running_stats=True)\n",
              "      (downsample): Sequential(\n",
              "        (0): Conv2d(256, 512, kernel_size=(1, 1), stride=(2, 2), bias=False)\n",
              "        (1): BatchNorm2d(512, eps=1e-05, momentum=0.1, affine=True, track_running_stats=True)\n",
              "      )\n",
              "    )\n",
              "    (1): BasicBlock(\n",
              "      (conv1): Conv2d(512, 512, kernel_size=(3, 3), stride=(1, 1), padding=(1, 1), bias=False)\n",
              "      (bn1): BatchNorm2d(512, eps=1e-05, momentum=0.1, affine=True, track_running_stats=True)\n",
              "      (relu): ReLU(inplace=True)\n",
              "      (conv2): Conv2d(512, 512, kernel_size=(3, 3), stride=(1, 1), padding=(1, 1), bias=False)\n",
              "      (bn2): BatchNorm2d(512, eps=1e-05, momentum=0.1, affine=True, track_running_stats=True)\n",
              "    )\n",
              "  )\n",
              "  (avgpool): AdaptiveAvgPool2d(output_size=(1, 1))\n",
              "  (fc): Sequential(\n",
              "    (0): BayesLinear(prior_mu=0, prior_sigma=0.2, in_features=512, out_features=128, bias=True)\n",
              "    (1): ReLU(inplace=True)\n",
              "    (2): BayesLinear(prior_mu=0, prior_sigma=0.2, in_features=128, out_features=2, bias=True)\n",
              "  )\n",
              ")"
            ]
          },
          "metadata": {
            "tags": []
          },
          "execution_count": 12
        }
      ]
    },
    {
      "cell_type": "code",
      "metadata": {
        "id": "hscGno9dNO7s",
        "colab_type": "code",
        "colab": {}
      },
      "source": [
        "transform_model(model, nn.BatchNorm2d,bnn.modules.batchnorm.BayesBatchNorm2d, \n",
        "            args={\"prior_mu\":0, \"prior_sigma\":0.2, \"num_features\":\".num_features\",\"momentum\":0.1\n",
        "                 }, \n",
        "            attrs={\"weight_mu\" : \".weight\"})"
      ],
      "execution_count": null,
      "outputs": []
    },
    {
      "cell_type": "code",
      "metadata": {
        "id": "tZCTeLu1lU88",
        "colab_type": "code",
        "colab": {}
      },
      "source": [
        "model=model.to(device)"
      ],
      "execution_count": null,
      "outputs": []
    },
    {
      "cell_type": "code",
      "metadata": {
        "id": "VWGRRfJcUA16",
        "colab_type": "code",
        "colab": {}
      },
      "source": [
        "#import Augmentor\n",
        "#p = Augmentor.Pipeline(source_directory=\"/content/gdrive/My Drive/corona/bayesian/ct/\",output_directory=\"/content/gdrive/My Drive/corona/bay_aug/ct/\")\n",
        "#p.random_distortion(probability=0.7, grid_width=4, grid_height=4, magnitude=8)\n",
        "#p.rotate(probability=0.7, max_left_rotation=5, max_right_rotation=5)\n",
        "#p.zoom_random(probability=0.7, percentage_area=0.95)\n",
        "#p.flip_top_bottom(probability=0.7)\n",
        "#p.rotate_random_90(probability=0.7)\n",
        "#p.random_erasing(probability=0.7,rectangle_area=0.2)\n",
        "\n",
        "#p.sample(1000)"
      ],
      "execution_count": null,
      "outputs": []
    },
    {
      "cell_type": "code",
      "metadata": {
        "id": "oRIM-5CfUBmh",
        "colab_type": "code",
        "colab": {}
      },
      "source": [
        "#p1 = Augmentor.Pipeline(source_directory=\"/content/gdrive/My Drive/corona/bayesian/xray/\",output_directory=\"/content/gdrive/My Drive/corona/bay_aug/xray/\")\n",
        "\n",
        "#p1.random_distortion(probability=0.4, grid_width=4, grid_height=4, magnitude=8)\n",
        "#p1.rotate(probability=0.4, max_left_rotation=5, max_right_rotation=5)\n",
        "#p1.zoom_random(probability=0.4, percentage_area=0.95)\n",
        "#p1.flip_top_bottom(probability=0.5)\n",
        "\n",
        "#p1.sample(1000)"
      ],
      "execution_count": null,
      "outputs": []
    },
    {
      "cell_type": "code",
      "metadata": {
        "id": "pBnfUHS7Yye-",
        "colab_type": "code",
        "colab": {}
      },
      "source": [
        "#p1 = Augmentor.Pipeline(source_directory=\"/content/gdrive/My Drive/lp/dataset/neg/\",output_directory=\"/content/gdrive/My Drive/corona/bay_aug/ood/\")\n",
        "\n",
        "#p1.random_distortion(probability=0.7, grid_width=4, grid_height=4, magnitude=8)\n",
        "#p1.rotate(probability=0.7, max_left_rotation=5, max_right_rotation=5)\n",
        "#p1.zoom_random(probability=0.7, percentage_area=0.95)\n",
        "#p1.flip_top_bottom(probability=0.7)\n",
        "\n",
        "#p1.sample(1000)"
      ],
      "execution_count": null,
      "outputs": []
    },
    {
      "cell_type": "code",
      "metadata": {
        "id": "htGrhDFtXCBR",
        "colab_type": "code",
        "colab": {}
      },
      "source": [
        "from torchvision import transforms\n",
        "TRANSFORM_IMG = transforms.Compose([\n",
        "    transforms.Resize((224,224)),\n",
        "    transforms.ToTensor(),transforms.Normalize(mean=[0.485, 0.456, 0.406],\n",
        "              std=[0.229, 0.224, 0.225])])\n",
        "path3=\"/content/gdrive/My Drive/corona/bay_aug/\"\n",
        "\n",
        "\n",
        "\n",
        "data=torchvision.datasets.ImageFolder(path3,transform=TRANSFORM_IMG)"
      ],
      "execution_count": null,
      "outputs": []
    },
    {
      "cell_type": "code",
      "metadata": {
        "id": "kMNNo4rFXCEJ",
        "colab_type": "code",
        "colab": {
          "base_uri": "https://localhost:8080/",
          "height": 168
        },
        "outputId": "9675e48d-bbc8-47bb-b87a-d3e4ddd672aa"
      },
      "source": [
        "data"
      ],
      "execution_count": null,
      "outputs": [
        {
          "output_type": "execute_result",
          "data": {
            "text/plain": [
              "Dataset ImageFolder\n",
              "    Number of datapoints: 2000\n",
              "    Root location: /content/gdrive/My Drive/corona/bay_aug/\n",
              "    StandardTransform\n",
              "Transform: Compose(\n",
              "               Resize(size=(224, 224), interpolation=PIL.Image.BILINEAR)\n",
              "               ToTensor()\n",
              "               Normalize(mean=[0.485, 0.456, 0.406], std=[0.229, 0.224, 0.225])\n",
              "           )"
            ]
          },
          "metadata": {
            "tags": []
          },
          "execution_count": 38
        }
      ]
    },
    {
      "cell_type": "code",
      "metadata": {
        "id": "Tcw-1rUKXCG-",
        "colab_type": "code",
        "colab": {
          "base_uri": "https://localhost:8080/",
          "height": 34
        },
        "outputId": "6f367697-03bc-4513-f313-bb637dbf76c3"
      },
      "source": [
        "data.class_to_idx"
      ],
      "execution_count": null,
      "outputs": [
        {
          "output_type": "execute_result",
          "data": {
            "text/plain": [
              "{'ct': 0, 'ood': 1}"
            ]
          },
          "metadata": {
            "tags": []
          },
          "execution_count": 39
        }
      ]
    },
    {
      "cell_type": "code",
      "metadata": {
        "id": "eKozF7q_XB7t",
        "colab_type": "code",
        "colab": {}
      },
      "source": [
        "train,test =torch.utils.data.random_split(data, [1900,100])\n"
      ],
      "execution_count": null,
      "outputs": []
    },
    {
      "cell_type": "code",
      "metadata": {
        "id": "uCUi8KT0mUvm",
        "colab_type": "code",
        "colab": {}
      },
      "source": [
        "del data\n"
      ],
      "execution_count": null,
      "outputs": []
    },
    {
      "cell_type": "code",
      "metadata": {
        "id": "lDV2Nx_eIiRI",
        "colab_type": "code",
        "colab": {}
      },
      "source": [
        "dataloaders = {\n",
        "    'train':\n",
        "    torch.utils.data.DataLoader(train,\n",
        "                                batch_size=64,\n",
        "                                shuffle=True,\n",
        "                                num_workers=0,\n",
        "                                drop_last=True),  \n",
        "    'validation':\n",
        "    torch.utils.data.DataLoader(test,\n",
        "                                batch_size=1,\n",
        "                                shuffle=False,\n",
        "                                num_workers=0,\n",
        "                                drop_last=False)  \n",
        "}"
      ],
      "execution_count": null,
      "outputs": []
    },
    {
      "cell_type": "code",
      "metadata": {
        "id": "uIOkTCPxIiT_",
        "colab_type": "code",
        "colab": {}
      },
      "source": [
        "#trainiter = iter(dataloaders['train'])\n",
        "#features, labels = next(trainiter)\n",
        "#features.shape, labels.shape"
      ],
      "execution_count": null,
      "outputs": []
    },
    {
      "cell_type": "code",
      "metadata": {
        "id": "kgxLsFDUmhfY",
        "colab_type": "code",
        "colab": {}
      },
      "source": [
        "#del features\n",
        "#del labels\n",
        "#del trainiter"
      ],
      "execution_count": null,
      "outputs": []
    },
    {
      "cell_type": "code",
      "metadata": {
        "id": "CGuBrYvhoG2x",
        "colab_type": "code",
        "colab": {}
      },
      "source": [
        "def precision(y_true:torch.Tensor, y_pred:torch.Tensor, is_training=False) -> torch.Tensor:\n",
        "\n",
        "    assert y_true.ndim == 1\n",
        "    assert y_pred.ndim == 1 or y_pred.ndim == 2\n",
        "    \n",
        "    if y_pred.ndim == 2:\n",
        "        y_pred = y_pred.argmax(dim=1)\n",
        "        \n",
        "    \n",
        "    tp = (y_true * y_pred).sum().to(torch.float32)\n",
        "    fp = ((1-y_true) * y_pred).sum().to(torch.float32)\n",
        "    \n",
        "    epsilon = 1e-7\n",
        "    precision = tp / (tp + fp + epsilon)\n",
        "  \n",
        "    return precision"
      ],
      "execution_count": null,
      "outputs": []
    },
    {
      "cell_type": "code",
      "metadata": {
        "id": "XQ6o98btkaJR",
        "colab_type": "code",
        "colab": {}
      },
      "source": [
        "#model=torch.load('/content/gdrive/My Drive/corona/bayesian_aug.pt')\n"
      ],
      "execution_count": null,
      "outputs": []
    },
    {
      "cell_type": "code",
      "metadata": {
        "id": "Cl5Pt3AhksJU",
        "colab_type": "code",
        "colab": {}
      },
      "source": [
        "#for param in model.parameters():\n",
        "#  param.requires_grad=True\n",
        "#model=model.to(device)\n"
      ],
      "execution_count": null,
      "outputs": []
    },
    {
      "cell_type": "code",
      "metadata": {
        "id": "tQLJXLyqlVAE",
        "colab_type": "code",
        "colab": {}
      },
      "source": [
        "\n",
        "criterion = nn.CrossEntropyLoss()\n",
        "kl_loss = bnn.BKLLoss(reduction='mean', last_layer_only=False)\n",
        "factor = 1\n",
        "\n",
        "optimizer = optim.Adam(model.parameters(),lr=0.0000005, betas=(0.9, 0.999), eps=1e-08, weight_decay=0.3, amsgrad=False)"
      ],
      "execution_count": null,
      "outputs": []
    },
    {
      "cell_type": "code",
      "metadata": {
        "id": "K_c1tmPTnY1q",
        "colab_type": "code",
        "colab": {}
      },
      "source": [
        "def train_model(model, criterion, optimizer, num_epochs,kl_loss):\n",
        "    losses_train_list=[]\n",
        "    losses_test_list=[]\n",
        "    prec_train_list=[]\n",
        "    prec_test_list=[]\n",
        "    kl_train_list=[]\n",
        "    kl_test_list=[]\n",
        "    for epoch in range(num_epochs):\n",
        "        print('Epoch {}/{}'.format(epoch+1, num_epochs))\n",
        "        print('-' * 10)\n",
        "\n",
        "        for phase in ['train', 'validation']:\n",
        "            if phase == 'train':\n",
        "                model.train()\n",
        "            else:\n",
        "                model.eval()\n",
        "\n",
        "            running_loss = 0.0\n",
        "            running_corrects = 0\n",
        "            running_kl=0.0\n",
        "\n",
        "            for inputs, labels in dataloaders[phase]:\n",
        "                inputs = inputs.to(device)\n",
        "                labels = labels.to(device)\n",
        "\n",
        "                outputs = model(inputs)\n",
        "                loss = criterion(outputs, labels)\n",
        "                kl=kl_loss(model)\n",
        "                cost=loss+(factor*kl)\n",
        "\n",
        "                if phase == 'train':\n",
        "                    optimizer.zero_grad()\n",
        "                    cost.backward()\n",
        "                    optimizer.step()\n",
        "                _, preds = torch.max(outputs, 1)\n",
        "                running_loss += loss.item() * inputs.size(0)\n",
        "                running_corrects += torch.sum(preds == labels.data)\n",
        "                running_kl+=kl.item()\n",
        "\n",
        "            if phase=='train':\n",
        "                           epoch_loss = running_loss /1900\n",
        "                           epoch_acc = running_corrects.double() /1900\n",
        "                           epoch_kl=running_kl/1900\n",
        "                           print('train precision score is : {}'.format(precision(labels.data.to('cpu'), outputs.data.to('cpu'))))\n",
        "                           losses_train_list.append(epoch_loss)\n",
        "                           prec_train_list.append(precision(labels.data.to('cpu'), outputs.data.to('cpu')))\n",
        "                           kl_train_list.append(epoch_kl)\n",
        "\n",
        "\n",
        "            else: \n",
        "                           epoch_loss = running_loss /100\n",
        "                           epoch_acc = running_corrects.double() /100\n",
        "                           epoch_kl=running_kl/100\n",
        "                           print('valid precision score is : {}'.format(precision(labels.data.to('cpu'), outputs.data.to('cpu'))))\n",
        "                           losses_test_list.append(epoch_loss)\n",
        "                           prec_test_list.append(precision(labels.data.to('cpu'), outputs.data.to('cpu')))\n",
        "                           kl_test_list.append(epoch_kl)\n",
        "\n",
        "            \n",
        "\n",
        "            print('{} loss: {:.4f}, acc: {:.6f}, kl:{:.6f}'.format(phase,\n",
        "                                                        epoch_loss,\n",
        "                                                        epoch_acc,\n",
        "                                                        epoch_kl))\n",
        "\n",
        "\n",
        "    return model,losses_train_list,losses_test_list,prec_train_list,prec_test_list,kl_train_list,kl_test_list"
      ],
      "execution_count": null,
      "outputs": []
    },
    {
      "cell_type": "code",
      "metadata": {
        "id": "vEy_mHPYnY5O",
        "colab_type": "code",
        "colab": {}
      },
      "source": [
        "model_trained1,a1,b1,c1,d1,e1,f1= train_model(model, criterion, optimizer, num_epochs=3,kl_loss=kl_loss)\n"
      ],
      "execution_count": null,
      "outputs": []
    },
    {
      "cell_type": "code",
      "metadata": {
        "id": "3pjO9PamnY9p",
        "colab_type": "code",
        "colab": {}
      },
      "source": [
        "  import matplotlib.pyplot as plt\n",
        "plt.figure(figsize=(8, 6))\n",
        "plt.plot(a1,label='train_loss')\n",
        "plt.plot(b1,label='test_loss')\n",
        "plt.plot(e1,label='kl_train')\n",
        "plt.plot(f1,label='kl_test')\n",
        "\n",
        "plt.xlabel(\"epochs\")\n",
        "plt.ylabel(\"value\")\n",
        "plt.title(\"train versus val plot\")\n",
        "\n",
        "plt.legend()\n",
        "plt.show()"
      ],
      "execution_count": null,
      "outputs": []
    },
    {
      "cell_type": "code",
      "metadata": {
        "id": "ORhLckA3n0Di",
        "colab_type": "code",
        "colab": {}
      },
      "source": [
        "#torch.save(model_trained1,'/content/gdrive/My Drive/corona/bayesian_aug.pt')\n",
        "#resnet18,88% accuracy, test loss=1.5,kl_test_loss=0.3,kl_train_loss=0.03"
      ],
      "execution_count": null,
      "outputs": []
    },
    {
      "cell_type": "code",
      "metadata": {
        "id": "y_Ae7XcHjqo_",
        "colab_type": "code",
        "colab": {}
      },
      "source": [
        "def get_uncertainty_per_image(model, input_image, T, normalized=False):\n",
        "    input_image = input_image.unsqueeze(0)\n",
        "    input_images = input_image.repeat(T, 1, 1, 1)\n",
        "\n",
        "    net_out, _ = model(input_images)\n",
        "    pred = torch.mean(net_out, dim=0).cpu().detach().numpy()\n",
        "    if normalized:\n",
        "        prediction = F.softplus(net_out)\n",
        "        p_hat = prediction / torch.sum(prediction, dim=1).unsqueeze(1)\n",
        "    else:\n",
        "        p_hat = F.softmax(net_out, dim=1)\n",
        "    p_hat = p_hat.detach().cpu().numpy()\n",
        "    p_bar = np.mean(p_hat, axis=0)\n",
        "\n",
        "    temp = p_hat - np.expand_dims(p_bar, 0)\n",
        "    epistemic = np.dot(temp.T, temp) / T\n",
        "    epistemic = np.diag(epistemic)\n",
        "\n",
        "    aleatoric = np.diag(p_bar) - (np.dot(p_hat.T, p_hat) / T)\n",
        "    aleatoric = np.diag(aleatoric)\n",
        "\n",
        "    return pred, epistemic, aleatoric\n"
      ],
      "execution_count": null,
      "outputs": []
    },
    {
      "cell_type": "code",
      "metadata": {
        "id": "RvIMDFZo2ApN",
        "colab_type": "code",
        "colab": {
          "base_uri": "https://localhost:8080/",
          "height": 285
        },
        "outputId": "2a36e254-5767-43e1-963a-f860e992a4c5"
      },
      "source": [
        "import matplotlib.pyplot as plt\n",
        "\n",
        "abc=plt.imread('/content/gdrive/My Drive/corona/bay_aug/ct/ct_original_6_3.jpg_f726454a-a2b2-456e-8ae6-aa3ee8c8ed9a.jpg')\n",
        "plt.imshow(abc)"
      ],
      "execution_count": null,
      "outputs": [
        {
          "output_type": "execute_result",
          "data": {
            "text/plain": [
              "<matplotlib.image.AxesImage at 0x7f0f79fb3f60>"
            ]
          },
          "metadata": {
            "tags": []
          },
          "execution_count": 81
        },
        {
          "output_type": "display_data",
          "data": {
            "image/png": "[encoded data removed]",
            "text/plain": [
              "<Figure size 432x288 with 1 Axes>"
            ]
          },
          "metadata": {
            "tags": [],
            "needs_background": "light"
          }
        }
      ]
    },
    {
      "cell_type": "code",
      "metadata": {
        "id": "GwZ83XYGVZdC",
        "colab_type": "code",
        "colab": {}
      },
      "source": [
        "def get_uncertainty_per_image(model, path, T, normalized=False):\n",
        "    image = Image.open(path)\n",
        "    image = loader(image).float()\n",
        "    image = image.unsqueeze(0)\n",
        "    input_image=image.to(device)\n",
        "    input_images = input_image.repeat(T, 1, 1, 1)\n",
        "\n",
        "    net_out = model(input_images)\n",
        "    pred = torch.mean(net_out, dim=0).cpu().detach().numpy()\n",
        "    if normalized:\n",
        "        prediction = F.softplus(net_out)\n",
        "        p_hat = prediction / torch.sum(prediction, dim=1).unsqueeze(1)\n",
        "    else:\n",
        "        p_hat = F.softmax(net_out, dim=1)\n",
        "    p_hat = p_hat.detach().cpu().numpy()\n",
        "    p_bar = np.mean(p_hat, axis=0)\n",
        "\n",
        "    temp = p_hat - np.expand_dims(p_bar, 0)\n",
        "    epistemic = np.dot(temp.T, temp) / T\n",
        "    epistemic = np.diag(epistemic)\n",
        "\n",
        "    aleatoric = np.diag(p_bar) - (np.dot(p_hat.T, p_hat) / T)\n",
        "    aleatoric = np.diag(aleatoric)\n",
        "    return pred, epistemic, aleatoric\n",
        " \n"
      ],
      "execution_count": null,
      "outputs": []
    },
    {
      "cell_type": "code",
      "metadata": {
        "id": "fDxYRPc1VZZ0",
        "colab_type": "code",
        "colab": {
          "base_uri": "https://localhost:8080/",
          "height": 67
        },
        "outputId": "2f13b47b-a60e-42b7-8844-f27008e79344"
      },
      "source": [
        "from torch.autograd import Variable\n",
        "device = torch.device(\"cuda:0\" if torch.cuda.is_available() else \"cpu\")\n",
        "\n",
        "get_uncertainty_per_image(model,'/content/gdrive/My Drive/corona/bay_aug/ct/ct_original_6_3.jpg_f726454a-a2b2-456e-8ae6-aa3ee8c8ed9a.jpg',10)"
      ],
      "execution_count": null,
      "outputs": [
        {
          "output_type": "execute_result",
          "data": {
            "text/plain": [
              "(array([ 21.65228 , -27.855183], dtype=float32),\n",
              " array([0., 0.], dtype=float32),\n",
              " array([0.000000e+00, 3.156332e-22], dtype=float32))"
            ]
          },
          "metadata": {
            "tags": []
          },
          "execution_count": 79
        }
      ]
    },
    {
      "cell_type": "code",
      "metadata": {
        "id": "W2r7_rHOVZl1",
        "colab_type": "code",
        "colab": {}
      },
      "source": [
        ""
      ],
      "execution_count": null,
      "outputs": []
    },
    {
      "cell_type": "code",
      "metadata": {
        "id": "Kg1516PEVZgl",
        "colab_type": "code",
        "colab": {}
      },
      "source": [
        ""
      ],
      "execution_count": null,
      "outputs": []
    },
    {
      "cell_type": "code",
      "metadata": {
        "id": "z8Njuds50F-W",
        "colab_type": "code",
        "colab": {}
      },
      "source": [
        ""
      ],
      "execution_count": null,
      "outputs": []
    }
  ]
}