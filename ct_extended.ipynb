{
  "nbformat": 4,
  "nbformat_minor": 0,
  "metadata": {
    "colab": {
      "name": "ct_extended.ipynb",
      "provenance": [],
      "collapsed_sections": [],
      "machine_shape": "hm",
      "authorship_tag": "ABX9TyMeGQ+2WSvzuLJaVP/PIwwK",
      "include_colab_link": true
    },
    "kernelspec": {
      "name": "python3",
      "display_name": "Python 3"
    },
    "accelerator": "GPU"
  },
  "cells": [
    {
      "cell_type": "markdown",
      "metadata": {
        "id": "view-in-github",
        "colab_type": "text"
      },
      "source": [
        "<a href=\"https://colab.research.google.com/github/themendu/covid_from_ctscan/blob/master/ct_extended.ipynb\" target=\"_parent\"><img src=\"https://colab.research.google.com/assets/colab-badge.svg\" alt=\"Open In Colab\"/></a>"
      ]
    },
    {
      "cell_type": "markdown",
      "metadata": {
        "id": "T0u4V_xJPzIm",
        "colab_type": "text"
      },
      "source": [
        "More details and project walkthrough was done in my [github repo](https://github.com/themendu/covid_from_ctscan).This notebook is an extension to the previous notebook \"corona_detector_from_ct.ipynb\".Here images were halved vertically and then augmented."
      ]
    },
    {
      "cell_type": "code",
      "metadata": {
        "id": "MUjnXncAngON",
        "colab_type": "code",
        "colab": {}
      },
      "source": [
        "import numpy as np\n",
        "import pandas as pd\n",
        "import matplotlib.pyplot as plt\n",
        "%matplotlib inline\n",
        "import torch\n",
        "import torchvision\n",
        "import cv2\n",
        "from PIL import Image"
      ],
      "execution_count": 0,
      "outputs": []
    },
    {
      "cell_type": "code",
      "metadata": {
        "id": "5YCFFwVjnjmq",
        "colab_type": "code",
        "outputId": "4b496021-4312-4a6a-88ae-851932b773f0",
        "colab": {
          "base_uri": "https://localhost:8080/",
          "height": 121
        }
      },
      "source": [
        "from google.colab import drive\n",
        "drive.mount('/content/gdrive', force_remount=True)"
      ],
      "execution_count": 2,
      "outputs": [
        {
          "output_type": "stream",
          "text": [
            "Go to this URL in a browser: https://accounts.google.com/o/oauth2/auth?client_id=947318989803-6bn6qk8qdgf4n4g3pfee6491hc0brc4i.apps.googleusercontent.com&redirect_uri=urn%3aietf%3awg%3aoauth%3a2.0%3aoob&response_type=code&scope=email%20https%3a%2f%2fwww.googleapis.com%2fauth%2fdocs.test%20https%3a%2f%2fwww.googleapis.com%2fauth%2fdrive%20https%3a%2f%2fwww.googleapis.com%2fauth%2fdrive.photos.readonly%20https%3a%2f%2fwww.googleapis.com%2fauth%2fpeopleapi.readonly\n",
            "\n",
            "Enter your authorization code:\n",
            "··········\n",
            "Mounted at /content/gdrive\n"
          ],
          "name": "stdout"
        }
      ]
    },
    {
      "cell_type": "code",
      "metadata": {
        "id": "ajhQUQrhnjsY",
        "colab_type": "code",
        "colab": {}
      },
      "source": [
        "\n",
        "import matplotlib.pyplot as plt\n",
        "def cv2_imshow(a, **kwargs):\n",
        "    a = a.clip(0, 255).astype('uint8')\n",
        "    # cv2 stores colors as BGR; convert to RGB\n",
        "    if a.ndim == 3:\n",
        "        if a.shape[2] == 4:\n",
        "            a = cv2.cvtColor(a, cv2.COLOR_BGRA2RGBA)\n",
        "        else:\n",
        "            a = cv2.cvtColor(a, cv2.COLOR_BGR2RGB)\n",
        "\n",
        "    return plt.imshow(a, **kwargs)\n"
      ],
      "execution_count": 0,
      "outputs": []
    },
    {
      "cell_type": "code",
      "metadata": {
        "id": "nDechYlknjpx",
        "colab_type": "code",
        "colab": {}
      },
      "source": [
        "\n",
        "# Read the image\n",
        "img = cv2.imread(\"/content/gdrive/My Drive/corona/ct_dataset/ct_scan/resised/pos/\"+negnames[0])\n",
        "(height, width,_ )= img.shape\n",
        "\n",
        "# Cut the image in half\n",
        "width_cutoff = width // 2\n",
        "s1 = img[:, :width_cutoff]\n",
        "s2 = img[:, width_cutoff:]\n",
        "\n"
      ],
      "execution_count": 0,
      "outputs": []
    },
    {
      "cell_type": "code",
      "metadata": {
        "id": "0O4qibLKsS83",
        "colab_type": "code",
        "colab": {}
      },
      "source": [
        "negnames_ct=pd.read_excel('/content/gdrive/My Drive/corona/ct_dataset/ct_scan/negnames.xlsx')\n",
        "posnames_ct=pd.read_excel('/content/gdrive/My Drive/corona/ct_dataset/ct_scan/posnames.xlsx')"
      ],
      "execution_count": 0,
      "outputs": []
    },
    {
      "cell_type": "code",
      "metadata": {
        "id": "7AZ3GG0Ssr5g",
        "colab_type": "code",
        "colab": {}
      },
      "source": [
        "negnames=list(negnames_ct.Name)\n",
        "posnames=list(posnames_ct.Column1)"
      ],
      "execution_count": 0,
      "outputs": []
    },
    {
      "cell_type": "code",
      "metadata": {
        "id": "W3PRVa5VusyY",
        "colab_type": "code",
        "outputId": "e3703926-82b5-4047-9e63-893b5ec26b28",
        "colab": {
          "base_uri": "https://localhost:8080/",
          "height": 34
        }
      },
      "source": [
        "len(negnames)\n",
        "len(posnames)"
      ],
      "execution_count": 0,
      "outputs": [
        {
          "output_type": "execute_result",
          "data": {
            "text/plain": [
              "116"
            ]
          },
          "metadata": {
            "tags": []
          },
          "execution_count": 10
        }
      ]
    },
    {
      "cell_type": "code",
      "metadata": {
        "id": "-GI-sGKAnjy0",
        "colab_type": "code",
        "colab": {}
      },
      "source": [
        "import os.path\n",
        "\n",
        "x=0\n",
        "\n",
        "def image_neg_halver(filenames):\n",
        "  for path in filenames:\n",
        "    path1=\"/content/gdrive/My Drive/corona/ct_dataset/ct_scan/resised/neg/\"+path\n",
        "    if os.path.exists(path1):\n",
        "     print(path)\n",
        "     img = cv2.imread(path1)\n",
        "     (height, width,_ )= img.shape\n",
        "     width_cutoff = width // 2\n",
        "     s1 = img[:, :width_cutoff]\n",
        "     s2 = img[:, width_cutoff:]\n",
        "     cv2.imwrite('/content/gdrive/My Drive/corona/ct_dataset/res_halved/res_neg/'+path[:-3]+\"_a\"+path[-4:],s1)\n",
        "     cv2.imwrite('/content/gdrive/My Drive/corona/ct_dataset/res_halved/res_neg/'+path[:-3]+\"_b\"+path[-4:],s2)\n",
        "    else:  print(x)\n",
        "  return True"
      ],
      "execution_count": 0,
      "outputs": []
    },
    {
      "cell_type": "code",
      "metadata": {
        "id": "Xs05EKeF05cc",
        "colab_type": "code",
        "outputId": "2658ac23-f16b-4b10-d6f7-efc26770a10d",
        "colab": {
          "base_uri": "https://localhost:8080/",
          "height": 1000
        }
      },
      "source": [
        "image_neg_halver(negnames)"
      ],
      "execution_count": 0,
      "outputs": [
        {
          "output_type": "stream",
          "text": [
            "1070.png\n",
            "1093.png\n",
            "1098.png\n",
            "1099.png\n",
            "10_0.jpg\n",
            "1115.png\n",
            "112.png\n",
            "11_2.jpg\n",
            "120.png\n",
            "1212.png\n",
            "1216.png\n",
            "1218.png\n",
            "1221.png\n",
            "1238.png\n",
            "1239.png\n",
            "1261.png\n",
            "1277.png\n",
            "1297.png\n",
            "1328.png\n",
            "1330.png\n",
            "1333.png\n",
            "1428.png\n",
            "1497.png\n",
            "14_2.jpg\n",
            "1561.png\n",
            "1577.png\n",
            "158.png\n",
            "15_3.jpg\n",
            "166.png\n",
            "176.png\n",
            "177.png\n",
            "17_0.jpg\n",
            "1814.png\n",
            "1857.png\n",
            "1868.png\n",
            "1876.png\n",
            "1889.png\n",
            "1919.png\n",
            "1920.png\n",
            "1922.png\n",
            "1923.png\n",
            "1952.png\n",
            "2007.png\n",
            "2039.png\n",
            "2140.png\n",
            "21_0.jpg\n",
            "2237.png\n",
            "226.png\n",
            "227.png\n",
            "2341.png\n",
            "25_3.jpg\n",
            "26.png\n",
            "27.jpg\n",
            "29_0.jpg\n",
            "29_1.jpg\n",
            "3.jpg\n",
            "30_3.jpg\n",
            "31.jpg\n",
            "32_0.jpg\n",
            "32_1.jpg\n",
            "33.png\n",
            "354.png\n",
            "361.png\n",
            "36_1.jpg\n",
            "378.png\n",
            "37_4.jpg\n",
            "385.png\n",
            "39_0.jpg\n",
            "39_3.jpg\n",
            "39_4.jpg\n",
            "39_6.jpg\n",
            "39_7.jpg\n",
            "40_0.jpg\n",
            "412.png\n",
            "452.png\n",
            "47.jpg\n",
            "486.png\n",
            "52_1.jpg\n",
            "54_2.jpg\n",
            "575.png\n",
            "578.png\n",
            "579.png\n",
            "580.png\n",
            "590.png\n",
            "591.png\n",
            "592.png\n",
            "59_0.jpg\n",
            "60.jpg\n",
            "62.jpg\n",
            "63_1.jpg\n",
            "63_6.jpg\n",
            "658.png\n",
            "660.png\n",
            "661.png\n",
            "662.png\n",
            "69_0.jpg\n",
            "6_0.jpg\n",
            "70_0.jpg\n",
            "70_1.jpg\n",
            "71_0.jpg\n",
            "71_1.jpg\n",
            "74.jpg\n",
            "782.png\n",
            "80_1.jpg\n",
            "81_0.jpg\n",
            "81_2.jpg\n",
            "82.png\n",
            "82_2.jpg\n",
            "84_3.jpg\n",
            "85_0.jpg\n",
            "86.jpg\n",
            "88.jpg\n",
            "890.png\n",
            "91_1.jpg\n",
            "921.png\n",
            "956.png\n"
          ],
          "name": "stdout"
        },
        {
          "output_type": "execute_result",
          "data": {
            "text/plain": [
              "True"
            ]
          },
          "metadata": {
            "tags": []
          },
          "execution_count": 12
        }
      ]
    },
    {
      "cell_type": "code",
      "metadata": {
        "id": "Z5WtoF2Znj4w",
        "colab_type": "code",
        "colab": {}
      },
      "source": [
        "import os.path\n",
        "\n",
        "def image_pos_halver(filenames):\n",
        "  for path in filenames:\n",
        "    path1=\"/content/gdrive/My Drive/corona/ct_dataset/ct_scan/resised/pos/\"+path\n",
        "    if os.path.exists(path1):\n",
        "     img = cv2.imread(path1)\n",
        "     (height, width,_ )= img.shape\n",
        "     width_cutoff = width // 2\n",
        "     s1 = img[:, :width_cutoff]\n",
        "     s2 = img[:, width_cutoff:]\n",
        "     cv2.imwrite('/content/gdrive/My Drive/corona/ct_dataset/res_halved/res_pos/'+str(path[:-3])+\"_a\"+str(path[-4:]),s1)\n",
        "     cv2.imwrite('/content/gdrive/My Drive/corona/ct_dataset/res_halved/res_pos/'+str(path[:-3])+\"_b\"+str(path[-4:]),s2)\n",
        "    else: print(x) \n",
        "  return True"
      ],
      "execution_count": 0,
      "outputs": []
    },
    {
      "cell_type": "code",
      "metadata": {
        "id": "7ykdav9l99Ya",
        "colab_type": "code",
        "outputId": "2159b8f1-e551-48cc-8cca-6a0375d64627",
        "colab": {
          "base_uri": "https://localhost:8080/",
          "height": 34
        }
      },
      "source": [
        "image_pos_halver(posnames)"
      ],
      "execution_count": 0,
      "outputs": [
        {
          "output_type": "execute_result",
          "data": {
            "text/plain": [
              "True"
            ]
          },
          "metadata": {
            "tags": []
          },
          "execution_count": 27
        }
      ]
    },
    {
      "cell_type": "code",
      "metadata": {
        "id": "JGlOvlqi3-ng",
        "colab_type": "code",
        "outputId": "d3d3ddf7-ff42-40ad-fb98-484124d3ecf6",
        "colab": {
          "base_uri": "https://localhost:8080/",
          "height": 34
        }
      },
      "source": [
        "posnames[0]"
      ],
      "execution_count": 0,
      "outputs": [
        {
          "output_type": "execute_result",
          "data": {
            "text/plain": [
              "'2019-novel-Coronavirus-severe-adult-respiratory-dist_2020_International-Jour-p3-89_0.png'"
            ]
          },
          "metadata": {
            "tags": []
          },
          "execution_count": 18
        }
      ]
    },
    {
      "cell_type": "code",
      "metadata": {
        "id": "c0in1bAbT5md",
        "colab_type": "code",
        "colab": {}
      },
      "source": [
        ""
      ],
      "execution_count": 0,
      "outputs": []
    },
    {
      "cell_type": "code",
      "metadata": {
        "id": "O1Suisk_2929",
        "colab_type": "code",
        "colab": {}
      },
      "source": [
        ""
      ],
      "execution_count": 0,
      "outputs": []
    },
    {
      "cell_type": "markdown",
      "metadata": {
        "id": "UKWR0tvSQY4y",
        "colab_type": "text"
      },
      "source": [
        "The modelling procedures and protocols were performed here are quite similar to those done in the previous notebook. Various options for modelling was explored."
      ]
    },
    {
      "cell_type": "code",
      "metadata": {
        "id": "hSTvCyq929wb",
        "colab_type": "code",
        "colab": {}
      },
      "source": [
        "import numpy as np\n",
        "import pandas as pd\n",
        "import matplotlib.pyplot as plt\n",
        "%matplotlib inline\n",
        "import torch\n",
        "import torchvision\n",
        "import cv2\n",
        "from PIL import Image"
      ],
      "execution_count": 0,
      "outputs": []
    },
    {
      "cell_type": "code",
      "metadata": {
        "id": "iTgzXuh1qhOw",
        "colab_type": "code",
        "outputId": "173404f4-c854-4fc3-f1b0-123560dd2dbe",
        "colab": {
          "base_uri": "https://localhost:8080/",
          "height": 121
        }
      },
      "source": [
        "from google.colab import drive\n",
        "drive.mount('/content/gdrive', force_remount=True)"
      ],
      "execution_count": 0,
      "outputs": [
        {
          "output_type": "stream",
          "text": [
            "Go to this URL in a browser: https://accounts.google.com/o/oauth2/auth?client_id=947318989803-6bn6qk8qdgf4n4g3pfee6491hc0brc4i.apps.googleusercontent.com&redirect_uri=urn%3aietf%3awg%3aoauth%3a2.0%3aoob&response_type=code&scope=email%20https%3a%2f%2fwww.googleapis.com%2fauth%2fdocs.test%20https%3a%2f%2fwww.googleapis.com%2fauth%2fdrive%20https%3a%2f%2fwww.googleapis.com%2fauth%2fdrive.photos.readonly%20https%3a%2f%2fwww.googleapis.com%2fauth%2fpeopleapi.readonly\n",
            "\n",
            "Enter your authorization code:\n",
            "··········\n",
            "Mounted at /content/gdrive\n"
          ],
          "name": "stdout"
        }
      ]
    },
    {
      "cell_type": "code",
      "metadata": {
        "id": "ZKu2AzYG0gr0",
        "colab_type": "code",
        "colab": {}
      },
      "source": [
        "from torchvision import transforms\n",
        "TRANSFORM_IMG = transforms.Compose([\n",
        "    transforms.Resize(224),\n",
        "    transforms.CenterCrop(224),\n",
        "    transforms.ToTensor(),transforms.Normalize(mean=[0.485, 0.456, 0.406],\n",
        "              std=[0.229, 0.224, 0.225])])\n",
        "path3=\"/content/gdrive/My Drive/corona/ct_dataset/res_halved/\"\n",
        "\n",
        "\n",
        "\n",
        "data=torchvision.datasets.ImageFolder(path3,transform=TRANSFORM_IMG)"
      ],
      "execution_count": 0,
      "outputs": []
    },
    {
      "cell_type": "code",
      "metadata": {
        "id": "LilKAnD9020Q",
        "colab_type": "code",
        "outputId": "b9327280-bb39-495f-9880-c7c65dccf698",
        "colab": {
          "base_uri": "https://localhost:8080/",
          "height": 185
        }
      },
      "source": [
        "data\n"
      ],
      "execution_count": 0,
      "outputs": [
        {
          "output_type": "execute_result",
          "data": {
            "text/plain": [
              "Dataset ImageFolder\n",
              "    Number of datapoints: 464\n",
              "    Root location: /content/gdrive/My Drive/corona/ct_dataset/res_halved/\n",
              "    StandardTransform\n",
              "Transform: Compose(\n",
              "               Resize(size=224, interpolation=PIL.Image.BILINEAR)\n",
              "               CenterCrop(size=(224, 224))\n",
              "               ToTensor()\n",
              "               Normalize(mean=[0.485, 0.456, 0.406], std=[0.229, 0.224, 0.225])\n",
              "           )"
            ]
          },
          "metadata": {
            "tags": []
          },
          "execution_count": 5
        }
      ]
    },
    {
      "cell_type": "code",
      "metadata": {
        "id": "EbMxw7Sl023t",
        "colab_type": "code",
        "outputId": "3eb366af-afc5-4fc5-dc22-d24d6c24c3e9",
        "colab": {
          "base_uri": "https://localhost:8080/",
          "height": 34
        }
      },
      "source": [
        "data.class_to_idx"
      ],
      "execution_count": 0,
      "outputs": [
        {
          "output_type": "execute_result",
          "data": {
            "text/plain": [
              "{'res_neg': 0, 'res_pos': 1}"
            ]
          },
          "metadata": {
            "tags": []
          },
          "execution_count": 6
        }
      ]
    },
    {
      "cell_type": "code",
      "metadata": {
        "id": "lHYLB72R0283",
        "colab_type": "code",
        "outputId": "c92c3df5-361e-4552-876a-cc8c7afa62e0",
        "colab": {
          "base_uri": "https://localhost:8080/",
          "height": 50
        }
      },
      "source": [
        "pos=0\n",
        "neg=0\n",
        "\n",
        "for i in range(0,464):\n",
        "  (_,target)=data.__getitem__(i)\n",
        "  if target==1 : pos=pos+1\n",
        "  else: neg=neg+1\n",
        "print(pos)\n",
        "print(neg)"
      ],
      "execution_count": 0,
      "outputs": [
        {
          "output_type": "stream",
          "text": [
            "232\n",
            "232\n"
          ],
          "name": "stdout"
        }
      ]
    },
    {
      "cell_type": "code",
      "metadata": {
        "id": "g4-YdMKN0gu0",
        "colab_type": "code",
        "colab": {}
      },
      "source": [
        "train,test =torch.utils.data.random_split(data, [384,80])\n"
      ],
      "execution_count": 0,
      "outputs": []
    },
    {
      "cell_type": "code",
      "metadata": {
        "id": "-hkEkHDD16VJ",
        "colab_type": "code",
        "colab": {}
      },
      "source": [
        "dataloaders = {\n",
        "    'train':\n",
        "    torch.utils.data.DataLoader(train,\n",
        "                                batch_size=32,\n",
        "                                shuffle=True,\n",
        "                                num_workers=0,\n",
        "                                drop_last=True),  \n",
        "    'validation':\n",
        "    torch.utils.data.DataLoader(test,\n",
        "                                batch_size=80,\n",
        "                                shuffle=False,\n",
        "                                num_workers=0,\n",
        "                                drop_last=False)  \n",
        "}"
      ],
      "execution_count": 0,
      "outputs": []
    },
    {
      "cell_type": "code",
      "metadata": {
        "id": "SB3qyyv-16af",
        "colab_type": "code",
        "outputId": "7512e440-f6f8-4de3-8a25-11b887fde1ba",
        "colab": {
          "base_uri": "https://localhost:8080/",
          "height": 34
        }
      },
      "source": [
        "# Iterate through the dataloader once\n",
        "trainiter = iter(dataloaders['train'])\n",
        "features, labels = next(trainiter)\n",
        "features.shape, labels.shape"
      ],
      "execution_count": 0,
      "outputs": [
        {
          "output_type": "execute_result",
          "data": {
            "text/plain": [
              "(torch.Size([32, 3, 224, 224]), torch.Size([32]))"
            ]
          },
          "metadata": {
            "tags": []
          },
          "execution_count": 10
        }
      ]
    },
    {
      "cell_type": "code",
      "metadata": {
        "id": "NDpo1Wkv16fh",
        "colab_type": "code",
        "outputId": "42a76c4d-a790-4ab3-ee22-81a544c1eeaa",
        "colab": {
          "base_uri": "https://localhost:8080/",
          "height": 34
        }
      },
      "source": [
        "device = torch.device(\"cuda:0\" if torch.cuda.is_available() else \"cpu\")\n",
        "print(device)"
      ],
      "execution_count": 0,
      "outputs": [
        {
          "output_type": "stream",
          "text": [
            "cuda:0\n"
          ],
          "name": "stdout"
        }
      ]
    },
    {
      "cell_type": "code",
      "metadata": {
        "id": "6VyB6Jqc16ko",
        "colab_type": "code",
        "colab": {}
      },
      "source": [
        "import torchvision.models as models\n",
        "import torch.nn as nn\n",
        "\n",
        "model = models.resnet18(pretrained=True).to(device)"
      ],
      "execution_count": 0,
      "outputs": []
    },
    {
      "cell_type": "code",
      "metadata": {
        "id": "KIOgPsWqEg2M",
        "colab_type": "code",
        "outputId": "092d74fd-a0b7-4ff4-e18c-9fe36d7f4a2b",
        "colab": {
          "base_uri": "https://localhost:8080/",
          "height": 1000
        }
      },
      "source": [
        "model"
      ],
      "execution_count": 0,
      "outputs": [
        {
          "output_type": "execute_result",
          "data": {
            "text/plain": [
              "ResNet(\n",
              "  (conv1): Conv2d(3, 64, kernel_size=(7, 7), stride=(2, 2), padding=(3, 3), bias=False)\n",
              "  (bn1): BatchNorm2d(64, eps=1e-05, momentum=0.1, affine=True, track_running_stats=True)\n",
              "  (relu): ReLU(inplace=True)\n",
              "  (maxpool): MaxPool2d(kernel_size=3, stride=2, padding=1, dilation=1, ceil_mode=False)\n",
              "  (layer1): Sequential(\n",
              "    (0): BasicBlock(\n",
              "      (conv1): Conv2d(64, 64, kernel_size=(3, 3), stride=(1, 1), padding=(1, 1), bias=False)\n",
              "      (bn1): BatchNorm2d(64, eps=1e-05, momentum=0.1, affine=True, track_running_stats=True)\n",
              "      (relu): ReLU(inplace=True)\n",
              "      (conv2): Conv2d(64, 64, kernel_size=(3, 3), stride=(1, 1), padding=(1, 1), bias=False)\n",
              "      (bn2): BatchNorm2d(64, eps=1e-05, momentum=0.1, affine=True, track_running_stats=True)\n",
              "    )\n",
              "    (1): BasicBlock(\n",
              "      (conv1): Conv2d(64, 64, kernel_size=(3, 3), stride=(1, 1), padding=(1, 1), bias=False)\n",
              "      (bn1): BatchNorm2d(64, eps=1e-05, momentum=0.1, affine=True, track_running_stats=True)\n",
              "      (relu): ReLU(inplace=True)\n",
              "      (conv2): Conv2d(64, 64, kernel_size=(3, 3), stride=(1, 1), padding=(1, 1), bias=False)\n",
              "      (bn2): BatchNorm2d(64, eps=1e-05, momentum=0.1, affine=True, track_running_stats=True)\n",
              "    )\n",
              "  )\n",
              "  (layer2): Sequential(\n",
              "    (0): BasicBlock(\n",
              "      (conv1): Conv2d(64, 128, kernel_size=(3, 3), stride=(2, 2), padding=(1, 1), bias=False)\n",
              "      (bn1): BatchNorm2d(128, eps=1e-05, momentum=0.1, affine=True, track_running_stats=True)\n",
              "      (relu): ReLU(inplace=True)\n",
              "      (conv2): Conv2d(128, 128, kernel_size=(3, 3), stride=(1, 1), padding=(1, 1), bias=False)\n",
              "      (bn2): BatchNorm2d(128, eps=1e-05, momentum=0.1, affine=True, track_running_stats=True)\n",
              "      (downsample): Sequential(\n",
              "        (0): Conv2d(64, 128, kernel_size=(1, 1), stride=(2, 2), bias=False)\n",
              "        (1): BatchNorm2d(128, eps=1e-05, momentum=0.1, affine=True, track_running_stats=True)\n",
              "      )\n",
              "    )\n",
              "    (1): BasicBlock(\n",
              "      (conv1): Conv2d(128, 128, kernel_size=(3, 3), stride=(1, 1), padding=(1, 1), bias=False)\n",
              "      (bn1): BatchNorm2d(128, eps=1e-05, momentum=0.1, affine=True, track_running_stats=True)\n",
              "      (relu): ReLU(inplace=True)\n",
              "      (conv2): Conv2d(128, 128, kernel_size=(3, 3), stride=(1, 1), padding=(1, 1), bias=False)\n",
              "      (bn2): BatchNorm2d(128, eps=1e-05, momentum=0.1, affine=True, track_running_stats=True)\n",
              "    )\n",
              "  )\n",
              "  (layer3): Sequential(\n",
              "    (0): BasicBlock(\n",
              "      (conv1): Conv2d(128, 256, kernel_size=(3, 3), stride=(2, 2), padding=(1, 1), bias=False)\n",
              "      (bn1): BatchNorm2d(256, eps=1e-05, momentum=0.1, affine=True, track_running_stats=True)\n",
              "      (relu): ReLU(inplace=True)\n",
              "      (conv2): Conv2d(256, 256, kernel_size=(3, 3), stride=(1, 1), padding=(1, 1), bias=False)\n",
              "      (bn2): BatchNorm2d(256, eps=1e-05, momentum=0.1, affine=True, track_running_stats=True)\n",
              "      (downsample): Sequential(\n",
              "        (0): Conv2d(128, 256, kernel_size=(1, 1), stride=(2, 2), bias=False)\n",
              "        (1): BatchNorm2d(256, eps=1e-05, momentum=0.1, affine=True, track_running_stats=True)\n",
              "      )\n",
              "    )\n",
              "    (1): BasicBlock(\n",
              "      (conv1): Conv2d(256, 256, kernel_size=(3, 3), stride=(1, 1), padding=(1, 1), bias=False)\n",
              "      (bn1): BatchNorm2d(256, eps=1e-05, momentum=0.1, affine=True, track_running_stats=True)\n",
              "      (relu): ReLU(inplace=True)\n",
              "      (conv2): Conv2d(256, 256, kernel_size=(3, 3), stride=(1, 1), padding=(1, 1), bias=False)\n",
              "      (bn2): BatchNorm2d(256, eps=1e-05, momentum=0.1, affine=True, track_running_stats=True)\n",
              "    )\n",
              "  )\n",
              "  (layer4): Sequential(\n",
              "    (0): BasicBlock(\n",
              "      (conv1): Conv2d(256, 512, kernel_size=(3, 3), stride=(2, 2), padding=(1, 1), bias=False)\n",
              "      (bn1): BatchNorm2d(512, eps=1e-05, momentum=0.1, affine=True, track_running_stats=True)\n",
              "      (relu): ReLU(inplace=True)\n",
              "      (conv2): Conv2d(512, 512, kernel_size=(3, 3), stride=(1, 1), padding=(1, 1), bias=False)\n",
              "      (bn2): BatchNorm2d(512, eps=1e-05, momentum=0.1, affine=True, track_running_stats=True)\n",
              "      (downsample): Sequential(\n",
              "        (0): Conv2d(256, 512, kernel_size=(1, 1), stride=(2, 2), bias=False)\n",
              "        (1): BatchNorm2d(512, eps=1e-05, momentum=0.1, affine=True, track_running_stats=True)\n",
              "      )\n",
              "    )\n",
              "    (1): BasicBlock(\n",
              "      (conv1): Conv2d(512, 512, kernel_size=(3, 3), stride=(1, 1), padding=(1, 1), bias=False)\n",
              "      (bn1): BatchNorm2d(512, eps=1e-05, momentum=0.1, affine=True, track_running_stats=True)\n",
              "      (relu): ReLU(inplace=True)\n",
              "      (conv2): Conv2d(512, 512, kernel_size=(3, 3), stride=(1, 1), padding=(1, 1), bias=False)\n",
              "      (bn2): BatchNorm2d(512, eps=1e-05, momentum=0.1, affine=True, track_running_stats=True)\n",
              "    )\n",
              "  )\n",
              "  (avgpool): AdaptiveAvgPool2d(output_size=(1, 1))\n",
              "  (fc): Linear(in_features=512, out_features=1000, bias=True)\n",
              ")"
            ]
          },
          "metadata": {
            "tags": []
          },
          "execution_count": 172
        }
      ]
    },
    {
      "cell_type": "code",
      "metadata": {
        "id": "qSeMzewe16ir",
        "colab_type": "code",
        "colab": {}
      },
      "source": [
        "ct = 0\n",
        "for child in model.children():\n",
        "  ct += 1\n",
        "  if ct < 4:\n",
        "    for param in child.parameters():\n",
        "        param.requires_grad = False\n",
        "\n",
        "model.fc= nn.Sequential(\n",
        "               nn.Linear(512, 128),\n",
        "               nn.ReLU(inplace=True),\n",
        "               nn.Dropout(p=0.4,inplace=False),\n",
        "               nn.Linear(128, 2)).to(device)"
      ],
      "execution_count": 0,
      "outputs": []
    },
    {
      "cell_type": "code",
      "metadata": {
        "id": "VwKA8lUH16do",
        "colab_type": "code",
        "colab": {}
      },
      "source": [
        "import torch.optim as optim\n",
        "criterion = nn.CrossEntropyLoss()\n",
        "optimizer = optim.Adam(filter(lambda p: p.requires_grad, model.parameters()),lr=0.0001, betas=(0.9, 0.999), eps=1e-08, weight_decay=0.7, amsgrad=False)\n",
        "\n",
        "#optimizer = optim.Adam(model.fc.parameters(),lr=0.000001, betas=(0.9, 0.999), eps=1e-08, weight_decay=0.4, amsgrad=False)\n",
        "\n",
        "#optimizer = optim.SGD(model1.fc.parameters(), lr=0.001, momentum=0,weight_decay=)"
      ],
      "execution_count": 0,
      "outputs": []
    },
    {
      "cell_type": "code",
      "metadata": {
        "id": "7tC_zhHe16YW",
        "colab_type": "code",
        "colab": {}
      },
      "source": [
        "def recall(y_true:torch.Tensor, y_pred:torch.Tensor, is_training=False) -> torch.Tensor:\n",
        "\n",
        "    assert y_true.ndim == 1\n",
        "    assert y_pred.ndim == 1 or y_pred.ndim == 2\n",
        "    \n",
        "    if y_pred.ndim == 2:\n",
        "        y_pred = y_pred.argmax(dim=1)\n",
        "        \n",
        "    \n",
        "    tp = (y_true * y_pred).sum().to(torch.float32)\n",
        "    fn = (y_true * (1 - y_pred)).sum().to(torch.float32)\n",
        "    \n",
        "    epsilon = 1e-7\n",
        "    recall = tp / (tp + fn + epsilon)\n",
        "  \n",
        "    return recall"
      ],
      "execution_count": 0,
      "outputs": []
    },
    {
      "cell_type": "code",
      "metadata": {
        "id": "rfL32aAN0gpX",
        "colab_type": "code",
        "colab": {}
      },
      "source": [
        "def train_model(model, criterion, optimizer, num_epochs):\n",
        "    losses_train_list=[]\n",
        "    losses_test_list=[]\n",
        "    recall_train_list=[]\n",
        "    recall_test_list=[]\n",
        "    for epoch in range(num_epochs):\n",
        "        print('Epoch {}/{}'.format(epoch+1, num_epochs))\n",
        "        print('-' * 10)\n",
        "\n",
        "        for phase in ['train', 'validation']:\n",
        "            if phase == 'train':\n",
        "                model.train()\n",
        "            else:\n",
        "                model.eval()\n",
        "\n",
        "            running_loss = 0.0\n",
        "            running_corrects = 0\n",
        "\n",
        "            for inputs, labels in dataloaders[phase]:\n",
        "                inputs = inputs.to(device)\n",
        "                labels = labels.to(device)\n",
        "\n",
        "                outputs = model(inputs)\n",
        "                loss = criterion(outputs, labels)\n",
        "\n",
        "                if phase == 'train':\n",
        "                    optimizer.zero_grad()\n",
        "                    loss.backward()\n",
        "                    optimizer.step()\n",
        "                _, preds = torch.max(outputs, 1)\n",
        "                running_loss += loss.item() * inputs.size(0)\n",
        "                running_corrects += torch.sum(preds == labels.data)\n",
        "            if phase=='train':\n",
        "                           epoch_loss = running_loss /384\n",
        "                           epoch_acc = running_corrects.double() /384\n",
        "                           print('train recall score is : {}'.format(recall(labels.data.to('cpu'), outputs.data.to('cpu'))))\n",
        "                           losses_train_list.append(epoch_loss)\n",
        "                           recall_train_list.append(recall(labels.data.to('cpu'), outputs.data.to('cpu')))\n",
        "\n",
        "\n",
        "            else: \n",
        "                           epoch_loss = running_loss /80\n",
        "                           epoch_acc = running_corrects.double() /80\n",
        "                           print('valid recall score is : {}'.format(recall(labels.data.to('cpu'), outputs.data.to('cpu'))))\n",
        "                           losses_test_list.append(epoch_loss)\n",
        "                           recall_test_list.append(recall(labels.data.to('cpu'), outputs.data.to('cpu')))\n",
        "\n",
        "\n",
        "\n",
        "            print('{} loss: {:.4f}, acc: {:.4f}'.format(phase,\n",
        "                                                        epoch_loss,\n",
        "                                                        epoch_acc))\n",
        "\n",
        "\n",
        "    return model,losses_train_list,losses_test_list,recall_train_list,recall_test_list"
      ],
      "execution_count": 0,
      "outputs": []
    },
    {
      "cell_type": "code",
      "metadata": {
        "id": "LW4nKnmf2gcU",
        "colab_type": "code",
        "outputId": "94f69699-cd81-4c94-e152-c2d7304d96a3",
        "colab": {
          "base_uri": "https://localhost:8080/",
          "height": 118
        }
      },
      "source": [
        "model_trained1,a1,b1,c1,d1= train_model(model_trained1, criterion, optimizer, num_epochs=1)\n"
      ],
      "execution_count": 0,
      "outputs": [
        {
          "output_type": "stream",
          "text": [
            "Epoch 1/1\n",
            "----------\n",
            "train recall score is : 1.0\n",
            "train loss: 0.1589, acc: 0.9766\n",
            "valid recall score is : 0.9777777791023254\n",
            "validation loss: 0.1383, acc: 0.9750\n"
          ],
          "name": "stdout"
        }
      ]
    },
    {
      "cell_type": "code",
      "metadata": {
        "id": "CyFJqQIb2ghh",
        "colab_type": "code",
        "outputId": "caeb10fb-8aa3-4247-eabe-7a5941818f99",
        "colab": {
          "base_uri": "https://localhost:8080/",
          "height": 404
        }
      },
      "source": [
        "import matplotlib.pyplot as plt\n",
        "plt.figure(figsize=(8, 6))\n",
        "plt.plot(a1,label='train_loss')\n",
        "plt.plot(b1,label='test_loss')\n",
        "plt.plot(c1,label='train_rec')\n",
        "plt.plot(d1,label='test_rec')\n",
        "\n",
        "\n",
        "plt.xlabel(\"epochs\")\n",
        "plt.ylabel(\"value\")\n",
        "plt.title(\"train versus val plot\")\n",
        "\n",
        "plt.legend()\n",
        "plt.show()"
      ],
      "execution_count": 0,
      "outputs": [
        {
          "output_type": "display_data",
          "data": {
            "image/png": "[encoded data removed]",
            "text/plain": [
              "<Figure size 576x432 with 1 Axes>"
            ]
          },
          "metadata": {
            "tags": [],
            "needs_background": "light"
          }
        }
      ]
    },
    {
      "cell_type": "code",
      "metadata": {
        "id": "gbLbnsFa2gtt",
        "colab_type": "code",
        "colab": {}
      },
      "source": [
        "#torch.save(model_trained1.state_dict(), '/content/gdrive/My Drive/corona/ct_dataset/halved.h5')\n"
      ],
      "execution_count": 0,
      "outputs": []
    },
    {
      "cell_type": "code",
      "metadata": {
        "id": "uzRF83t42gwg",
        "colab_type": "code",
        "colab": {}
      },
      "source": [
        "#torch.save(model_trained1,'/content/gdrive/My Drive/corona/ct_dataset/best.pt')"
      ],
      "execution_count": 0,
      "outputs": []
    },
    {
      "cell_type": "code",
      "metadata": {
        "id": "l5pZiuTu2grv",
        "colab_type": "code",
        "colab": {}
      },
      "source": [
        ""
      ],
      "execution_count": 0,
      "outputs": []
    },
    {
      "cell_type": "code",
      "metadata": {
        "id": "JCGPTuuQkyXo",
        "colab_type": "code",
        "colab": {}
      },
      "source": [
        ""
      ],
      "execution_count": 0,
      "outputs": []
    },
    {
      "cell_type": "code",
      "metadata": {
        "id": "tEUuJLdVkymL",
        "colab_type": "code",
        "colab": {}
      },
      "source": [
        "import numpy as np\n",
        "import pandas as pd\n",
        "import matplotlib.pyplot as plt\n",
        "%matplotlib inline\n",
        "import torch\n",
        "import torchvision\n",
        "import cv2\n",
        "from PIL import Image"
      ],
      "execution_count": 0,
      "outputs": []
    },
    {
      "cell_type": "code",
      "metadata": {
        "id": "p4Ip5NjLkyVZ",
        "colab_type": "code",
        "outputId": "da2e14a4-1a76-4400-c1b2-274bae8e0945",
        "colab": {
          "base_uri": "https://localhost:8080/",
          "height": 34
        }
      },
      "source": [
        "from google.colab import drive\n",
        "drive.mount('/content/gdrive', force_remount=True)"
      ],
      "execution_count": 0,
      "outputs": [
        {
          "output_type": "stream",
          "text": [
            "Mounted at /content/gdrive\n"
          ],
          "name": "stdout"
        }
      ]
    },
    {
      "cell_type": "code",
      "metadata": {
        "id": "8B3whsUM2gow",
        "colab_type": "code",
        "outputId": "4559b74e-3949-4531-aa5e-c31ac8e79762",
        "colab": {
          "base_uri": "https://localhost:8080/",
          "height": 151
        }
      },
      "source": [
        "pip install Augmentor"
      ],
      "execution_count": 0,
      "outputs": [
        {
          "output_type": "stream",
          "text": [
            "Collecting Augmentor\n",
            "  Downloading https://files.pythonhosted.org/packages/cb/79/861f38d5830cff631e30e33b127076bfef8ac98171e51daa06df0118c75f/Augmentor-0.2.8-py2.py3-none-any.whl\n",
            "Requirement already satisfied: future>=0.16.0 in /usr/local/lib/python3.6/dist-packages (from Augmentor) (0.16.0)\n",
            "Requirement already satisfied: numpy>=1.11.0 in /usr/local/lib/python3.6/dist-packages (from Augmentor) (1.18.3)\n",
            "Requirement already satisfied: Pillow>=5.2.0 in /usr/local/lib/python3.6/dist-packages (from Augmentor) (7.0.0)\n",
            "Requirement already satisfied: tqdm>=4.9.0 in /usr/local/lib/python3.6/dist-packages (from Augmentor) (4.38.0)\n",
            "Installing collected packages: Augmentor\n",
            "Successfully installed Augmentor-0.2.8\n"
          ],
          "name": "stdout"
        }
      ]
    },
    {
      "cell_type": "code",
      "metadata": {
        "id": "VzAt_Z8_e0C3",
        "colab_type": "code",
        "outputId": "bab0f872-c3ea-4ab2-d254-532061c6dca9",
        "colab": {
          "base_uri": "https://localhost:8080/",
          "height": 70
        }
      },
      "source": [
        "import Augmentor\n",
        "p = Augmentor.Pipeline(source_directory=\"/content/gdrive/My Drive/corona/ct_dataset/res_halved/res_pos/\",output_directory=\"/content/gdrive/My Drive/corona/ct_dataset/new/posn/\")\n",
        "p.flip_top_bottom(probability=0.1)\n",
        "p.rotate(probability=0.1, max_left_rotation=5, max_right_rotation=5)\n",
        "p.zoom_random(probability=0.1, percentage_area=0.95)\n",
        "p.sample(500)"
      ],
      "execution_count": 0,
      "outputs": [
        {
          "output_type": "stream",
          "text": [
            "\rExecuting Pipeline:   0%|          | 0/500 [00:00<?, ? Samples/s]"
          ],
          "name": "stderr"
        },
        {
          "output_type": "stream",
          "text": [
            "Initialised with 232 image(s) found.\n",
            "Output directory set to /content/gdrive/My Drive/corona/ct_dataset/new/posn/."
          ],
          "name": "stdout"
        },
        {
          "output_type": "stream",
          "text": [
            "Processing <PIL.Image.Image image mode=RGB size=284x378 at 0x7EFBBCE2AFD0>: 100%|██████████| 500/500 [00:17<00:00, 28.46 Samples/s]\n"
          ],
          "name": "stderr"
        }
      ]
    },
    {
      "cell_type": "code",
      "metadata": {
        "id": "uf3dM9kSe0IT",
        "colab_type": "code",
        "outputId": "2543471b-83d4-426b-cd90-01714f97299d",
        "colab": {
          "base_uri": "https://localhost:8080/",
          "height": 70
        }
      },
      "source": [
        "p1 = Augmentor.Pipeline(source_directory=\"/content/gdrive/My Drive/corona/ct_dataset/res_halved/res_neg/\",output_directory=\"/content/gdrive/My Drive/corona/ct_dataset/new/negn/\")\n",
        "p1.flip_top_bottom(probability=0.1)\n",
        "p.rotate(probability=0.1, max_left_rotation=5, max_right_rotation=5)\n",
        "p1.zoom_random(probability=0.1, percentage_area=0.95)\n",
        "p1.sample(500)"
      ],
      "execution_count": 0,
      "outputs": [
        {
          "output_type": "stream",
          "text": [
            "\rExecuting Pipeline:   0%|          | 0/500 [00:00<?, ? Samples/s]"
          ],
          "name": "stderr"
        },
        {
          "output_type": "stream",
          "text": [
            "Initialised with 232 image(s) found.\n",
            "Output directory set to /content/gdrive/My Drive/corona/ct_dataset/new/negn/."
          ],
          "name": "stdout"
        },
        {
          "output_type": "stream",
          "text": [
            "Processing <PIL.JpegImagePlugin.JpegImageFile image mode=RGB size=197x276 at 0x7EFBC2C83630>: 100%|██████████| 500/500 [00:11<00:00, 44.61 Samples/s]\n"
          ],
          "name": "stderr"
        }
      ]
    },
    {
      "cell_type": "code",
      "metadata": {
        "id": "iNjKT9kwe0L8",
        "colab_type": "code",
        "colab": {}
      },
      "source": [
        "from torchvision import transforms\n",
        "TRANSFORM_IMG = transforms.Compose([\n",
        "    transforms.Resize(256),\n",
        "    transforms.CenterCrop(224),\n",
        "    transforms.ToTensor(),transforms.Normalize(mean=[0.485, 0.456, 0.406],\n",
        "              std=[0.229, 0.224, 0.225])])\n",
        "path3=\"/content/gdrive/My Drive/corona/ct_dataset/new/\"\n",
        "\n",
        "\n",
        "\n",
        "data=torchvision.datasets.ImageFolder(path3,transform=TRANSFORM_IMG)"
      ],
      "execution_count": 0,
      "outputs": []
    },
    {
      "cell_type": "code",
      "metadata": {
        "id": "bFJVVnOhe0RE",
        "colab_type": "code",
        "outputId": "b1b37aa1-c4fe-4b3c-f360-43b6ca6f8352",
        "colab": {
          "base_uri": "https://localhost:8080/",
          "height": 185
        }
      },
      "source": [
        "data"
      ],
      "execution_count": 0,
      "outputs": [
        {
          "output_type": "execute_result",
          "data": {
            "text/plain": [
              "Dataset ImageFolder\n",
              "    Number of datapoints: 1000\n",
              "    Root location: /content/gdrive/My Drive/corona/ct_dataset/new/\n",
              "    StandardTransform\n",
              "Transform: Compose(\n",
              "               Resize(size=256, interpolation=PIL.Image.BILINEAR)\n",
              "               CenterCrop(size=(224, 224))\n",
              "               ToTensor()\n",
              "               Normalize(mean=[0.485, 0.456, 0.406], std=[0.229, 0.224, 0.225])\n",
              "           )"
            ]
          },
          "metadata": {
            "tags": []
          },
          "execution_count": 5
        }
      ]
    },
    {
      "cell_type": "code",
      "metadata": {
        "id": "uQZ9Q8wre0Ui",
        "colab_type": "code",
        "outputId": "1b42c605-5938-4a7e-aa79-20ef0f6f5980",
        "colab": {
          "base_uri": "https://localhost:8080/",
          "height": 34
        }
      },
      "source": [
        "data.class_to_idx"
      ],
      "execution_count": 0,
      "outputs": [
        {
          "output_type": "execute_result",
          "data": {
            "text/plain": [
              "{'negn': 0, 'posn': 1}"
            ]
          },
          "metadata": {
            "tags": []
          },
          "execution_count": 4
        }
      ]
    },
    {
      "cell_type": "code",
      "metadata": {
        "id": "gXN6o8p4e0Yo",
        "colab_type": "code",
        "colab": {}
      },
      "source": [
        "pos=0\n",
        "neg=0\n",
        "\n",
        "for i in range(0,2500):\n",
        "  (_,target)=data.__getitem__(i)\n",
        "  if target==1 : pos=pos+1\n",
        "  else: neg=neg+1\n",
        "print(pos)\n",
        "print(neg)"
      ],
      "execution_count": 0,
      "outputs": []
    },
    {
      "cell_type": "code",
      "metadata": {
        "id": "w3oJU6Xze0AO",
        "colab_type": "code",
        "colab": {}
      },
      "source": [
        "train,test =torch.utils.data.random_split(data, [800,200])\n"
      ],
      "execution_count": 0,
      "outputs": []
    },
    {
      "cell_type": "code",
      "metadata": {
        "id": "z05XOvmYez9U",
        "colab_type": "code",
        "colab": {}
      },
      "source": [
        "dataloaders = {\n",
        "    'train':\n",
        "    torch.utils.data.DataLoader(train,\n",
        "                                batch_size=32,\n",
        "                                shuffle=True,\n",
        "                                num_workers=0,\n",
        "                                drop_last=True),  \n",
        "    'validation':\n",
        "    torch.utils.data.DataLoader(test,\n",
        "                                batch_size=10,\n",
        "                                shuffle=False,\n",
        "                                num_workers=0,\n",
        "                                drop_last=False)  \n",
        "}"
      ],
      "execution_count": 0,
      "outputs": []
    },
    {
      "cell_type": "code",
      "metadata": {
        "id": "fX456ciHlAJv",
        "colab_type": "code",
        "outputId": "e99d7336-9b5a-4a00-b49a-53c7a379b853",
        "colab": {
          "base_uri": "https://localhost:8080/",
          "height": 34
        }
      },
      "source": [
        "# Iterate through the dataloader once\n",
        "trainiter = iter(dataloaders['train'])\n",
        "features, labels = next(trainiter)\n",
        "features.shape, labels.shape"
      ],
      "execution_count": 0,
      "outputs": [
        {
          "output_type": "execute_result",
          "data": {
            "text/plain": [
              "(torch.Size([32, 3, 224, 224]), torch.Size([32]))"
            ]
          },
          "metadata": {
            "tags": []
          },
          "execution_count": 8
        }
      ]
    },
    {
      "cell_type": "code",
      "metadata": {
        "id": "78-NaT1JlAR6",
        "colab_type": "code",
        "outputId": "73bbc807-1771-4472-9a6d-e8f2a401756b",
        "colab": {
          "base_uri": "https://localhost:8080/",
          "height": 34
        }
      },
      "source": [
        "device = torch.device(\"cuda:0\" if torch.cuda.is_available() else \"cpu\")\n",
        "print(device)"
      ],
      "execution_count": 0,
      "outputs": [
        {
          "output_type": "stream",
          "text": [
            "cuda:0\n"
          ],
          "name": "stdout"
        }
      ]
    },
    {
      "cell_type": "code",
      "metadata": {
        "id": "wXOG7YHnlAar",
        "colab_type": "code",
        "colab": {}
      },
      "source": [
        "import torchvision.models as models\n",
        "import torch.nn as nn\n",
        "\n",
        "model = models.resnet18(pretrained=False).to(device)"
      ],
      "execution_count": 0,
      "outputs": []
    },
    {
      "cell_type": "code",
      "metadata": {
        "id": "4KEzPH3dlbvE",
        "colab_type": "code",
        "outputId": "158702cf-74b7-4d46-97dc-c56bb1b29374",
        "colab": {
          "base_uri": "https://localhost:8080/",
          "height": 1000
        }
      },
      "source": [
        "model"
      ],
      "execution_count": 0,
      "outputs": [
        {
          "output_type": "execute_result",
          "data": {
            "text/plain": [
              "ResNet(\n",
              "  (conv1): Conv2d(3, 64, kernel_size=(7, 7), stride=(2, 2), padding=(3, 3), bias=False)\n",
              "  (bn1): BatchNorm2d(64, eps=1e-05, momentum=0.1, affine=True, track_running_stats=True)\n",
              "  (relu): ReLU(inplace=True)\n",
              "  (maxpool): MaxPool2d(kernel_size=3, stride=2, padding=1, dilation=1, ceil_mode=False)\n",
              "  (layer1): Sequential(\n",
              "    (0): BasicBlock(\n",
              "      (conv1): Conv2d(64, 64, kernel_size=(3, 3), stride=(1, 1), padding=(1, 1), bias=False)\n",
              "      (bn1): BatchNorm2d(64, eps=1e-05, momentum=0.1, affine=True, track_running_stats=True)\n",
              "      (relu): ReLU(inplace=True)\n",
              "      (conv2): Conv2d(64, 64, kernel_size=(3, 3), stride=(1, 1), padding=(1, 1), bias=False)\n",
              "      (bn2): BatchNorm2d(64, eps=1e-05, momentum=0.1, affine=True, track_running_stats=True)\n",
              "    )\n",
              "    (1): BasicBlock(\n",
              "      (conv1): Conv2d(64, 64, kernel_size=(3, 3), stride=(1, 1), padding=(1, 1), bias=False)\n",
              "      (bn1): BatchNorm2d(64, eps=1e-05, momentum=0.1, affine=True, track_running_stats=True)\n",
              "      (relu): ReLU(inplace=True)\n",
              "      (conv2): Conv2d(64, 64, kernel_size=(3, 3), stride=(1, 1), padding=(1, 1), bias=False)\n",
              "      (bn2): BatchNorm2d(64, eps=1e-05, momentum=0.1, affine=True, track_running_stats=True)\n",
              "    )\n",
              "  )\n",
              "  (layer2): Sequential(\n",
              "    (0): BasicBlock(\n",
              "      (conv1): Conv2d(64, 128, kernel_size=(3, 3), stride=(2, 2), padding=(1, 1), bias=False)\n",
              "      (bn1): BatchNorm2d(128, eps=1e-05, momentum=0.1, affine=True, track_running_stats=True)\n",
              "      (relu): ReLU(inplace=True)\n",
              "      (conv2): Conv2d(128, 128, kernel_size=(3, 3), stride=(1, 1), padding=(1, 1), bias=False)\n",
              "      (bn2): BatchNorm2d(128, eps=1e-05, momentum=0.1, affine=True, track_running_stats=True)\n",
              "      (downsample): Sequential(\n",
              "        (0): Conv2d(64, 128, kernel_size=(1, 1), stride=(2, 2), bias=False)\n",
              "        (1): BatchNorm2d(128, eps=1e-05, momentum=0.1, affine=True, track_running_stats=True)\n",
              "      )\n",
              "    )\n",
              "    (1): BasicBlock(\n",
              "      (conv1): Conv2d(128, 128, kernel_size=(3, 3), stride=(1, 1), padding=(1, 1), bias=False)\n",
              "      (bn1): BatchNorm2d(128, eps=1e-05, momentum=0.1, affine=True, track_running_stats=True)\n",
              "      (relu): ReLU(inplace=True)\n",
              "      (conv2): Conv2d(128, 128, kernel_size=(3, 3), stride=(1, 1), padding=(1, 1), bias=False)\n",
              "      (bn2): BatchNorm2d(128, eps=1e-05, momentum=0.1, affine=True, track_running_stats=True)\n",
              "    )\n",
              "  )\n",
              "  (layer3): Sequential(\n",
              "    (0): BasicBlock(\n",
              "      (conv1): Conv2d(128, 256, kernel_size=(3, 3), stride=(2, 2), padding=(1, 1), bias=False)\n",
              "      (bn1): BatchNorm2d(256, eps=1e-05, momentum=0.1, affine=True, track_running_stats=True)\n",
              "      (relu): ReLU(inplace=True)\n",
              "      (conv2): Conv2d(256, 256, kernel_size=(3, 3), stride=(1, 1), padding=(1, 1), bias=False)\n",
              "      (bn2): BatchNorm2d(256, eps=1e-05, momentum=0.1, affine=True, track_running_stats=True)\n",
              "      (downsample): Sequential(\n",
              "        (0): Conv2d(128, 256, kernel_size=(1, 1), stride=(2, 2), bias=False)\n",
              "        (1): BatchNorm2d(256, eps=1e-05, momentum=0.1, affine=True, track_running_stats=True)\n",
              "      )\n",
              "    )\n",
              "    (1): BasicBlock(\n",
              "      (conv1): Conv2d(256, 256, kernel_size=(3, 3), stride=(1, 1), padding=(1, 1), bias=False)\n",
              "      (bn1): BatchNorm2d(256, eps=1e-05, momentum=0.1, affine=True, track_running_stats=True)\n",
              "      (relu): ReLU(inplace=True)\n",
              "      (conv2): Conv2d(256, 256, kernel_size=(3, 3), stride=(1, 1), padding=(1, 1), bias=False)\n",
              "      (bn2): BatchNorm2d(256, eps=1e-05, momentum=0.1, affine=True, track_running_stats=True)\n",
              "    )\n",
              "  )\n",
              "  (layer4): Sequential(\n",
              "    (0): BasicBlock(\n",
              "      (conv1): Conv2d(256, 512, kernel_size=(3, 3), stride=(2, 2), padding=(1, 1), bias=False)\n",
              "      (bn1): BatchNorm2d(512, eps=1e-05, momentum=0.1, affine=True, track_running_stats=True)\n",
              "      (relu): ReLU(inplace=True)\n",
              "      (conv2): Conv2d(512, 512, kernel_size=(3, 3), stride=(1, 1), padding=(1, 1), bias=False)\n",
              "      (bn2): BatchNorm2d(512, eps=1e-05, momentum=0.1, affine=True, track_running_stats=True)\n",
              "      (downsample): Sequential(\n",
              "        (0): Conv2d(256, 512, kernel_size=(1, 1), stride=(2, 2), bias=False)\n",
              "        (1): BatchNorm2d(512, eps=1e-05, momentum=0.1, affine=True, track_running_stats=True)\n",
              "      )\n",
              "    )\n",
              "    (1): BasicBlock(\n",
              "      (conv1): Conv2d(512, 512, kernel_size=(3, 3), stride=(1, 1), padding=(1, 1), bias=False)\n",
              "      (bn1): BatchNorm2d(512, eps=1e-05, momentum=0.1, affine=True, track_running_stats=True)\n",
              "      (relu): ReLU(inplace=True)\n",
              "      (conv2): Conv2d(512, 512, kernel_size=(3, 3), stride=(1, 1), padding=(1, 1), bias=False)\n",
              "      (bn2): BatchNorm2d(512, eps=1e-05, momentum=0.1, affine=True, track_running_stats=True)\n",
              "    )\n",
              "  )\n",
              "  (avgpool): AdaptiveAvgPool2d(output_size=(1, 1))\n",
              "  (fc): Linear(in_features=512, out_features=1000, bias=True)\n",
              ")"
            ]
          },
          "metadata": {
            "tags": []
          },
          "execution_count": 11
        }
      ]
    },
    {
      "cell_type": "code",
      "metadata": {
        "id": "TKGu7p5nlS07",
        "colab_type": "code",
        "colab": {}
      },
      "source": [
        "ct = 0\n",
        "for child in model.children():\n",
        "  ct += 1\n",
        "  if ct < 1:\n",
        "    for param in child.parameters():\n",
        "        param.requires_grad = False\n"
      ],
      "execution_count": 0,
      "outputs": []
    },
    {
      "cell_type": "code",
      "metadata": {
        "id": "IAp76T5bue3s",
        "colab_type": "code",
        "colab": {}
      },
      "source": [
        "model.fc= nn.Sequential(\n",
        "               nn.Linear(512, 128),\n",
        "               nn.ReLU(inplace=True),\n",
        "               nn.Dropout(p=0.3,inplace=False),\n",
        "               nn.Linear(128, 2)).to(device)"
      ],
      "execution_count": 0,
      "outputs": []
    },
    {
      "cell_type": "code",
      "metadata": {
        "id": "bgqgbQ8FlS5f",
        "colab_type": "code",
        "colab": {}
      },
      "source": [
        "import torch.optim as optim\n",
        "criterion = nn.CrossEntropyLoss()\n",
        "#optimizer = optim.Adam(filter(lambda p: p.requires_grad, model.parameters()),lr=0.0001, betas=(0.9, 0.999), eps=1e-08, weight_decay=0.6, amsgrad=False)\n",
        "\n",
        "optimizer = optim.Adam(model.parameters(),lr=0.000005, betas=(0.9, 0.999), eps=1e-08, weight_decay=0.5, amsgrad=False)\n",
        "\n",
        "#optimizer = optim.SGD(model1.fc.parameters(), lr=0.001, momentum=0,weight_decay=)"
      ],
      "execution_count": 0,
      "outputs": []
    },
    {
      "cell_type": "code",
      "metadata": {
        "id": "WEAd4KJylS-7",
        "colab_type": "code",
        "colab": {}
      },
      "source": [
        "def recall(y_true:torch.Tensor, y_pred:torch.Tensor, is_training=False) -> torch.Tensor:\n",
        "\n",
        "    assert y_true.ndim == 1\n",
        "    assert y_pred.ndim == 1 or y_pred.ndim == 2\n",
        "    \n",
        "    if y_pred.ndim == 2:\n",
        "        y_pred = y_pred.argmax(dim=1)\n",
        "        \n",
        "    \n",
        "    tp = (y_true * y_pred).sum().to(torch.float32)\n",
        "    fn = (y_true * (1 - y_pred)).sum().to(torch.float32)\n",
        "    \n",
        "    epsilon = 1e-7\n",
        "    recall = tp / (tp + fn + epsilon)\n",
        "  \n",
        "    return recall"
      ],
      "execution_count": 0,
      "outputs": []
    },
    {
      "cell_type": "code",
      "metadata": {
        "id": "OdaTBDyxlTDZ",
        "colab_type": "code",
        "colab": {}
      },
      "source": [
        "def train_model(model, criterion, optimizer, num_epochs):\n",
        "    losses_train_list=[]\n",
        "    losses_test_list=[]\n",
        "    recall_train_list=[]\n",
        "    recall_test_list=[]\n",
        "    for epoch in range(num_epochs):\n",
        "        print('Epoch {}/{}'.format(epoch+1, num_epochs))\n",
        "        print('-' * 10)\n",
        "\n",
        "        for phase in ['train', 'validation']:\n",
        "            if phase == 'train':\n",
        "                model.train()\n",
        "            else:\n",
        "                model.eval()\n",
        "\n",
        "            running_loss = 0.0\n",
        "            running_corrects = 0\n",
        "\n",
        "            for inputs, labels in dataloaders[phase]:\n",
        "                inputs = inputs.to(device)\n",
        "                labels = labels.to(device)\n",
        "\n",
        "                outputs = model(inputs)\n",
        "                loss = criterion(outputs, labels)\n",
        "\n",
        "                if phase == 'train':\n",
        "                    optimizer.zero_grad()\n",
        "                    loss.backward()\n",
        "                    optimizer.step()\n",
        "                _, preds = torch.max(outputs, 1)\n",
        "                running_loss += loss.item() * inputs.size(0)\n",
        "                running_corrects += torch.sum(preds == labels.data)\n",
        "            if phase=='train':\n",
        "                           epoch_loss = running_loss /800\n",
        "                           epoch_acc = running_corrects.double() /800\n",
        "                           print('train recall score is : {}'.format(recall(labels.data.to('cpu'), outputs.data.to('cpu'))))\n",
        "                           losses_train_list.append(epoch_loss)\n",
        "                           recall_train_list.append(recall(labels.data.to('cpu'), outputs.data.to('cpu')))\n",
        "\n",
        "\n",
        "            else: \n",
        "                           epoch_loss = running_loss /200\n",
        "                           epoch_acc = running_corrects.double() /200\n",
        "                           print('valid recall score is : {}'.format(recall(labels.data.to('cpu'), outputs.data.to('cpu'))))\n",
        "                           losses_test_list.append(epoch_loss)\n",
        "                           recall_test_list.append(recall(labels.data.to('cpu'), outputs.data.to('cpu')))\n",
        "\n",
        "\n",
        "\n",
        "            print('{} loss: {:.4f}, acc: {:.4f}'.format(phase,\n",
        "                                                        epoch_loss,\n",
        "                                                        epoch_acc))\n",
        "\n",
        "\n",
        "    return model,losses_train_list,losses_test_list,recall_train_list,recall_test_list"
      ],
      "execution_count": 0,
      "outputs": []
    },
    {
      "cell_type": "code",
      "metadata": {
        "id": "W2EYf3ejlS9E",
        "colab_type": "code",
        "colab": {}
      },
      "source": [
        "model_trained1,a1,b1,c1,d1= train_model(model_trained1, criterion, optimizer, num_epochs=4)\n"
      ],
      "execution_count": 0,
      "outputs": []
    },
    {
      "cell_type": "code",
      "metadata": {
        "id": "Tbq9ritqlAkl",
        "colab_type": "code",
        "outputId": "873e3db1-0ace-4653-c4e6-43f6164d4f7a",
        "colab": {
          "base_uri": "https://localhost:8080/",
          "height": 404
        }
      },
      "source": [
        "import matplotlib.pyplot as plt\n",
        "plt.figure(figsize=(8, 6))\n",
        "plt.plot(a1,label='train_loss')\n",
        "plt.plot(b1,label='test_loss')\n",
        "plt.plot(c1,label='train_rec')\n",
        "plt.plot(d1,label='test_rec')\n",
        "\n",
        "\n",
        "plt.xlabel(\"epochs\")\n",
        "plt.ylabel(\"value\")\n",
        "plt.title(\"train versus val plot\")\n",
        "\n",
        "plt.legend()\n",
        "plt.show()"
      ],
      "execution_count": 0,
      "outputs": [
        {
          "output_type": "display_data",
          "data": {
            "image/png": "[encoded data removed]",
            "text/plain": [
              "<Figure size 576x432 with 1 Axes>"
            ]
          },
          "metadata": {
            "tags": [],
            "needs_background": "light"
          }
        }
      ]
    },
    {
      "cell_type": "code",
      "metadata": {
        "id": "oPU6_LxLlAoh",
        "colab_type": "code",
        "colab": {}
      },
      "source": [
        "#torch.save(model_trained1,'/content/gdrive/My Drive/corona/ct_dataset/aug.pt')"
      ],
      "execution_count": 0,
      "outputs": []
    },
    {
      "cell_type": "code",
      "metadata": {
        "id": "Zd3rCoghlAsx",
        "colab_type": "code",
        "colab": {}
      },
      "source": [
        "#torch.save(model_trained1,'/content/gdrive/My Drive/corona/ct_dataset/notune.pt')"
      ],
      "execution_count": 0,
      "outputs": []
    },
    {
      "cell_type": "code",
      "metadata": {
        "id": "CZIkCW0blAhw",
        "colab_type": "code",
        "colab": {}
      },
      "source": [
        "#torch.save(model_trained1,'/content/gdrive/My Drive/corona/ct_dataset/notune1.pt')"
      ],
      "execution_count": 0,
      "outputs": []
    },
    {
      "cell_type": "code",
      "metadata": {
        "id": "EoaYcFZ9OhFI",
        "colab_type": "code",
        "colab": {}
      },
      "source": [
        ""
      ],
      "execution_count": 0,
      "outputs": []
    },
    {
      "cell_type": "code",
      "metadata": {
        "id": "KnRQKJ_HOhK4",
        "colab_type": "code",
        "colab": {}
      },
      "source": [
        ""
      ],
      "execution_count": 0,
      "outputs": []
    },
    {
      "cell_type": "markdown",
      "metadata": {
        "id": "wwGgiBmbTIlf",
        "colab_type": "text"
      },
      "source": [
        "To check the model please run the below code snippets."
      ]
    },
    {
      "cell_type": "code",
      "metadata": {
        "id": "BPn3AFd3OhUO",
        "colab_type": "code",
        "colab": {}
      },
      "source": [
        "import numpy as np\n",
        "import pandas as pd\n",
        "import matplotlib.pyplot as plt\n",
        "%matplotlib inline\n",
        "import torch\n",
        "import torchvision\n",
        "import cv2\n",
        "from PIL import Image"
      ],
      "execution_count": 0,
      "outputs": []
    },
    {
      "cell_type": "code",
      "metadata": {
        "id": "vru6mUZzIRne",
        "colab_type": "code",
        "colab": {
          "base_uri": "https://localhost:8080/",
          "height": 34
        },
        "outputId": "8c5e1755-b860-417e-cb3e-9965ca2da328"
      },
      "source": [
        "from google.colab import drive\n",
        "drive.mount('/content/gdrive', force_remount=True)"
      ],
      "execution_count": 2,
      "outputs": [
        {
          "output_type": "stream",
          "text": [
            "Mounted at /content/gdrive\n"
          ],
          "name": "stdout"
        }
      ]
    },
    {
      "cell_type": "markdown",
      "metadata": {
        "id": "VaUe8w3wmPkU",
        "colab_type": "text"
      },
      "source": [
        "Please change your location of the model and dataset accordingly by adding the given dataset [link](https://drive.google.com/drive/folders/1oz2m4DQ4UsKggPm76KKFTqH8Lt8JcxuF) to your drive."
      ]
    },
    {
      "cell_type": "code",
      "metadata": {
        "id": "9DQ4ocxsIRkP",
        "colab_type": "code",
        "colab": {}
      },
      "source": [
        "#**********************************************************************************************\n",
        "model=torch.load('/content/gdrive/My Drive/corona/ct_dataset/ct_scan/final_model.pt')\n",
        "#**********************************************************************************************"
      ],
      "execution_count": 0,
      "outputs": []
    },
    {
      "cell_type": "code",
      "metadata": {
        "id": "i3CY_N7aMrHr",
        "colab_type": "code",
        "colab": {}
      },
      "source": [
        "device=\"cpu\""
      ],
      "execution_count": 0,
      "outputs": []
    },
    {
      "cell_type": "code",
      "metadata": {
        "id": "RLPd0uTATuWH",
        "colab_type": "code",
        "colab": {}
      },
      "source": [
        "model=model.to(device)"
      ],
      "execution_count": 0,
      "outputs": []
    },
    {
      "cell_type": "code",
      "metadata": {
        "id": "Nbz-sBhVM3Nw",
        "colab_type": "code",
        "colab": {}
      },
      "source": [
        "from torchvision import transforms\n",
        "TRANSFORM_IMG = transforms.Compose([\n",
        "    transforms.Resize(256),\n",
        "    transforms.CenterCrop(224),\n",
        "    transforms.ToTensor(),transforms.Normalize(mean=[0.485, 0.456, 0.406],\n",
        "              std=[0.229, 0.224, 0.225])])\n",
        "\n",
        "\n",
        "#**********************************************************************************************\n",
        "path3=\"/content/gdrive/My Drive/corona/ct_dataset/ct_scan/new/\"\n",
        "data=torchvision.datasets.ImageFolder(path3,transform=TRANSFORM_IMG)\n",
        "#**********************************************************************************************"
      ],
      "execution_count": 0,
      "outputs": []
    },
    {
      "cell_type": "markdown",
      "metadata": {
        "id": "jGpQD0ywlzhg",
        "colab_type": "text"
      },
      "source": [
        "Since holding all 1000 images is difficult.Let us make batches of size 200 and test them.So the whole dataset is countered 5 times."
      ]
    },
    {
      "cell_type": "code",
      "metadata": {
        "id": "BCYit7NbNkMf",
        "colab_type": "code",
        "colab": {}
      },
      "source": [
        "dataloaders = {\n",
        "    'train':\n",
        "    torch.utils.data.DataLoader(data,\n",
        "                                batch_size=200,\n",
        "                                shuffle=True,\n",
        "                                num_workers=0,\n",
        "                                drop_last=False),    \n",
        "}\n",
        " "
      ],
      "execution_count": 0,
      "outputs": []
    },
    {
      "cell_type": "code",
      "metadata": {
        "id": "VguC9n39UgcC",
        "colab_type": "code",
        "colab": {}
      },
      "source": [
        "def recall(y_true:torch.Tensor, y_pred:torch.Tensor, is_training=False) -> torch.Tensor:\n",
        "\n",
        "    assert y_true.ndim == 1\n",
        "    assert y_pred.ndim == 1 or y_pred.ndim == 2\n",
        "    \n",
        "    if y_pred.ndim == 2:\n",
        "        y_pred = y_pred.argmax(dim=1)\n",
        "        \n",
        "    \n",
        "    tp = (y_true * y_pred).sum().to(torch.float32)\n",
        "    fn = (y_true * (1 - y_pred)).sum().to(torch.float32)\n",
        "    \n",
        "    epsilon = 1e-8\n",
        "    recall = tp / (tp + fn + epsilon)\n",
        "  \n",
        "    return recall"
      ],
      "execution_count": 0,
      "outputs": []
    },
    {
      "cell_type": "code",
      "metadata": {
        "id": "mmw66hjtM3SG",
        "colab_type": "code",
        "colab": {
          "base_uri": "https://localhost:8080/",
          "height": 269
        },
        "outputId": "256f24ec-34d0-40d0-a219-01917b475d42"
      },
      "source": [
        "phase='train'\n",
        "model.eval()\n",
        "import torch.optim as optim\n",
        "import torch.nn as nn\n",
        "criterion = nn.CrossEntropyLoss()\n",
        "for inputs, labels in dataloaders[phase]:\n",
        "                running_loss=0\n",
        "                running_corrects=0\n",
        "                inputs = inputs.to(device)\n",
        "                labels = labels.to(device)\n",
        "                outputs = model(inputs)\n",
        "                _, preds = torch.max(outputs, 1)\n",
        "                loss = criterion(outputs, labels)\n",
        "                print(loss)\n",
        "                running_loss += loss.item() * inputs.size(0)\n",
        "                running_corrects += torch.sum(preds == labels.data)\n",
        "                epoch_acc = running_corrects.double() /200\n",
        "                print(epoch_acc)\n",
        "                print(\"recall score is\"+str(recall(labels.data.to('cpu'), outputs.data.to('cpu'))))"
      ],
      "execution_count": 11,
      "outputs": [
        {
          "output_type": "stream",
          "text": [
            "tensor(0.1560, grad_fn=<NllLossBackward>)\n",
            "tensor(0.9600, dtype=torch.float64)\n",
            "recall score istensor(0.9175)\n",
            "tensor(0.1773, grad_fn=<NllLossBackward>)\n",
            "tensor(0.9550, dtype=torch.float64)\n",
            "recall score istensor(0.9082)\n",
            "tensor(0.1874, grad_fn=<NllLossBackward>)\n",
            "tensor(0.9600, dtype=torch.float64)\n",
            "recall score istensor(0.9208)\n",
            "tensor(0.1570, grad_fn=<NllLossBackward>)\n",
            "tensor(0.9800, dtype=torch.float64)\n",
            "recall score istensor(0.9574)\n",
            "tensor(0.1525, grad_fn=<NllLossBackward>)\n",
            "tensor(0.9800, dtype=torch.float64)\n",
            "recall score istensor(0.9636)\n"
          ],
          "name": "stdout"
        }
      ]
    },
    {
      "cell_type": "code",
      "metadata": {
        "id": "9SSV8AM4MrTB",
        "colab_type": "code",
        "colab": {}
      },
      "source": [
        "#average recall score of 0.93 (taken over all 5 epochs,though the overall recall score maynot be the average).\n",
        "#average accuracy of 0.967 (taken over all 5 epochs final accuracy would be same as the averaged one).\n",
        "#average loss function per sample is 0.16 (taken over all 5 epochs final epoch loss would be same as the averaged one).\n",
        "#Note that the entire 1000 samples are being tested here,so the results are a bit different here than reported."
      ],
      "execution_count": 0,
      "outputs": []
    },
    {
      "cell_type": "markdown",
      "metadata": {
        "id": "pqaLGqYBm3-7",
        "colab_type": "text"
      },
      "source": [
        "Testing code ends here."
      ]
    },
    {
      "cell_type": "code",
      "metadata": {
        "id": "-0xDr3jyMrX7",
        "colab_type": "code",
        "colab": {}
      },
      "source": [
        ""
      ],
      "execution_count": 0,
      "outputs": []
    },
    {
      "cell_type": "code",
      "metadata": {
        "id": "xdmiom9PMrfy",
        "colab_type": "code",
        "colab": {}
      },
      "source": [
        ""
      ],
      "execution_count": 0,
      "outputs": []
    },
    {
      "cell_type": "code",
      "metadata": {
        "id": "I5_eflKnnkPd",
        "colab_type": "code",
        "outputId": "9fc4a2d7-689f-4909-8794-6c80fb4e4e59",
        "colab": {
          "base_uri": "https://localhost:8080/",
          "height": 195
        }
      },
      "source": [
        "import time\n",
        "while 1:\n",
        "  time.sleep(300)"
      ],
      "execution_count": 3,
      "outputs": [
        {
          "output_type": "error",
          "ename": "KeyboardInterrupt",
          "evalue": "ignored",
          "traceback": [
            "\u001b[0;31m---------------------------------------------------------------------------\u001b[0m",
            "\u001b[0;31mKeyboardInterrupt\u001b[0m                         Traceback (most recent call last)",
            "\u001b[0;32m<ipython-input-3-1931cb3288a3>\u001b[0m in \u001b[0;36m<module>\u001b[0;34m()\u001b[0m\n\u001b[1;32m      1\u001b[0m \u001b[0;32mimport\u001b[0m \u001b[0mtime\u001b[0m\u001b[0;34m\u001b[0m\u001b[0;34m\u001b[0m\u001b[0m\n\u001b[1;32m      2\u001b[0m \u001b[0;32mwhile\u001b[0m \u001b[0;36m1\u001b[0m\u001b[0;34m:\u001b[0m\u001b[0;34m\u001b[0m\u001b[0;34m\u001b[0m\u001b[0m\n\u001b[0;32m----> 3\u001b[0;31m   \u001b[0mtime\u001b[0m\u001b[0;34m.\u001b[0m\u001b[0msleep\u001b[0m\u001b[0;34m(\u001b[0m\u001b[0;36m300\u001b[0m\u001b[0;34m)\u001b[0m\u001b[0;34m\u001b[0m\u001b[0;34m\u001b[0m\u001b[0m\n\u001b[0m",
            "\u001b[0;31mKeyboardInterrupt\u001b[0m: "
          ]
        }
      ]
    }
  ]
}