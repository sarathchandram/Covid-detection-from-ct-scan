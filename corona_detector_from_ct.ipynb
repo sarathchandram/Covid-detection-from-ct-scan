{
  "nbformat": 4,
  "nbformat_minor": 0,
  "metadata": {
    "colab": {
      "name": "corona_detector_from_ct.ipynb",
      "provenance": [],
      "collapsed_sections": [],
      "authorship_tag": "ABX9TyM3xWF8221Ixg+b+xtaoJzD",
      "include_colab_link": true
    },
    "kernelspec": {
      "name": "python3",
      "display_name": "Python 3"
    },
    "accelerator": "GPU",
    "widgets": {
      "application/vnd.jupyter.widget-state+json": {
        "d17f2840c5e741a8884d354346e8a16b": {
          "model_module": "@jupyter-widgets/controls",
          "model_name": "HBoxModel",
          "state": {
            "_view_name": "HBoxView",
            "_dom_classes": [],
            "_model_name": "HBoxModel",
            "_view_module": "@jupyter-widgets/controls",
            "_model_module_version": "1.5.0",
            "_view_count": null,
            "_view_module_version": "1.5.0",
            "box_style": "",
            "layout": "IPY_MODEL_787a5c9cc7054dcc8bd32b493e043227",
            "_model_module": "@jupyter-widgets/controls",
            "children": [
              "IPY_MODEL_7f0554d359ea44b5be7a849734ac9ce7",
              "IPY_MODEL_6e89b63de2b74a9b814ad30fdbb4007e"
            ]
          }
        },
        "787a5c9cc7054dcc8bd32b493e043227": {
          "model_module": "@jupyter-widgets/base",
          "model_name": "LayoutModel",
          "state": {
            "_view_name": "LayoutView",
            "grid_template_rows": null,
            "right": null,
            "justify_content": null,
            "_view_module": "@jupyter-widgets/base",
            "overflow": null,
            "_model_module_version": "1.2.0",
            "_view_count": null,
            "flex_flow": null,
            "width": null,
            "min_width": null,
            "border": null,
            "align_items": null,
            "bottom": null,
            "_model_module": "@jupyter-widgets/base",
            "top": null,
            "grid_column": null,
            "overflow_y": null,
            "overflow_x": null,
            "grid_auto_flow": null,
            "grid_area": null,
            "grid_template_columns": null,
            "flex": null,
            "_model_name": "LayoutModel",
            "justify_items": null,
            "grid_row": null,
            "max_height": null,
            "align_content": null,
            "visibility": null,
            "align_self": null,
            "height": null,
            "min_height": null,
            "padding": null,
            "grid_auto_rows": null,
            "grid_gap": null,
            "max_width": null,
            "order": null,
            "_view_module_version": "1.2.0",
            "grid_template_areas": null,
            "object_position": null,
            "object_fit": null,
            "grid_auto_columns": null,
            "margin": null,
            "display": null,
            "left": null
          }
        },
        "7f0554d359ea44b5be7a849734ac9ce7": {
          "model_module": "@jupyter-widgets/controls",
          "model_name": "IntProgressModel",
          "state": {
            "_view_name": "ProgressView",
            "style": "IPY_MODEL_2c2fdac71add41e4bc58640956955c0e",
            "_dom_classes": [],
            "description": "100%",
            "_model_name": "IntProgressModel",
            "bar_style": "success",
            "max": 102502400,
            "_view_module": "@jupyter-widgets/controls",
            "_model_module_version": "1.5.0",
            "value": 102502400,
            "_view_count": null,
            "_view_module_version": "1.5.0",
            "orientation": "horizontal",
            "min": 0,
            "description_tooltip": null,
            "_model_module": "@jupyter-widgets/controls",
            "layout": "IPY_MODEL_0ef947a9819c45ffb71ba1e4ee5b56e1"
          }
        },
        "6e89b63de2b74a9b814ad30fdbb4007e": {
          "model_module": "@jupyter-widgets/controls",
          "model_name": "HTMLModel",
          "state": {
            "_view_name": "HTMLView",
            "style": "IPY_MODEL_7b8be2af85c94017802b432182b5cb78",
            "_dom_classes": [],
            "description": "",
            "_model_name": "HTMLModel",
            "placeholder": "​",
            "_view_module": "@jupyter-widgets/controls",
            "_model_module_version": "1.5.0",
            "value": " 97.8M/97.8M [01:09&lt;00:00, 1.48MB/s]",
            "_view_count": null,
            "_view_module_version": "1.5.0",
            "description_tooltip": null,
            "_model_module": "@jupyter-widgets/controls",
            "layout": "IPY_MODEL_f120bd8f98a94ea8a341873b06365fdc"
          }
        },
        "2c2fdac71add41e4bc58640956955c0e": {
          "model_module": "@jupyter-widgets/controls",
          "model_name": "ProgressStyleModel",
          "state": {
            "_view_name": "StyleView",
            "_model_name": "ProgressStyleModel",
            "description_width": "initial",
            "_view_module": "@jupyter-widgets/base",
            "_model_module_version": "1.5.0",
            "_view_count": null,
            "_view_module_version": "1.2.0",
            "bar_color": null,
            "_model_module": "@jupyter-widgets/controls"
          }
        },
        "0ef947a9819c45ffb71ba1e4ee5b56e1": {
          "model_module": "@jupyter-widgets/base",
          "model_name": "LayoutModel",
          "state": {
            "_view_name": "LayoutView",
            "grid_template_rows": null,
            "right": null,
            "justify_content": null,
            "_view_module": "@jupyter-widgets/base",
            "overflow": null,
            "_model_module_version": "1.2.0",
            "_view_count": null,
            "flex_flow": null,
            "width": null,
            "min_width": null,
            "border": null,
            "align_items": null,
            "bottom": null,
            "_model_module": "@jupyter-widgets/base",
            "top": null,
            "grid_column": null,
            "overflow_y": null,
            "overflow_x": null,
            "grid_auto_flow": null,
            "grid_area": null,
            "grid_template_columns": null,
            "flex": null,
            "_model_name": "LayoutModel",
            "justify_items": null,
            "grid_row": null,
            "max_height": null,
            "align_content": null,
            "visibility": null,
            "align_self": null,
            "height": null,
            "min_height": null,
            "padding": null,
            "grid_auto_rows": null,
            "grid_gap": null,
            "max_width": null,
            "order": null,
            "_view_module_version": "1.2.0",
            "grid_template_areas": null,
            "object_position": null,
            "object_fit": null,
            "grid_auto_columns": null,
            "margin": null,
            "display": null,
            "left": null
          }
        },
        "7b8be2af85c94017802b432182b5cb78": {
          "model_module": "@jupyter-widgets/controls",
          "model_name": "DescriptionStyleModel",
          "state": {
            "_view_name": "StyleView",
            "_model_name": "DescriptionStyleModel",
            "description_width": "",
            "_view_module": "@jupyter-widgets/base",
            "_model_module_version": "1.5.0",
            "_view_count": null,
            "_view_module_version": "1.2.0",
            "_model_module": "@jupyter-widgets/controls"
          }
        },
        "f120bd8f98a94ea8a341873b06365fdc": {
          "model_module": "@jupyter-widgets/base",
          "model_name": "LayoutModel",
          "state": {
            "_view_name": "LayoutView",
            "grid_template_rows": null,
            "right": null,
            "justify_content": null,
            "_view_module": "@jupyter-widgets/base",
            "overflow": null,
            "_model_module_version": "1.2.0",
            "_view_count": null,
            "flex_flow": null,
            "width": null,
            "min_width": null,
            "border": null,
            "align_items": null,
            "bottom": null,
            "_model_module": "@jupyter-widgets/base",
            "top": null,
            "grid_column": null,
            "overflow_y": null,
            "overflow_x": null,
            "grid_auto_flow": null,
            "grid_area": null,
            "grid_template_columns": null,
            "flex": null,
            "_model_name": "LayoutModel",
            "justify_items": null,
            "grid_row": null,
            "max_height": null,
            "align_content": null,
            "visibility": null,
            "align_self": null,
            "height": null,
            "min_height": null,
            "padding": null,
            "grid_auto_rows": null,
            "grid_gap": null,
            "max_width": null,
            "order": null,
            "_view_module_version": "1.2.0",
            "grid_template_areas": null,
            "object_position": null,
            "object_fit": null,
            "grid_auto_columns": null,
            "margin": null,
            "display": null,
            "left": null
          }
        }
      }
    }
  },
  "cells": [
    {
      "cell_type": "markdown",
      "metadata": {
        "id": "view-in-github",
        "colab_type": "text"
      },
      "source": [
        "<a href=\"https://colab.research.google.com/github/themendu/covid_from_ctscan/blob/master/corona_detector_from_ct.ipynb\" target=\"_parent\"><img src=\"https://colab.research.google.com/assets/colab-badge.svg\" alt=\"Open In Colab\"/></a>"
      ]
    },
    {
      "cell_type": "markdown",
      "metadata": {
        "id": "xFnLWNWWEMc1",
        "colab_type": "text"
      },
      "source": [
        "Please visit my [**github**](https://github.com/themendu/covid_from_ctscan) for results and a better overview of my procedure and my basis of hypothesis.Please review my code and leave a comment."
      ]
    },
    {
      "cell_type": "code",
      "metadata": {
        "id": "3WcFF3oT6veQ",
        "colab_type": "code",
        "outputId": "547294c9-2a9b-4f2e-dae9-eda551582c75",
        "colab": {
          "base_uri": "https://localhost:8080/",
          "height": 138
        }
      },
      "source": [
        "pip install opencv-contrib-python-headless "
      ],
      "execution_count": 0,
      "outputs": [
        {
          "output_type": "stream",
          "text": [
            "Collecting opencv-contrib-python-headless\n",
            "\u001b[?25l  Downloading https://files.pythonhosted.org/packages/01/36/bd49c4c028e179143e7591f62180c92bc2676643e2ca7bd0f02733a8e1e1/opencv_contrib_python_headless-4.2.0.34-cp36-cp36m-manylinux1_x86_64.whl (27.7MB)\n",
            "\u001b[K     |████████████████████████████████| 27.7MB 112kB/s \n",
            "\u001b[?25hRequirement already satisfied: numpy>=1.11.3 in /usr/local/lib/python3.6/dist-packages (from opencv-contrib-python-headless) (1.18.3)\n",
            "Installing collected packages: opencv-contrib-python-headless\n",
            "Successfully installed opencv-contrib-python-headless-4.2.0.34\n"
          ],
          "name": "stdout"
        }
      ]
    },
    {
      "cell_type": "markdown",
      "metadata": {
        "id": "zuv-GJJE5d9Q",
        "colab_type": "text"
      },
      "source": [
        "Let us import the necessary packages."
      ]
    },
    {
      "cell_type": "code",
      "metadata": {
        "id": "4VgCpJmk6c-p",
        "colab_type": "code",
        "colab": {}
      },
      "source": [
        "import numpy as np\n",
        "import pandas as pd\n",
        "import matplotlib.pyplot as plt\n",
        "%matplotlib inline\n",
        "import torch\n",
        "import torchvision\n",
        "import cv2\n",
        "from PIL import Image"
      ],
      "execution_count": 0,
      "outputs": []
    },
    {
      "cell_type": "code",
      "metadata": {
        "id": "LFIw2dsc6zZp",
        "colab_type": "code",
        "outputId": "491bd736-14ef-44b5-f9e1-f3cb848d44d4",
        "colab": {
          "base_uri": "https://localhost:8080/",
          "height": 121
        }
      },
      "source": [
        "from google.colab import drive\n",
        "drive.mount('/content/gdrive', force_remount=True)"
      ],
      "execution_count": 0,
      "outputs": [
        {
          "output_type": "stream",
          "text": [
            "Go to this URL in a browser: https://accounts.google.com/o/oauth2/auth?client_id=947318989803-6bn6qk8qdgf4n4g3pfee6491hc0brc4i.apps.googleusercontent.com&redirect_uri=urn%3aietf%3awg%3aoauth%3a2.0%3aoob&response_type=code&scope=email%20https%3a%2f%2fwww.googleapis.com%2fauth%2fdocs.test%20https%3a%2f%2fwww.googleapis.com%2fauth%2fdrive%20https%3a%2f%2fwww.googleapis.com%2fauth%2fdrive.photos.readonly%20https%3a%2f%2fwww.googleapis.com%2fauth%2fpeopleapi.readonly\n",
            "\n",
            "Enter your authorization code:\n",
            "··········\n",
            "Mounted at /content/gdrive\n"
          ],
          "name": "stdout"
        }
      ]
    },
    {
      "cell_type": "markdown",
      "metadata": {
        "id": "_HsMB85B5lHw",
        "colab_type": "text"
      },
      "source": [
        "Since imshow function cannot be excecuted as a new window cannot be generated."
      ]
    },
    {
      "cell_type": "code",
      "metadata": {
        "id": "TluAXEQ06vy9",
        "colab_type": "code",
        "colab": {}
      },
      "source": [
        "import matplotlib.pyplot as plt\n",
        "def cv2_imshow(a, **kwargs):\n",
        "    a = a.clip(0, 255).astype('uint8')\n",
        "    # cv2 stores colors as BGR; convert to RGB\n",
        "    if a.ndim == 3:\n",
        "        if a.shape[2] == 4:\n",
        "            a = cv2.cvtColor(a, cv2.COLOR_BGRA2RGBA)\n",
        "        else:\n",
        "            a = cv2.cvtColor(a, cv2.COLOR_BGR2RGB)\n",
        "\n",
        "    return plt.imshow(a, **kwargs)\n"
      ],
      "execution_count": 0,
      "outputs": []
    },
    {
      "cell_type": "markdown",
      "metadata": {
        "id": "qFht_gCh5wBA",
        "colab_type": "text"
      },
      "source": [
        "Now let us play with an image and let us remove all the noise in the image between the two lungs.Because we have to make sure our model,does not catch that.(If it catches a good accuracy will be obtaibed but it will not work on other images)."
      ]
    },
    {
      "cell_type": "code",
      "metadata": {
        "id": "N-W9fBTCMd-K",
        "colab_type": "code",
        "outputId": "9cc3e601-f5d0-416e-8293-77d4989ab06b",
        "colab": {
          "base_uri": "https://localhost:8080/",
          "height": 286
        }
      },
      "source": [
        "import cv2\n",
        "image = cv2.imread('/content/gdrive/My Drive/corona/xray_dataset/images/1-s2.0-S0929664620300449-gr3_lrg-c.jpg')\n",
        "image1 = cv2.blur(image, (70,70))\n",
        "\n",
        "cv2_imshow(image)\n",
        "cv2.imwrite('/content/gdrive/My Drive/corona/ct_dataset/ct_scan/screenshots/image1.jpg',image)"
      ],
      "execution_count": 0,
      "outputs": [
        {
          "output_type": "execute_result",
          "data": {
            "text/plain": [
              "True"
            ]
          },
          "metadata": {
            "tags": []
          },
          "execution_count": 17
        },
        {
          "output_type": "display_data",
          "data": {
            "image/png": "[encoded data removed]",
            "text/plain": [
              "<Figure size 432x288 with 1 Axes>"
            ]
          },
          "metadata": {
            "tags": [],
            "needs_background": "light"
          }
        }
      ]
    },
    {
      "cell_type": "code",
      "metadata": {
        "id": "cmVBWoOtTndw",
        "colab_type": "code",
        "outputId": "3c85e3ec-0f7e-402f-a97b-93f7d657ef91",
        "colab": {
          "base_uri": "https://localhost:8080/",
          "height": 286
        }
      },
      "source": [
        "import numpy as np\n",
        "lower_black = np.array([0,0,0], dtype = \"uint16\")\n",
        "upper_black = np.array([155,155,155], dtype = \"uint16\")\n",
        "black_mask = cv2.inRange(image1, lower_black, upper_black)\n",
        "cv2_imshow(black_mask)\n",
        "cv2.imwrite('/content/gdrive/My Drive/corona/ct_dataset/ct_scan/screenshots/image2.jpg',black_mask)"
      ],
      "execution_count": 0,
      "outputs": [
        {
          "output_type": "execute_result",
          "data": {
            "text/plain": [
              "True"
            ]
          },
          "metadata": {
            "tags": []
          },
          "execution_count": 18
        },
        {
          "output_type": "display_data",
          "data": {
            "image/png": "[encoded data removed]",
            "text/plain": [
              "<Figure size 432x288 with 1 Axes>"
            ]
          },
          "metadata": {
            "tags": [],
            "needs_background": "light"
          }
        }
      ]
    },
    {
      "cell_type": "markdown",
      "metadata": {
        "id": "h5pCojbO7nGz",
        "colab_type": "text"
      },
      "source": [
        "I have tried with drawing contours in the image(commented line),but that did not help me as the boundary of the lung was not continuous.So,I have created a mask with retainig a certain color region values(tuned with trails) and performed bitwise and with the grey scale version of image and then turned the final image back to rgb."
      ]
    },
    {
      "cell_type": "code",
      "metadata": {
        "id": "kRI2QeAzVjsc",
        "colab_type": "code",
        "outputId": "b9b17fd9-d957-496b-dabc-6441a4c8a734",
        "colab": {
          "base_uri": "https://localhost:8080/",
          "height": 286
        }
      },
      "source": [
        "gray = cv2.cvtColor(image, cv2.COLOR_BGR2GRAY)\n",
        "dest_and = cv2.bitwise_and(gray,black_mask, mask = None) \n",
        "(contours, _) = cv2.findContours(dest_and, cv2.RETR_EXTERNAL, cv2.CHAIN_APPROX_SIMPLE)\n",
        "\n",
        "#image2=cv2.drawContours(image, contours, -1, (255, 0, 0), 3) \n",
        "\n",
        "\n",
        "cv2_imshow(dest_and)\n",
        "cv2.imwrite('/content/gdrive/My Drive/corona/ct_dataset/ct_scan/screenshots/image3.jpg',dest_and)"
      ],
      "execution_count": 0,
      "outputs": [
        {
          "output_type": "execute_result",
          "data": {
            "text/plain": [
              "True"
            ]
          },
          "metadata": {
            "tags": []
          },
          "execution_count": 19
        },
        {
          "output_type": "display_data",
          "data": {
            "image/png": "[encoded data removed]",
            "text/plain": [
              "<Figure size 432x288 with 1 Axes>"
            ]
          },
          "metadata": {
            "tags": [],
            "needs_background": "light"
          }
        }
      ]
    },
    {
      "cell_type": "markdown",
      "metadata": {
        "id": "Df1OegYC-BJT",
        "colab_type": "text"
      },
      "source": [
        "Now I had to blur certain images and then apply median blurring so that my mask would be such that it retains the white patches at the lung boundary.This is where small amount of noise can be generated."
      ]
    },
    {
      "cell_type": "code",
      "metadata": {
        "id": "Lrztj-e2Wz01",
        "colab_type": "code",
        "outputId": "2ca08176-acb9-4d6e-fbf5-b2decb7e3765",
        "colab": {
          "base_uri": "https://localhost:8080/",
          "height": 286
        }
      },
      "source": [
        "backtorgb = cv2.cvtColor(dest_and,cv2.COLOR_GRAY2RGB)\n",
        "cv2_imshow(backtorgb)\n",
        "cv2.imwrite('/content/gdrive/My Drive/corona/ct_dataset/ct_scan/screenshots/image4.jpg',backtorgb)"
      ],
      "execution_count": 0,
      "outputs": [
        {
          "output_type": "execute_result",
          "data": {
            "text/plain": [
              "True"
            ]
          },
          "metadata": {
            "tags": []
          },
          "execution_count": 20
        },
        {
          "output_type": "display_data",
          "data": {
            "image/png": "[encoded data removed]",
            "text/plain": [
              "<Figure size 432x288 with 1 Axes>"
            ]
          },
          "metadata": {
            "tags": [],
            "needs_background": "light"
          }
        }
      ]
    },
    {
      "cell_type": "markdown",
      "metadata": {
        "id": "m7vnNkoU8ToG",
        "colab_type": "text"
      },
      "source": [
        "So I applied different filters for each class(positive and negative images) and then modelled.Now while testing my model I would apply both filters make prediction on those two generated images and conclude by seeing result(would select maximum occurence).Now that need not be done here as obviously I know the output of those images.  "
      ]
    },
    {
      "cell_type": "code",
      "metadata": {
        "id": "mk0C9_5rMWqd",
        "colab_type": "code",
        "colab": {}
      },
      "source": [
        "#mix all files and get training set"
      ],
      "execution_count": 0,
      "outputs": []
    },
    {
      "cell_type": "code",
      "metadata": {
        "id": "rDwhlObtWq4v",
        "colab_type": "code",
        "colab": {}
      },
      "source": [
        "filenames_ct=pd.read_excel('/content/gdrive/My Drive/corona/ct_dataset/ct_scan/filenames_ct.xlsx')"
      ],
      "execution_count": 0,
      "outputs": []
    },
    {
      "cell_type": "code",
      "metadata": {
        "id": "SizbG87EQQnd",
        "colab_type": "code",
        "colab": {}
      },
      "source": [
        "i=0\n",
        "covid_pos_names=[]\n",
        "while i <350:\n",
        "  covid_pos_names.append('/content/gdrive/My Drive/corona/ct_dataset/ct_scan/covidpos/'+filenames_ct.iloc[i,0])\n",
        "  i=i+1"
      ],
      "execution_count": 0,
      "outputs": []
    },
    {
      "cell_type": "code",
      "metadata": {
        "id": "g0Sv3L6kQQqi",
        "colab_type": "code",
        "outputId": "5a870771-f0cb-4c09-e3d4-584f8b591193",
        "colab": {
          "base_uri": "https://localhost:8080/",
          "height": 34
        }
      },
      "source": [
        "len(covid_pos_names)"
      ],
      "execution_count": 0,
      "outputs": [
        {
          "output_type": "execute_result",
          "data": {
            "text/plain": [
              "350"
            ]
          },
          "metadata": {
            "tags": []
          },
          "execution_count": 15
        }
      ]
    },
    {
      "cell_type": "code",
      "metadata": {
        "id": "skH6ICtmMWoa",
        "colab_type": "code",
        "colab": {}
      },
      "source": [
        "i=352\n",
        "covid_neg_names=[]\n",
        "while i <746:\n",
        "  covid_neg_names.append('/content/gdrive/My Drive/corona/ct_dataset/ct_scan/covidneg/'+filenames_ct.iloc[i,0])\n",
        "  i=i+1"
      ],
      "execution_count": 0,
      "outputs": []
    },
    {
      "cell_type": "code",
      "metadata": {
        "id": "jZMDAIyYLVxz",
        "colab_type": "code",
        "outputId": "8a2e4f3e-560c-4dee-8d59-6bf97b8f7b1b",
        "colab": {
          "base_uri": "https://localhost:8080/",
          "height": 34
        }
      },
      "source": [
        "len(covid_neg_names)"
      ],
      "execution_count": 0,
      "outputs": [
        {
          "output_type": "execute_result",
          "data": {
            "text/plain": [
              "394"
            ]
          },
          "metadata": {
            "tags": []
          },
          "execution_count": 17
        }
      ]
    },
    {
      "cell_type": "markdown",
      "metadata": {
        "id": "U2h6lVlM_a3-",
        "colab_type": "text"
      },
      "source": [
        "Now I have tuned for the COVID-postive images to get better insights."
      ]
    },
    {
      "cell_type": "code",
      "metadata": {
        "id": "Gu3QM3WMYGkp",
        "colab_type": "code",
        "colab": {}
      },
      "source": [
        "lower_black = np.array([0,0,0], dtype = \"uint16\")\n",
        "upper_black = np.array([200,200,200], dtype = \"uint16\")\n",
        "\n",
        "def image_converter1(path):\n",
        "      image = cv2.imread(path)\n",
        "      kernel = np.ones((5,5),np.float32)/25\n",
        "      image3 = cv2.blur(image, (60,60))\n",
        "      image_blurred= cv2.medianBlur(image3,3)\n",
        "#      image_blurred = cv2.bilateralFilter(image2,40,100,100) \n",
        "#      image_blurred= cv2.filter2D(image2,-1,kernel)\n",
        "      black_mask = cv2.inRange(image_blurred, lower_black, upper_black)\n",
        "      gray = cv2.cvtColor(image, cv2.COLOR_BGR2GRAY)\n",
        "      dest_and = cv2.bitwise_and(gray,black_mask, mask = None) \n",
        "      dest_and= cv2.cvtColor(dest_and,cv2.COLOR_GRAY2RGB)\n",
        "      cv2.imwrite('/content/gdrive/My Drive/corona/ct_dataset/ct_scan/covidpos_changed/'+str(path[60:]),dest_and)\n",
        "      return path[60:]\n",
        "\n"
      ],
      "execution_count": 0,
      "outputs": []
    },
    {
      "cell_type": "code",
      "metadata": {
        "id": "5p6AOwflngGS",
        "colab_type": "code",
        "outputId": "75440e3a-8baf-4895-ce5f-87b4d43ab499",
        "colab": {
          "base_uri": "https://localhost:8080/",
          "height": 34
        }
      },
      "source": [
        "image_converter1(covid_pos_names[0])"
      ],
      "execution_count": 0,
      "outputs": [
        {
          "output_type": "execute_result",
          "data": {
            "text/plain": [
              "'2019-novel-Coronavirus-severe-adult-respiratory-dist_2020_International-Jour-p3-89%0.png'"
            ]
          },
          "metadata": {
            "tags": []
          },
          "execution_count": 57
        }
      ]
    },
    {
      "cell_type": "code",
      "metadata": {
        "id": "bzq0rmKTjv49",
        "colab_type": "code",
        "colab": {}
      },
      "source": [
        "covid_pos_names.remove('/content/gdrive/My Drive/corona/ct_dataset/ct_scan/covidpos/0.jpg')"
      ],
      "execution_count": 0,
      "outputs": []
    },
    {
      "cell_type": "code",
      "metadata": {
        "id": "BdjwsWsWYLUq",
        "colab_type": "code",
        "outputId": "9838d9b7-1b4f-430b-99e7-02df92d7775a",
        "colab": {
          "base_uri": "https://localhost:8080/",
          "height": 1000
        }
      },
      "source": [
        "for name in covid_pos_names:\n",
        "  print(name)\n",
        "  image_converter1(name)"
      ],
      "execution_count": 0,
      "outputs": [
        {
          "output_type": "stream",
          "text": [
            "/content/gdrive/My Drive/corona/ct_dataset/ct_scan/covidpos/2019-novel-Coronavirus-severe-adult-respiratory-dist_2020_International-Jour-p3-89%0.png\n",
            "/content/gdrive/My Drive/corona/ct_dataset/ct_scan/covidpos/2019-novel-Coronavirus-severe-adult-respiratory-dist_2020_International-Jour-p3-89%1.png\n",
            "/content/gdrive/My Drive/corona/ct_dataset/ct_scan/covidpos/2019-novel-Coronavirus-severe-adult-respiratory-dist_2020_International-Jour-p3-91.png\n",
            "/content/gdrive/My Drive/corona/ct_dataset/ct_scan/covidpos/2020.01.24.919183-p27-132.png\n",
            "/content/gdrive/My Drive/corona/ct_dataset/ct_scan/covidpos/2020.01.24.919183-p27-133.png\n",
            "/content/gdrive/My Drive/corona/ct_dataset/ct_scan/covidpos/2020.01.24.919183-p27-134.png\n",
            "/content/gdrive/My Drive/corona/ct_dataset/ct_scan/covidpos/2020.01.24.919183-p27-135.png\n",
            "/content/gdrive/My Drive/corona/ct_dataset/ct_scan/covidpos/2020.02.10.20021584-p6-52%0.png\n",
            "/content/gdrive/My Drive/corona/ct_dataset/ct_scan/covidpos/2020.02.10.20021584-p6-52%1.png\n",
            "/content/gdrive/My Drive/corona/ct_dataset/ct_scan/covidpos/2020.02.10.20021584-p6-52%10.png\n",
            "/content/gdrive/My Drive/corona/ct_dataset/ct_scan/covidpos/2020.02.10.20021584-p6-52%11.png\n",
            "/content/gdrive/My Drive/corona/ct_dataset/ct_scan/covidpos/2020.02.10.20021584-p6-52%12.png\n",
            "/content/gdrive/My Drive/corona/ct_dataset/ct_scan/covidpos/2020.02.10.20021584-p6-52%13.png\n",
            "/content/gdrive/My Drive/corona/ct_dataset/ct_scan/covidpos/2020.02.10.20021584-p6-52%14.png\n",
            "/content/gdrive/My Drive/corona/ct_dataset/ct_scan/covidpos/2020.02.10.20021584-p6-52%15.png\n",
            "/content/gdrive/My Drive/corona/ct_dataset/ct_scan/covidpos/2020.02.10.20021584-p6-52%2.png\n",
            "/content/gdrive/My Drive/corona/ct_dataset/ct_scan/covidpos/2020.02.10.20021584-p6-52%3.png\n",
            "/content/gdrive/My Drive/corona/ct_dataset/ct_scan/covidpos/2020.02.10.20021584-p6-52%4.png\n",
            "/content/gdrive/My Drive/corona/ct_dataset/ct_scan/covidpos/2020.02.10.20021584-p6-52%5.png\n",
            "/content/gdrive/My Drive/corona/ct_dataset/ct_scan/covidpos/2020.02.10.20021584-p6-52%6.png\n",
            "/content/gdrive/My Drive/corona/ct_dataset/ct_scan/covidpos/2020.02.10.20021584-p6-52%7.png\n",
            "/content/gdrive/My Drive/corona/ct_dataset/ct_scan/covidpos/2020.02.10.20021584-p6-52%8.png\n",
            "/content/gdrive/My Drive/corona/ct_dataset/ct_scan/covidpos/2020.02.10.20021584-p6-52%9.png\n",
            "/content/gdrive/My Drive/corona/ct_dataset/ct_scan/covidpos/2020.02.11.20021493-p16-109%0.png\n",
            "/content/gdrive/My Drive/corona/ct_dataset/ct_scan/covidpos/2020.02.11.20021493-p16-109%1.png\n",
            "/content/gdrive/My Drive/corona/ct_dataset/ct_scan/covidpos/2020.02.11.20021493-p16-109%2.png\n",
            "/content/gdrive/My Drive/corona/ct_dataset/ct_scan/covidpos/2020.02.11.20022053-p12-67%0.png\n",
            "/content/gdrive/My Drive/corona/ct_dataset/ct_scan/covidpos/2020.02.11.20022053-p12-67%1.png\n",
            "/content/gdrive/My Drive/corona/ct_dataset/ct_scan/covidpos/2020.02.11.20022053-p12-67%2.png\n",
            "/content/gdrive/My Drive/corona/ct_dataset/ct_scan/covidpos/2020.02.11.20022053-p12-67%3.png\n",
            "/content/gdrive/My Drive/corona/ct_dataset/ct_scan/covidpos/2020.02.13.20022673-p13-77%0.png\n",
            "/content/gdrive/My Drive/corona/ct_dataset/ct_scan/covidpos/2020.02.13.20022673-p13-77%1.png\n",
            "/content/gdrive/My Drive/corona/ct_dataset/ct_scan/covidpos/2020.02.13.20022673-p13-77%2.png\n",
            "/content/gdrive/My Drive/corona/ct_dataset/ct_scan/covidpos/2020.02.17.20024018-p17-61%0.png\n",
            "/content/gdrive/My Drive/corona/ct_dataset/ct_scan/covidpos/2020.02.17.20024018-p17-61%1.png\n",
            "/content/gdrive/My Drive/corona/ct_dataset/ct_scan/covidpos/2020.02.17.20024018-p17-61%2.png\n",
            "/content/gdrive/My Drive/corona/ct_dataset/ct_scan/covidpos/2020.02.17.20024018-p17-61%3.png\n",
            "/content/gdrive/My Drive/corona/ct_dataset/ct_scan/covidpos/2020.02.17.20024018-p17-61%4.png\n",
            "/content/gdrive/My Drive/corona/ct_dataset/ct_scan/covidpos/2020.02.19.20025023-p20-93%0.png\n",
            "/content/gdrive/My Drive/corona/ct_dataset/ct_scan/covidpos/2020.02.19.20025023-p20-93%1.png\n",
            "/content/gdrive/My Drive/corona/ct_dataset/ct_scan/covidpos/2020.02.19.20025023-p20-93%2.png\n",
            "/content/gdrive/My Drive/corona/ct_dataset/ct_scan/covidpos/2020.02.19.20025023-p20-93%3.png\n",
            "/content/gdrive/My Drive/corona/ct_dataset/ct_scan/covidpos/2020.02.22.20024927-p18-66%0.png\n",
            "/content/gdrive/My Drive/corona/ct_dataset/ct_scan/covidpos/2020.02.22.20024927-p18-66%1.png\n",
            "/content/gdrive/My Drive/corona/ct_dataset/ct_scan/covidpos/2020.02.22.20024927-p18-66%2.png\n",
            "/content/gdrive/My Drive/corona/ct_dataset/ct_scan/covidpos/2020.02.22.20024927-p19-68%0.png\n",
            "/content/gdrive/My Drive/corona/ct_dataset/ct_scan/covidpos/2020.02.22.20024927-p19-68%1.png\n",
            "/content/gdrive/My Drive/corona/ct_dataset/ct_scan/covidpos/2020.02.22.20024927-p19-68%2.png\n",
            "/content/gdrive/My Drive/corona/ct_dataset/ct_scan/covidpos/2020.02.22.20024927-p19-68%3.png\n",
            "/content/gdrive/My Drive/corona/ct_dataset/ct_scan/covidpos/2020.02.22.20024927-p19-68%4.png\n",
            "/content/gdrive/My Drive/corona/ct_dataset/ct_scan/covidpos/2020.02.22.20024927-p19-68%5.png\n",
            "/content/gdrive/My Drive/corona/ct_dataset/ct_scan/covidpos/2020.02.22.20024927-p20-70%0.png\n",
            "/content/gdrive/My Drive/corona/ct_dataset/ct_scan/covidpos/2020.02.22.20024927-p20-70%1.png\n",
            "/content/gdrive/My Drive/corona/ct_dataset/ct_scan/covidpos/2020.02.22.20024927-p20-70%2.png\n",
            "/content/gdrive/My Drive/corona/ct_dataset/ct_scan/covidpos/2020.02.22.20024927-p20-70%3.png\n",
            "/content/gdrive/My Drive/corona/ct_dataset/ct_scan/covidpos/2020.02.23.20026856-p17-115%0.png\n",
            "/content/gdrive/My Drive/corona/ct_dataset/ct_scan/covidpos/2020.02.23.20026856-p17-115%1.png\n",
            "/content/gdrive/My Drive/corona/ct_dataset/ct_scan/covidpos/2020.02.23.20026856-p17-115%2.png\n",
            "/content/gdrive/My Drive/corona/ct_dataset/ct_scan/covidpos/2020.02.23.20026856-p17-115%3.png\n",
            "/content/gdrive/My Drive/corona/ct_dataset/ct_scan/covidpos/2020.02.23.20026856-p17-115%4.png\n",
            "/content/gdrive/My Drive/corona/ct_dataset/ct_scan/covidpos/2020.02.23.20026856-p17-115%5.png\n",
            "/content/gdrive/My Drive/corona/ct_dataset/ct_scan/covidpos/2020.02.24.20027052-p8-73%0.png\n",
            "/content/gdrive/My Drive/corona/ct_dataset/ct_scan/covidpos/2020.02.24.20027052-p8-73%1.png\n",
            "/content/gdrive/My Drive/corona/ct_dataset/ct_scan/covidpos/2020.02.24.20027052-p8-73%2.png\n",
            "/content/gdrive/My Drive/corona/ct_dataset/ct_scan/covidpos/2020.02.24.20027052-p8-73%3.png\n",
            "/content/gdrive/My Drive/corona/ct_dataset/ct_scan/covidpos/2020.02.24.20027201-p19-669.png\n",
            "/content/gdrive/My Drive/corona/ct_dataset/ct_scan/covidpos/2020.02.24.20027201-p19-670.png\n",
            "/content/gdrive/My Drive/corona/ct_dataset/ct_scan/covidpos/2020.02.25.20021568-p23-108%0.png\n",
            "/content/gdrive/My Drive/corona/ct_dataset/ct_scan/covidpos/2020.02.25.20021568-p23-108%1.png\n",
            "/content/gdrive/My Drive/corona/ct_dataset/ct_scan/covidpos/2020.02.25.20021568-p23-108%10.png\n",
            "/content/gdrive/My Drive/corona/ct_dataset/ct_scan/covidpos/2020.02.25.20021568-p23-108%11.png\n",
            "/content/gdrive/My Drive/corona/ct_dataset/ct_scan/covidpos/2020.02.25.20021568-p23-108%12.png\n",
            "/content/gdrive/My Drive/corona/ct_dataset/ct_scan/covidpos/2020.02.25.20021568-p23-108%13.png\n",
            "/content/gdrive/My Drive/corona/ct_dataset/ct_scan/covidpos/2020.02.25.20021568-p23-108%14.png\n",
            "/content/gdrive/My Drive/corona/ct_dataset/ct_scan/covidpos/2020.02.25.20021568-p23-108%15.png\n",
            "/content/gdrive/My Drive/corona/ct_dataset/ct_scan/covidpos/2020.02.25.20021568-p23-108%2.png\n",
            "/content/gdrive/My Drive/corona/ct_dataset/ct_scan/covidpos/2020.02.25.20021568-p23-108%3.png\n",
            "/content/gdrive/My Drive/corona/ct_dataset/ct_scan/covidpos/2020.02.25.20021568-p23-108%4.png\n",
            "/content/gdrive/My Drive/corona/ct_dataset/ct_scan/covidpos/2020.02.25.20021568-p23-108%5.png\n",
            "/content/gdrive/My Drive/corona/ct_dataset/ct_scan/covidpos/2020.02.25.20021568-p23-108%6.png\n",
            "/content/gdrive/My Drive/corona/ct_dataset/ct_scan/covidpos/2020.02.25.20021568-p23-108%7.png\n",
            "/content/gdrive/My Drive/corona/ct_dataset/ct_scan/covidpos/2020.02.25.20021568-p23-108%8.png\n",
            "/content/gdrive/My Drive/corona/ct_dataset/ct_scan/covidpos/2020.02.25.20021568-p23-108%9.png\n",
            "/content/gdrive/My Drive/corona/ct_dataset/ct_scan/covidpos/2020.02.25.20021568-p24-111%0.png\n",
            "/content/gdrive/My Drive/corona/ct_dataset/ct_scan/covidpos/2020.02.25.20021568-p24-111%1.png\n",
            "/content/gdrive/My Drive/corona/ct_dataset/ct_scan/covidpos/2020.02.25.20021568-p24-111%2.png\n",
            "/content/gdrive/My Drive/corona/ct_dataset/ct_scan/covidpos/2020.02.25.20021568-p24-111%3.png\n",
            "/content/gdrive/My Drive/corona/ct_dataset/ct_scan/covidpos/2020.02.25.20021568-p24-111%4.png\n",
            "/content/gdrive/My Drive/corona/ct_dataset/ct_scan/covidpos/2020.02.25.20021568-p24-111%5.png\n",
            "/content/gdrive/My Drive/corona/ct_dataset/ct_scan/covidpos/2020.02.25.20021568-p24-111%6.png\n",
            "/content/gdrive/My Drive/corona/ct_dataset/ct_scan/covidpos/2020.02.25.20021568-p24-111%7.png\n",
            "/content/gdrive/My Drive/corona/ct_dataset/ct_scan/covidpos/2020.02.25.20021568-p24-111%8.png\n",
            "/content/gdrive/My Drive/corona/ct_dataset/ct_scan/covidpos/2020.02.25.20021568-p24-111%9.png\n",
            "/content/gdrive/My Drive/corona/ct_dataset/ct_scan/covidpos/2020.02.25.20027763-p15-53%0.png\n",
            "/content/gdrive/My Drive/corona/ct_dataset/ct_scan/covidpos/2020.02.25.20027763-p15-53%1.png\n",
            "/content/gdrive/My Drive/corona/ct_dataset/ct_scan/covidpos/2020.02.26.20026989-p34-114_1%0.png\n",
            "/content/gdrive/My Drive/corona/ct_dataset/ct_scan/covidpos/2020.02.26.20026989-p34-114_1%1.png\n",
            "/content/gdrive/My Drive/corona/ct_dataset/ct_scan/covidpos/2020.02.26.20026989-p34-114_2%0.png\n",
            "/content/gdrive/My Drive/corona/ct_dataset/ct_scan/covidpos/2020.02.26.20026989-p34-114_2%1.png\n",
            "/content/gdrive/My Drive/corona/ct_dataset/ct_scan/covidpos/2020.02.26.20027938-p6-80_1%0.png\n",
            "/content/gdrive/My Drive/corona/ct_dataset/ct_scan/covidpos/2020.02.26.20027938-p6-80_1%1.png\n",
            "/content/gdrive/My Drive/corona/ct_dataset/ct_scan/covidpos/2020.02.26.20027938-p6-80_2%0.png\n",
            "/content/gdrive/My Drive/corona/ct_dataset/ct_scan/covidpos/2020.02.26.20027938-p6-80_2%1.png\n",
            "/content/gdrive/My Drive/corona/ct_dataset/ct_scan/covidpos/2020.02.26.20027938-p6-80_3%0.png\n",
            "/content/gdrive/My Drive/corona/ct_dataset/ct_scan/covidpos/2020.02.26.20027938-p6-80_3%1.png\n",
            "/content/gdrive/My Drive/corona/ct_dataset/ct_scan/covidpos/2020.02.27.20027557-p25-137%0.png\n",
            "/content/gdrive/My Drive/corona/ct_dataset/ct_scan/covidpos/2020.02.27.20027557-p25-137%1.png\n",
            "/content/gdrive/My Drive/corona/ct_dataset/ct_scan/covidpos/2020.02.27.20027557-p25-137%2.png\n",
            "/content/gdrive/My Drive/corona/ct_dataset/ct_scan/covidpos/2020.02.27.20027557-p25-137%3.png\n",
            "/content/gdrive/My Drive/corona/ct_dataset/ct_scan/covidpos/2020.02.27.20027557-p25-137%4.png\n",
            "/content/gdrive/My Drive/corona/ct_dataset/ct_scan/covidpos/2020.02.28.20029025-p23-182.png\n",
            "/content/gdrive/My Drive/corona/ct_dataset/ct_scan/covidpos/2020.02.28.20029025-p23-183.png\n",
            "/content/gdrive/My Drive/corona/ct_dataset/ct_scan/covidpos/2020.03.01.20029769-p21-73_1%0.png\n",
            "/content/gdrive/My Drive/corona/ct_dataset/ct_scan/covidpos/2020.03.01.20029769-p21-73_1%1.png\n",
            "/content/gdrive/My Drive/corona/ct_dataset/ct_scan/covidpos/2020.03.01.20029769-p21-73_1%2.png\n",
            "/content/gdrive/My Drive/corona/ct_dataset/ct_scan/covidpos/2020.03.01.20029769-p21-73_2%0.png\n",
            "/content/gdrive/My Drive/corona/ct_dataset/ct_scan/covidpos/2020.03.01.20029769-p21-73_2%1.png\n",
            "/content/gdrive/My Drive/corona/ct_dataset/ct_scan/covidpos/2020.03.01.20029769-p21-73_2%2.png\n",
            "/content/gdrive/My Drive/corona/ct_dataset/ct_scan/covidpos/2020.03.01.20029769-p21-73_3.png\n",
            "/content/gdrive/My Drive/corona/ct_dataset/ct_scan/covidpos/2020.03.01.20029769-p21-73_4.png\n",
            "/content/gdrive/My Drive/corona/ct_dataset/ct_scan/covidpos/2020.03.03.20030353-p17-106%0.png\n",
            "/content/gdrive/My Drive/corona/ct_dataset/ct_scan/covidpos/2020.03.03.20030353-p17-106%1.png\n",
            "/content/gdrive/My Drive/corona/ct_dataset/ct_scan/covidpos/2020.03.03.20030353-p17-106%2.png\n",
            "/content/gdrive/My Drive/corona/ct_dataset/ct_scan/covidpos/2020.03.03.20030775-p10-88%0.png\n",
            "/content/gdrive/My Drive/corona/ct_dataset/ct_scan/covidpos/2020.03.03.20030775-p10-88%1.png\n",
            "/content/gdrive/My Drive/corona/ct_dataset/ct_scan/covidpos/2020.03.03.20030775-p11-91.png\n",
            "/content/gdrive/My Drive/corona/ct_dataset/ct_scan/covidpos/2020.03.03.20030775-p12-93%0.png\n",
            "/content/gdrive/My Drive/corona/ct_dataset/ct_scan/covidpos/2020.03.03.20030775-p12-93%1.png\n",
            "/content/gdrive/My Drive/corona/ct_dataset/ct_scan/covidpos/2020.03.04.20026005-p12-1946%0.png\n",
            "/content/gdrive/My Drive/corona/ct_dataset/ct_scan/covidpos/2020.03.04.20026005-p12-1946%1.png\n",
            "/content/gdrive/My Drive/corona/ct_dataset/ct_scan/covidpos/2020.03.04.20026005-p12-1946%2.png\n",
            "/content/gdrive/My Drive/corona/ct_dataset/ct_scan/covidpos/2020.03.04.20026005-p12-1946%3.png\n",
            "/content/gdrive/My Drive/corona/ct_dataset/ct_scan/covidpos/2020.03.04.20026005-p12-1946%4.png\n",
            "/content/gdrive/My Drive/corona/ct_dataset/ct_scan/covidpos/2020.03.04.20026005-p12-1946%5.png\n",
            "/content/gdrive/My Drive/corona/ct_dataset/ct_scan/covidpos/2020.03.04.20030395-p27-108%0.png\n",
            "/content/gdrive/My Drive/corona/ct_dataset/ct_scan/covidpos/2020.03.04.20030395-p27-108%1.png\n",
            "/content/gdrive/My Drive/corona/ct_dataset/ct_scan/covidpos/2020.03.04.20030395-p27-108%2.png\n",
            "/content/gdrive/My Drive/corona/ct_dataset/ct_scan/covidpos/2020.03.04.20030395-p27-108%3.png\n",
            "/content/gdrive/My Drive/corona/ct_dataset/ct_scan/covidpos/2020.03.04.20030395-p27-108%4.png\n",
            "/content/gdrive/My Drive/corona/ct_dataset/ct_scan/covidpos/2020.03.04.20030395-p27-108%5.png\n",
            "/content/gdrive/My Drive/corona/ct_dataset/ct_scan/covidpos/2020.03.04.20030395-p27-108%6.png\n",
            "/content/gdrive/My Drive/corona/ct_dataset/ct_scan/covidpos/2020.03.04.20030395-p27-108%7.png\n",
            "/content/gdrive/My Drive/corona/ct_dataset/ct_scan/covidpos/2020.03.04.20030395-p27-108%8.png\n",
            "/content/gdrive/My Drive/corona/ct_dataset/ct_scan/covidpos/2020.03.04.20031039-p23-97_1%0.png\n",
            "/content/gdrive/My Drive/corona/ct_dataset/ct_scan/covidpos/2020.03.04.20031039-p23-97_1%1.png\n",
            "/content/gdrive/My Drive/corona/ct_dataset/ct_scan/covidpos/2020.03.04.20031039-p23-97_1%2.png\n",
            "/content/gdrive/My Drive/corona/ct_dataset/ct_scan/covidpos/2020.03.04.20031039-p23-97_2%0.png\n",
            "/content/gdrive/My Drive/corona/ct_dataset/ct_scan/covidpos/2020.03.04.20031039-p23-97_2%1.png\n",
            "/content/gdrive/My Drive/corona/ct_dataset/ct_scan/covidpos/2020.03.04.20031039-p23-97_2%2.png\n",
            "/content/gdrive/My Drive/corona/ct_dataset/ct_scan/covidpos/2020.03.04.20031047-p12-81%0.png\n",
            "/content/gdrive/My Drive/corona/ct_dataset/ct_scan/covidpos/2020.03.04.20031047-p12-81%1.png\n",
            "/content/gdrive/My Drive/corona/ct_dataset/ct_scan/covidpos/2020.03.04.20031047-p12-81%2.png\n",
            "/content/gdrive/My Drive/corona/ct_dataset/ct_scan/covidpos/2020.03.04.20031047-p12-81%3.png\n",
            "/content/gdrive/My Drive/corona/ct_dataset/ct_scan/covidpos/2020.03.04.20031047-p13-84%0.png\n",
            "/content/gdrive/My Drive/corona/ct_dataset/ct_scan/covidpos/2020.03.04.20031047-p13-84%1.png\n",
            "/content/gdrive/My Drive/corona/ct_dataset/ct_scan/covidpos/2020.03.04.20031047-p13-84%2.png\n",
            "/content/gdrive/My Drive/corona/ct_dataset/ct_scan/covidpos/2020.03.04.20031047-p13-84%3.png\n",
            "/content/gdrive/My Drive/corona/ct_dataset/ct_scan/covidpos/2020.03.04.20031047-p13-84%4.png\n",
            "/content/gdrive/My Drive/corona/ct_dataset/ct_scan/covidpos/2020.03.04.20031047-p13-84%5.png\n",
            "/content/gdrive/My Drive/corona/ct_dataset/ct_scan/covidpos/2020.03.04.20031047-p14-87%0.png\n",
            "/content/gdrive/My Drive/corona/ct_dataset/ct_scan/covidpos/2020.03.04.20031047-p14-87%1.png\n",
            "/content/gdrive/My Drive/corona/ct_dataset/ct_scan/covidpos/2020.03.07.20031393-p7-50%0.png\n",
            "/content/gdrive/My Drive/corona/ct_dataset/ct_scan/covidpos/2020.03.07.20031393-p7-50%1.png\n",
            "/content/gdrive/My Drive/corona/ct_dataset/ct_scan/covidpos/2020.03.07.20031393-p7-50%2.png\n",
            "/content/gdrive/My Drive/corona/ct_dataset/ct_scan/covidpos/2020.03.07.20031393-p7-50%3.png\n",
            "/content/gdrive/My Drive/corona/ct_dataset/ct_scan/covidpos/2020.03.08.20031658-p15-103.png\n",
            "/content/gdrive/My Drive/corona/ct_dataset/ct_scan/covidpos/2020.03.08.20031658-p15-104.png\n",
            "/content/gdrive/My Drive/corona/ct_dataset/ct_scan/covidpos/2020.03.08.20031658-p15-105.png\n",
            "/content/gdrive/My Drive/corona/ct_dataset/ct_scan/covidpos/2020.03.08.20031658-p15-106.png\n",
            "/content/gdrive/My Drive/corona/ct_dataset/ct_scan/covidpos/2020.03.09.20033118-p20-93%0.png\n",
            "/content/gdrive/My Drive/corona/ct_dataset/ct_scan/covidpos/2020.03.09.20033118-p20-93%1.png\n",
            "/content/gdrive/My Drive/corona/ct_dataset/ct_scan/covidpos/2020.03.09.20033118-p20-93%2.png\n",
            "/content/gdrive/My Drive/corona/ct_dataset/ct_scan/covidpos/2020.03.09.20033118-p20-93%3.png\n",
            "/content/gdrive/My Drive/corona/ct_dataset/ct_scan/covidpos/2020.03.10.20032136-p34-118_1%0.png\n",
            "/content/gdrive/My Drive/corona/ct_dataset/ct_scan/covidpos/2020.03.10.20032136-p34-118_1%1.png\n",
            "/content/gdrive/My Drive/corona/ct_dataset/ct_scan/covidpos/2020.03.10.20032136-p34-118_2%0.png\n",
            "/content/gdrive/My Drive/corona/ct_dataset/ct_scan/covidpos/2020.03.10.20032136-p34-118_2%1.png\n",
            "/content/gdrive/My Drive/corona/ct_dataset/ct_scan/covidpos/2020.03.11.20033159-p12-45%0.png\n",
            "/content/gdrive/My Drive/corona/ct_dataset/ct_scan/covidpos/2020.03.11.20033159-p12-45%1.png\n",
            "/content/gdrive/My Drive/corona/ct_dataset/ct_scan/covidpos/2020.03.11.20033159-p12-45%2.png\n",
            "/content/gdrive/My Drive/corona/ct_dataset/ct_scan/covidpos/2020.03.11.20033159-p12-45%3.png\n",
            "/content/gdrive/My Drive/corona/ct_dataset/ct_scan/covidpos/2020.03.11.20033159-p12-45%4.png\n",
            "/content/gdrive/My Drive/corona/ct_dataset/ct_scan/covidpos/2020.03.11.20033159-p12-45%5.png\n",
            "/content/gdrive/My Drive/corona/ct_dataset/ct_scan/covidpos/2020.03.12.20027185-p8-216.png\n",
            "/content/gdrive/My Drive/corona/ct_dataset/ct_scan/covidpos/2020.03.12.20027185-p8-217.png\n",
            "/content/gdrive/My Drive/corona/ct_dataset/ct_scan/covidpos/2020.03.12.20027185-p8-218.png\n",
            "/content/gdrive/My Drive/corona/ct_dataset/ct_scan/covidpos/2020.03.12.20027185-p8-221.png\n",
            "/content/gdrive/My Drive/corona/ct_dataset/ct_scan/covidpos/2020.03.12.20034686-p17-91-1.png\n",
            "/content/gdrive/My Drive/corona/ct_dataset/ct_scan/covidpos/2020.03.12.20034686-p17-91-2.png\n",
            "/content/gdrive/My Drive/corona/ct_dataset/ct_scan/covidpos/2020.03.12.20034686-p17-91-3.png\n",
            "/content/gdrive/My Drive/corona/ct_dataset/ct_scan/covidpos/2020.03.12.20034686-p17-91-4.png\n",
            "/content/gdrive/My Drive/corona/ct_dataset/ct_scan/covidpos/2020.03.12.20034686-p17-91-5.png\n",
            "/content/gdrive/My Drive/corona/ct_dataset/ct_scan/covidpos/2020.03.12.20034686-p17-91-6.png\n",
            "/content/gdrive/My Drive/corona/ct_dataset/ct_scan/covidpos/2020.03.13.20035212-p23-152.png\n",
            "/content/gdrive/My Drive/corona/ct_dataset/ct_scan/covidpos/2020.03.13.20035212-p23-153.png\n",
            "/content/gdrive/My Drive/corona/ct_dataset/ct_scan/covidpos/2020.03.13.20035212-p23-154.png\n",
            "/content/gdrive/My Drive/corona/ct_dataset/ct_scan/covidpos/2020.03.13.20035212-p23-155.png\n",
            "/content/gdrive/My Drive/corona/ct_dataset/ct_scan/covidpos/2020.03.13.20035212-p23-156.png\n",
            "/content/gdrive/My Drive/corona/ct_dataset/ct_scan/covidpos/2020.03.13.20035212-p23-157.png\n",
            "/content/gdrive/My Drive/corona/ct_dataset/ct_scan/covidpos/2020.03.13.20035212-p23-158.png\n",
            "/content/gdrive/My Drive/corona/ct_dataset/ct_scan/covidpos/2020.03.13.20035212-p23-159.png\n",
            "/content/gdrive/My Drive/corona/ct_dataset/ct_scan/covidpos/2020.03.13.20035212-p23-160.png\n",
            "/content/gdrive/My Drive/corona/ct_dataset/ct_scan/covidpos/2020.03.13.20035212-p23-161.png\n",
            "/content/gdrive/My Drive/corona/ct_dataset/ct_scan/covidpos/2020.03.13.20035212-p23-162.png\n",
            "/content/gdrive/My Drive/corona/ct_dataset/ct_scan/covidpos/2020.03.13.20035212-p23-163.png\n",
            "/content/gdrive/My Drive/corona/ct_dataset/ct_scan/covidpos/2020.03.16.20035105-p6-64-1.png\n",
            "/content/gdrive/My Drive/corona/ct_dataset/ct_scan/covidpos/2020.03.16.20035105-p6-64-2.png\n",
            "/content/gdrive/My Drive/corona/ct_dataset/ct_scan/covidpos/2020.03.16.20035105-p6-64-3.png\n",
            "/content/gdrive/My Drive/corona/ct_dataset/ct_scan/covidpos/2020.03.16.20035105-p6-64-4.png\n",
            "/content/gdrive/My Drive/corona/ct_dataset/ct_scan/covidpos/2020.03.16.20036145-p19-128-1.png\n",
            "/content/gdrive/My Drive/corona/ct_dataset/ct_scan/covidpos/2020.03.16.20036145-p19-128-2.png\n",
            "/content/gdrive/My Drive/corona/ct_dataset/ct_scan/covidpos/2020.03.16.20036145-p19-128-3.png\n",
            "/content/gdrive/My Drive/corona/ct_dataset/ct_scan/covidpos/2020.03.16.20036145-p19-128-4.png\n",
            "/content/gdrive/My Drive/corona/ct_dataset/ct_scan/covidpos/2020.03.18.20038125-p15-54-2.png\n",
            "/content/gdrive/My Drive/corona/ct_dataset/ct_scan/covidpos/2020.03.18.20038125-p15-54-4.png\n",
            "/content/gdrive/My Drive/corona/ct_dataset/ct_scan/covidpos/2020.03.18.20038125-p15-54-5.png\n",
            "/content/gdrive/My Drive/corona/ct_dataset/ct_scan/covidpos/2020.03.18.20038125-p15-54-6.png\n",
            "/content/gdrive/My Drive/corona/ct_dataset/ct_scan/covidpos/2020.03.18.20038125-p16-56-1.png\n",
            "/content/gdrive/My Drive/corona/ct_dataset/ct_scan/covidpos/2020.03.18.20038125-p16-56-2.png\n",
            "/content/gdrive/My Drive/corona/ct_dataset/ct_scan/covidpos/2020.03.18.20038125-p16-56-3.png\n",
            "/content/gdrive/My Drive/corona/ct_dataset/ct_scan/covidpos/2020.03.18.20038125-p16-56-4.png\n",
            "/content/gdrive/My Drive/corona/ct_dataset/ct_scan/covidpos/2020.03.18.20038125-p16-56-5.png\n",
            "/content/gdrive/My Drive/corona/ct_dataset/ct_scan/covidpos/2020.03.18.20038125-p16-56-6.png\n",
            "/content/gdrive/My Drive/corona/ct_dataset/ct_scan/covidpos/2020.03.19.20038539-p10-57.png\n",
            "/content/gdrive/My Drive/corona/ct_dataset/ct_scan/covidpos/2020.03.19.20038539-p10-58.png\n",
            "/content/gdrive/My Drive/corona/ct_dataset/ct_scan/covidpos/2020.03.19.20038539-p10-59.png\n",
            "/content/gdrive/My Drive/corona/ct_dataset/ct_scan/covidpos/2020.03.19.20038539-p10-60.png\n",
            "/content/gdrive/My Drive/corona/ct_dataset/ct_scan/covidpos/2020.03.19.20038539-p10-61.png\n",
            "/content/gdrive/My Drive/corona/ct_dataset/ct_scan/covidpos/2020.03.19.20038539-p10-62.png\n",
            "/content/gdrive/My Drive/corona/ct_dataset/ct_scan/covidpos/2020.03.20.20037325-p23-121.png\n",
            "/content/gdrive/My Drive/corona/ct_dataset/ct_scan/covidpos/2020.03.20.20037325-p23-122.png\n",
            "/content/gdrive/My Drive/corona/ct_dataset/ct_scan/covidpos/2020.03.20.20037325-p23-123.png\n",
            "/content/gdrive/My Drive/corona/ct_dataset/ct_scan/covidpos/2020.03.20.20037325-p23-124.png\n",
            "/content/gdrive/My Drive/corona/ct_dataset/ct_scan/covidpos/2020.03.21.20040691-p18-6-6.png\n",
            "/content/gdrive/My Drive/corona/ct_dataset/ct_scan/covidpos/2020.03.21.20040691-p18-67-1.png\n",
            "/content/gdrive/My Drive/corona/ct_dataset/ct_scan/covidpos/2020.03.21.20040691-p18-67-2.png\n",
            "/content/gdrive/My Drive/corona/ct_dataset/ct_scan/covidpos/2020.03.21.20040691-p18-67-3.png\n",
            "/content/gdrive/My Drive/corona/ct_dataset/ct_scan/covidpos/2020.03.21.20040691-p18-67-4.png\n",
            "/content/gdrive/My Drive/corona/ct_dataset/ct_scan/covidpos/2020.03.21.20040691-p18-67-5.png\n",
            "/content/gdrive/My Drive/corona/ct_dataset/ct_scan/covidpos/2020.03.21.20040691-p18-67-7.png\n",
            "/content/gdrive/My Drive/corona/ct_dataset/ct_scan/covidpos/2020.03.21.20040691-p18-67-8.png\n",
            "/content/gdrive/My Drive/corona/ct_dataset/ct_scan/covidpos/2020.03.22.20034041-p16-66.png\n",
            "/content/gdrive/My Drive/corona/ct_dataset/ct_scan/covidpos/2020.03.22.20034041-p17-80-1.png\n",
            "/content/gdrive/My Drive/corona/ct_dataset/ct_scan/covidpos/2020.03.22.20034041-p17-80-2.png\n",
            "/content/gdrive/My Drive/corona/ct_dataset/ct_scan/covidpos/2020.03.22.20034041-p18-92-1.png\n",
            "/content/gdrive/My Drive/corona/ct_dataset/ct_scan/covidpos/2020.03.22.20034041-p18-92-2.png\n",
            "/content/gdrive/My Drive/corona/ct_dataset/ct_scan/covidpos/2020.03.22.20034041-p18-92-3.png\n",
            "/content/gdrive/My Drive/corona/ct_dataset/ct_scan/covidpos/2020.03.22.20040782-p24-1533-1.png\n",
            "/content/gdrive/My Drive/corona/ct_dataset/ct_scan/covidpos/2020.03.22.20040782-p24-1533-2.png\n",
            "/content/gdrive/My Drive/corona/ct_dataset/ct_scan/covidpos/2020.03.22.20040782-p24-1533-3.png\n",
            "/content/gdrive/My Drive/corona/ct_dataset/ct_scan/covidpos/2020.03.22.20040782-p24-1533-4.png\n",
            "/content/gdrive/My Drive/corona/ct_dataset/ct_scan/covidpos/2020.03.22.20040782-p24-1533-5.png\n",
            "/content/gdrive/My Drive/corona/ct_dataset/ct_scan/covidpos/2020.03.22.20040782-p24-1533-6.png\n",
            "/content/gdrive/My Drive/corona/ct_dataset/ct_scan/covidpos/2020.03.22.20040782-p24-1533-7.png\n",
            "/content/gdrive/My Drive/corona/ct_dataset/ct_scan/covidpos/2020.03.22.20040782-p24-1533-8.png\n",
            "/content/gdrive/My Drive/corona/ct_dataset/ct_scan/covidpos/2020.03.22.20040782-p25-1541.png\n",
            "/content/gdrive/My Drive/corona/ct_dataset/ct_scan/covidpos/2020.03.22.20040782-p25-1542.png\n",
            "/content/gdrive/My Drive/corona/ct_dataset/ct_scan/covidpos/2020.03.22.20040782-p25-1543.png\n",
            "/content/gdrive/My Drive/corona/ct_dataset/ct_scan/covidpos/2020.03.22.20040782-p25-1544.png\n",
            "/content/gdrive/My Drive/corona/ct_dataset/ct_scan/covidpos/2020.03.22.20040782-p25-1545.png\n",
            "/content/gdrive/My Drive/corona/ct_dataset/ct_scan/covidpos/2020.03.22.20040782-p25-1546.png\n",
            "/content/gdrive/My Drive/corona/ct_dataset/ct_scan/covidpos/2020.03.25.20037721-p27-165.png\n",
            "/content/gdrive/My Drive/corona/ct_dataset/ct_scan/covidpos/2020.03.25.20037721-p27-172.png\n",
            "/content/gdrive/My Drive/corona/ct_dataset/ct_scan/covidpos/2020.03.25.20037721-p27-173.png\n",
            "/content/gdrive/My Drive/corona/ct_dataset/ct_scan/covidpos/2020.03.25.20037721-p27-174.png\n",
            "/content/gdrive/My Drive/corona/ct_dataset/ct_scan/covidpos/2020.03.25.20037721-p27-181.png\n",
            "/content/gdrive/My Drive/corona/ct_dataset/ct_scan/covidpos/2020.03.25.20037721-p27-182.png\n",
            "/content/gdrive/My Drive/corona/ct_dataset/ct_scan/covidpos/2020.03.25.20043166-p17-78.png\n",
            "/content/gdrive/My Drive/corona/ct_dataset/ct_scan/covidpos/2020.03.25.20043166-p17-79.png\n",
            "/content/gdrive/My Drive/corona/ct_dataset/ct_scan/covidpos/2020.03.25.20043166-p17-80.png\n",
            "/content/gdrive/My Drive/corona/ct_dataset/ct_scan/covidpos/2020.03.25.20043166-p17-81.png\n",
            "/content/gdrive/My Drive/corona/ct_dataset/ct_scan/covidpos/2020.03.26.20041426-p11-119.png\n",
            "/content/gdrive/My Drive/corona/ct_dataset/ct_scan/covidpos/2020.03.26.20041426-p11-120.png\n",
            "/content/gdrive/My Drive/corona/ct_dataset/ct_scan/covidpos/2020.03.26.20041426-p11-121.png\n",
            "/content/gdrive/My Drive/corona/ct_dataset/ct_scan/covidpos/2020.03.26.20041426-p11-122.png\n",
            "/content/gdrive/My Drive/corona/ct_dataset/ct_scan/covidpos/2020.03.26.20041426-p11-123.png\n",
            "/content/gdrive/My Drive/corona/ct_dataset/ct_scan/covidpos/2020.03.26.20041426-p11-124.png\n",
            "/content/gdrive/My Drive/corona/ct_dataset/ct_scan/covidpos/2020.03.26.20041426-p11-125.png\n",
            "/content/gdrive/My Drive/corona/ct_dataset/ct_scan/covidpos/2020.03.26.20041426-p11-126.png\n",
            "/content/gdrive/My Drive/corona/ct_dataset/ct_scan/covidpos/2020.03.26.20041426-p11-127.png\n",
            "/content/gdrive/My Drive/corona/ct_dataset/ct_scan/covidpos/2020.03.26.20041426-p11-128.png\n",
            "/content/gdrive/My Drive/corona/ct_dataset/ct_scan/covidpos/2020.03.26.20041426-p11-130.png\n",
            "/content/gdrive/My Drive/corona/ct_dataset/ct_scan/covidpos/2020.03.26.20041426-p11-131.png\n",
            "/content/gdrive/My Drive/corona/ct_dataset/ct_scan/covidpos/2020.03.26.20041426-p11-132.png\n",
            "/content/gdrive/My Drive/corona/ct_dataset/ct_scan/covidpos/2020.03.26.20041426-p11-133.png\n",
            "/content/gdrive/My Drive/corona/ct_dataset/ct_scan/covidpos/2020.03.30.20047985-p9-56%0.png\n",
            "/content/gdrive/My Drive/corona/ct_dataset/ct_scan/covidpos/2020.03.30.20047985-p9-56%1.png\n",
            "/content/gdrive/My Drive/corona/ct_dataset/ct_scan/covidpos/2020.03.30.20047985-p9-56%2.png\n",
            "/content/gdrive/My Drive/corona/ct_dataset/ct_scan/covidpos/2020.03.30.20047985-p9-56%3.png\n",
            "/content/gdrive/My Drive/corona/ct_dataset/ct_scan/covidpos/bmj.m606.full-p4-22%0.png\n",
            "/content/gdrive/My Drive/corona/ct_dataset/ct_scan/covidpos/bmj.m606.full-p4-22%1.png\n",
            "/content/gdrive/My Drive/corona/ct_dataset/ct_scan/covidpos/bmj.m606.full-p4-22%2.png\n",
            "/content/gdrive/My Drive/corona/ct_dataset/ct_scan/covidpos/bmj.m606.full-p4-22%3.png\n",
            "/content/gdrive/My Drive/corona/ct_dataset/ct_scan/covidpos/bmj.m606.full-p4-22%4.png\n",
            "/content/gdrive/My Drive/corona/ct_dataset/ct_scan/covidpos/bmj.m606.full-p4-22%5.png\n",
            "/content/gdrive/My Drive/corona/ct_dataset/ct_scan/covidpos/bmj.m606.full-p4-22%6.png\n",
            "/content/gdrive/My Drive/corona/ct_dataset/ct_scan/covidpos/bmj.m606.full-p4-22%7.png\n",
            "/content/gdrive/My Drive/corona/ct_dataset/ct_scan/covidpos/Comparison-of-different-samples-for-2019-novel-cor_2020_International-Journa-p2-21%0.png\n",
            "/content/gdrive/My Drive/corona/ct_dataset/ct_scan/covidpos/Comparison-of-different-samples-for-2019-novel-cor_2020_International-Journa-p2-21%1.png\n",
            "/content/gdrive/My Drive/corona/ct_dataset/ct_scan/covidpos/Comparison-of-different-samples-for-2019-novel-cor_2020_International-Journa-p2-21%10.png\n",
            "/content/gdrive/My Drive/corona/ct_dataset/ct_scan/covidpos/Comparison-of-different-samples-for-2019-novel-cor_2020_International-Journa-p2-21%11.png\n",
            "/content/gdrive/My Drive/corona/ct_dataset/ct_scan/covidpos/Comparison-of-different-samples-for-2019-novel-cor_2020_International-Journa-p2-21%2.png\n",
            "/content/gdrive/My Drive/corona/ct_dataset/ct_scan/covidpos/Comparison-of-different-samples-for-2019-novel-cor_2020_International-Journa-p2-21%3.png\n",
            "/content/gdrive/My Drive/corona/ct_dataset/ct_scan/covidpos/Comparison-of-different-samples-for-2019-novel-cor_2020_International-Journa-p2-21%4.png\n",
            "/content/gdrive/My Drive/corona/ct_dataset/ct_scan/covidpos/Comparison-of-different-samples-for-2019-novel-cor_2020_International-Journa-p2-21%5.png\n",
            "/content/gdrive/My Drive/corona/ct_dataset/ct_scan/covidpos/Comparison-of-different-samples-for-2019-novel-cor_2020_International-Journa-p2-21%6.png\n",
            "/content/gdrive/My Drive/corona/ct_dataset/ct_scan/covidpos/Comparison-of-different-samples-for-2019-novel-cor_2020_International-Journa-p2-21%7.png\n",
            "/content/gdrive/My Drive/corona/ct_dataset/ct_scan/covidpos/Comparison-of-different-samples-for-2019-novel-cor_2020_International-Journa-p2-21%8.png\n",
            "/content/gdrive/My Drive/corona/ct_dataset/ct_scan/covidpos/Comparison-of-different-samples-for-2019-novel-cor_2020_International-Journa-p2-21%9.png\n",
            "/content/gdrive/My Drive/corona/ct_dataset/ct_scan/covidpos/ehaa254-p0-63%2.png\n",
            "/content/gdrive/My Drive/corona/ct_dataset/ct_scan/covidpos/ehaa254-p0-63%3.png\n",
            "/content/gdrive/My Drive/corona/ct_dataset/ct_scan/covidpos/impact_of_covid19_infection_on_pregnancy_outcomes_and_the_risk_of_maternaltoneonatal_intrapartum_transmission_of_covid19_during_natural_birth-p8-41%1.png\n",
            "/content/gdrive/My Drive/corona/ct_dataset/ct_scan/covidpos/impact_of_covid19_infection_on_pregnancy_outcomes_and_the_risk_of_maternaltoneonatal_intrapartum_transmission_of_covid19_during_natural_birth-p8-41%3.png\n",
            "/content/gdrive/My Drive/corona/ct_dataset/ct_scan/covidpos/impact_of_covid19_infection_on_pregnancy_outcomes_and_the_risk_of_maternaltoneonatal_intrapartum_transmission_of_covid19_during_natural_birth-p8-41%5.png\n",
            "/content/gdrive/My Drive/corona/ct_dataset/ct_scan/covidpos/kjr-21-e24-p2-8.png\n",
            "/content/gdrive/My Drive/corona/ct_dataset/ct_scan/covidpos/kjr-21-e24-p3-16.png\n",
            "/content/gdrive/My Drive/corona/ct_dataset/ct_scan/covidpos/kjr-21-e24-p5-29.png\n",
            "/content/gdrive/My Drive/corona/ct_dataset/ct_scan/covidpos/kjr-21-e24-p5-31.png\n",
            "/content/gdrive/My Drive/corona/ct_dataset/ct_scan/covidpos/kjr-21-e25-p1-10.png\n",
            "/content/gdrive/My Drive/corona/ct_dataset/ct_scan/covidpos/kjr-21-e25-p1-12.png\n",
            "/content/gdrive/My Drive/corona/ct_dataset/ct_scan/covidpos/kjr-21-e25-p1-14.png\n",
            "/content/gdrive/My Drive/corona/ct_dataset/ct_scan/covidpos/kjr-21-e25-p1-6.png\n",
            "/content/gdrive/My Drive/corona/ct_dataset/ct_scan/covidpos/kjr-21-e25-p1-8.png\n",
            "/content/gdrive/My Drive/corona/ct_dataset/ct_scan/covidpos/med-9780198814924-chapter-17-p10-515.png\n",
            "/content/gdrive/My Drive/corona/ct_dataset/ct_scan/covidpos/Ni2020_Article_CombinationOfWesternMedicineAn-p3-10%0.png\n",
            "/content/gdrive/My Drive/corona/ct_dataset/ct_scan/covidpos/Ni2020_Article_CombinationOfWesternMedicineAn-p3-10%1.png\n",
            "/content/gdrive/My Drive/corona/ct_dataset/ct_scan/covidpos/Ni2020_Article_CombinationOfWesternMedicineAn-p4-13%0.png\n",
            "/content/gdrive/My Drive/corona/ct_dataset/ct_scan/covidpos/Ni2020_Article_CombinationOfWesternMedicineAn-p4-13%1.png\n",
            "/content/gdrive/My Drive/corona/ct_dataset/ct_scan/covidpos/PIIS0140673620301549_0%0.png\n",
            "/content/gdrive/My Drive/corona/ct_dataset/ct_scan/covidpos/PIIS0140673620301549_0%1.png\n",
            "/content/gdrive/My Drive/corona/ct_dataset/ct_scan/covidpos/PIIS0140673620301549_1.png\n",
            "/content/gdrive/My Drive/corona/ct_dataset/ct_scan/covidpos/PIIS0140673620301549_2.png\n",
            "/content/gdrive/My Drive/corona/ct_dataset/ct_scan/covidpos/PIIS0140673620302117_1.png\n",
            "/content/gdrive/My Drive/corona/ct_dataset/ct_scan/covidpos/PIIS0140673620302117_2.png\n",
            "/content/gdrive/My Drive/corona/ct_dataset/ct_scan/covidpos/PIIS0140673620303603%0.png\n",
            "/content/gdrive/My Drive/corona/ct_dataset/ct_scan/covidpos/PIIS0140673620303603%1.png\n",
            "/content/gdrive/My Drive/corona/ct_dataset/ct_scan/covidpos/PIIS0140673620303603%2.png\n",
            "/content/gdrive/My Drive/corona/ct_dataset/ct_scan/covidpos/PIIS0140673620303603%3.png\n",
            "/content/gdrive/My Drive/corona/ct_dataset/ct_scan/covidpos/PIIS0140673620303603%4.png\n",
            "/content/gdrive/My Drive/corona/ct_dataset/ct_scan/covidpos/PIIS0140673620303603%5.png\n",
            "/content/gdrive/My Drive/corona/ct_dataset/ct_scan/covidpos/PIIS0140673620303603%6.png\n",
            "/content/gdrive/My Drive/corona/ct_dataset/ct_scan/covidpos/PIIS0140673620303603%7.png\n",
            "/content/gdrive/My Drive/corona/ct_dataset/ct_scan/covidpos/PIIS0140673620303603%8.png\n",
            "/content/gdrive/My Drive/corona/ct_dataset/ct_scan/covidpos/Recurrence-of-positive-SARS-CoV-2-RNA-in-C_2020_International-Journal-of-Inf-p1-21%0.png\n",
            "/content/gdrive/My Drive/corona/ct_dataset/ct_scan/covidpos/Recurrence-of-positive-SARS-CoV-2-RNA-in-C_2020_International-Journal-of-Inf-p1-21%1.png\n",
            "/content/gdrive/My Drive/corona/ct_dataset/ct_scan/covidpos/Talaromyces-marneffei-infection-relapse-presenting-as-ost_2020_International-p1-12%0.png\n",
            "/content/gdrive/My Drive/corona/ct_dataset/ct_scan/covidpos/Talaromyces-marneffei-infection-relapse-presenting-as-ost_2020_International-p1-12%1.png\n",
            "/content/gdrive/My Drive/corona/ct_dataset/ct_scan/covidpos/Talaromyces-marneffei-infection-relapse-presenting-as-ost_2020_International-p1-12%2.png\n",
            "/content/gdrive/My Drive/corona/ct_dataset/ct_scan/covidpos/Talaromyces-marneffei-infection-relapse-presenting-as-ost_2020_International-p1-12%3.png\n"
          ],
          "name": "stdout"
        }
      ]
    },
    {
      "cell_type": "markdown",
      "metadata": {
        "id": "ZWZ1wC6E_m-k",
        "colab_type": "text"
      },
      "source": [
        "Now for the negative images."
      ]
    },
    {
      "cell_type": "code",
      "metadata": {
        "id": "LszoHZlIjPGy",
        "colab_type": "code",
        "colab": {}
      },
      "source": [
        "lower_black = np.array([0,0,0], dtype = \"uint16\")\n",
        "upper_black = np.array([170,170,170], dtype = \"uint16\")\n",
        "\n",
        "def image_converter2(path):\n",
        "      image = cv2.imread(path)\n",
        "      kernel = np.ones((5,5),np.float32)/25\n",
        "      image3 = cv2.blur(image, (40,40))\n",
        "      image_blurred= cv2.medianBlur(image3,3)\n",
        "#      image_blurred = cv2.bilateralFilter(image2,40,100,100) \n",
        "#      image_blurred= cv2.filter2D(image2,-1,kernel)\n",
        "      black_mask = cv2.inRange(image_blurred, lower_black, upper_black)\n",
        "      gray = cv2.cvtColor(image, cv2.COLOR_BGR2GRAY)\n",
        "      dest_and = cv2.bitwise_and(gray,black_mask, mask = None) \n",
        "      dest_and= cv2.cvtColor(dest_and,cv2.COLOR_GRAY2RGB)\n",
        "      cv2.imwrite('/content/gdrive/My Drive/corona/ct_dataset/ct_scan/covidneg_changed/'+str(path[60:]),dest_and)\n",
        "      return path[60:]\n"
      ],
      "execution_count": 0,
      "outputs": []
    },
    {
      "cell_type": "code",
      "metadata": {
        "id": "H3OpyzgJjPL9",
        "colab_type": "code",
        "outputId": "49abc536-1089-4945-ea62-9b0127ca716e",
        "colab": {
          "base_uri": "https://localhost:8080/",
          "height": 34
        }
      },
      "source": [
        "image_converter2(covid_neg_names[0])"
      ],
      "execution_count": 0,
      "outputs": [
        {
          "output_type": "execute_result",
          "data": {
            "text/plain": [
              "'1%2.jpg'"
            ]
          },
          "metadata": {
            "tags": []
          },
          "execution_count": 62
        }
      ]
    },
    {
      "cell_type": "code",
      "metadata": {
        "id": "xIO_TRRZjPJ2",
        "colab_type": "code",
        "outputId": "4c2db18d-0b55-49d6-945f-5147ef051e81",
        "colab": {
          "base_uri": "https://localhost:8080/",
          "height": 1000
        }
      },
      "source": [
        "for name in covid_neg_names:\n",
        "  print(name)\n",
        "  image_converter2(name)"
      ],
      "execution_count": 0,
      "outputs": [
        {
          "output_type": "stream",
          "text": [
            "/content/gdrive/My Drive/corona/ct_dataset/ct_scan/covidneg/1%2.jpg\n",
            "/content/gdrive/My Drive/corona/ct_dataset/ct_scan/covidneg/10%0.jpg\n",
            "/content/gdrive/My Drive/corona/ct_dataset/ct_scan/covidneg/10%1.jpg\n",
            "/content/gdrive/My Drive/corona/ct_dataset/ct_scan/covidneg/10%2.jpg\n",
            "/content/gdrive/My Drive/corona/ct_dataset/ct_scan/covidneg/102.png\n",
            "/content/gdrive/My Drive/corona/ct_dataset/ct_scan/covidneg/1029.png\n",
            "/content/gdrive/My Drive/corona/ct_dataset/ct_scan/covidneg/103.png\n",
            "/content/gdrive/My Drive/corona/ct_dataset/ct_scan/covidneg/1030.png\n",
            "/content/gdrive/My Drive/corona/ct_dataset/ct_scan/covidneg/104.png\n",
            "/content/gdrive/My Drive/corona/ct_dataset/ct_scan/covidneg/1046.png\n",
            "/content/gdrive/My Drive/corona/ct_dataset/ct_scan/covidneg/1047.png\n",
            "/content/gdrive/My Drive/corona/ct_dataset/ct_scan/covidneg/1048.png\n",
            "/content/gdrive/My Drive/corona/ct_dataset/ct_scan/covidneg/1049.png\n",
            "/content/gdrive/My Drive/corona/ct_dataset/ct_scan/covidneg/1050.png\n",
            "/content/gdrive/My Drive/corona/ct_dataset/ct_scan/covidneg/1058.png\n",
            "/content/gdrive/My Drive/corona/ct_dataset/ct_scan/covidneg/1059.png\n",
            "/content/gdrive/My Drive/corona/ct_dataset/ct_scan/covidneg/1060.png\n",
            "/content/gdrive/My Drive/corona/ct_dataset/ct_scan/covidneg/1061.png\n",
            "/content/gdrive/My Drive/corona/ct_dataset/ct_scan/covidneg/1062.png\n",
            "/content/gdrive/My Drive/corona/ct_dataset/ct_scan/covidneg/1065.png\n",
            "/content/gdrive/My Drive/corona/ct_dataset/ct_scan/covidneg/1070.png\n",
            "/content/gdrive/My Drive/corona/ct_dataset/ct_scan/covidneg/1071.png\n",
            "/content/gdrive/My Drive/corona/ct_dataset/ct_scan/covidneg/1072.png\n",
            "/content/gdrive/My Drive/corona/ct_dataset/ct_scan/covidneg/1078.png\n",
            "/content/gdrive/My Drive/corona/ct_dataset/ct_scan/covidneg/1079.png\n",
            "/content/gdrive/My Drive/corona/ct_dataset/ct_scan/covidneg/1093.png\n",
            "/content/gdrive/My Drive/corona/ct_dataset/ct_scan/covidneg/1094.png\n",
            "/content/gdrive/My Drive/corona/ct_dataset/ct_scan/covidneg/1098.png\n",
            "/content/gdrive/My Drive/corona/ct_dataset/ct_scan/covidneg/1099.png\n",
            "/content/gdrive/My Drive/corona/ct_dataset/ct_scan/covidneg/11%0.jpg\n",
            "/content/gdrive/My Drive/corona/ct_dataset/ct_scan/covidneg/11%1.jpg\n",
            "/content/gdrive/My Drive/corona/ct_dataset/ct_scan/covidneg/11%2.jpg\n",
            "/content/gdrive/My Drive/corona/ct_dataset/ct_scan/covidneg/1100.png\n",
            "/content/gdrive/My Drive/corona/ct_dataset/ct_scan/covidneg/1101.png\n",
            "/content/gdrive/My Drive/corona/ct_dataset/ct_scan/covidneg/1115.png\n",
            "/content/gdrive/My Drive/corona/ct_dataset/ct_scan/covidneg/112.png\n",
            "/content/gdrive/My Drive/corona/ct_dataset/ct_scan/covidneg/1123.png\n",
            "/content/gdrive/My Drive/corona/ct_dataset/ct_scan/covidneg/1124.png\n",
            "/content/gdrive/My Drive/corona/ct_dataset/ct_scan/covidneg/114.png\n",
            "/content/gdrive/My Drive/corona/ct_dataset/ct_scan/covidneg/115.png\n",
            "/content/gdrive/My Drive/corona/ct_dataset/ct_scan/covidneg/116.png\n",
            "/content/gdrive/My Drive/corona/ct_dataset/ct_scan/covidneg/1164.png\n",
            "/content/gdrive/My Drive/corona/ct_dataset/ct_scan/covidneg/117.png\n",
            "/content/gdrive/My Drive/corona/ct_dataset/ct_scan/covidneg/118.png\n",
            "/content/gdrive/My Drive/corona/ct_dataset/ct_scan/covidneg/12.jpg\n",
            "/content/gdrive/My Drive/corona/ct_dataset/ct_scan/covidneg/120.png\n",
            "/content/gdrive/My Drive/corona/ct_dataset/ct_scan/covidneg/1210.png\n",
            "/content/gdrive/My Drive/corona/ct_dataset/ct_scan/covidneg/1211.png\n",
            "/content/gdrive/My Drive/corona/ct_dataset/ct_scan/covidneg/1212.png\n",
            "/content/gdrive/My Drive/corona/ct_dataset/ct_scan/covidneg/1213.png\n",
            "/content/gdrive/My Drive/corona/ct_dataset/ct_scan/covidneg/1214.png\n",
            "/content/gdrive/My Drive/corona/ct_dataset/ct_scan/covidneg/1215.png\n",
            "/content/gdrive/My Drive/corona/ct_dataset/ct_scan/covidneg/1216.png\n",
            "/content/gdrive/My Drive/corona/ct_dataset/ct_scan/covidneg/1217.png\n",
            "/content/gdrive/My Drive/corona/ct_dataset/ct_scan/covidneg/1218.png\n",
            "/content/gdrive/My Drive/corona/ct_dataset/ct_scan/covidneg/1221.png\n",
            "/content/gdrive/My Drive/corona/ct_dataset/ct_scan/covidneg/1238.png\n",
            "/content/gdrive/My Drive/corona/ct_dataset/ct_scan/covidneg/1239.png\n",
            "/content/gdrive/My Drive/corona/ct_dataset/ct_scan/covidneg/1240.png\n",
            "/content/gdrive/My Drive/corona/ct_dataset/ct_scan/covidneg/1261.png\n",
            "/content/gdrive/My Drive/corona/ct_dataset/ct_scan/covidneg/1262.png\n",
            "/content/gdrive/My Drive/corona/ct_dataset/ct_scan/covidneg/1263.png\n",
            "/content/gdrive/My Drive/corona/ct_dataset/ct_scan/covidneg/1264.png\n",
            "/content/gdrive/My Drive/corona/ct_dataset/ct_scan/covidneg/1277.png\n",
            "/content/gdrive/My Drive/corona/ct_dataset/ct_scan/covidneg/1297.png\n",
            "/content/gdrive/My Drive/corona/ct_dataset/ct_scan/covidneg/1298.png\n",
            "/content/gdrive/My Drive/corona/ct_dataset/ct_scan/covidneg/13.jpg\n",
            "/content/gdrive/My Drive/corona/ct_dataset/ct_scan/covidneg/1305.png\n",
            "/content/gdrive/My Drive/corona/ct_dataset/ct_scan/covidneg/1306.png\n",
            "/content/gdrive/My Drive/corona/ct_dataset/ct_scan/covidneg/1307.png\n",
            "/content/gdrive/My Drive/corona/ct_dataset/ct_scan/covidneg/1308.png\n",
            "/content/gdrive/My Drive/corona/ct_dataset/ct_scan/covidneg/1309.png\n",
            "/content/gdrive/My Drive/corona/ct_dataset/ct_scan/covidneg/1310.png\n",
            "/content/gdrive/My Drive/corona/ct_dataset/ct_scan/covidneg/1312.png\n",
            "/content/gdrive/My Drive/corona/ct_dataset/ct_scan/covidneg/1313.png\n",
            "/content/gdrive/My Drive/corona/ct_dataset/ct_scan/covidneg/1328.png\n",
            "/content/gdrive/My Drive/corona/ct_dataset/ct_scan/covidneg/1330.png\n",
            "/content/gdrive/My Drive/corona/ct_dataset/ct_scan/covidneg/1331.png\n",
            "/content/gdrive/My Drive/corona/ct_dataset/ct_scan/covidneg/1332.png\n",
            "/content/gdrive/My Drive/corona/ct_dataset/ct_scan/covidneg/1333.png\n",
            "/content/gdrive/My Drive/corona/ct_dataset/ct_scan/covidneg/1335.png\n",
            "/content/gdrive/My Drive/corona/ct_dataset/ct_scan/covidneg/1336.png\n",
            "/content/gdrive/My Drive/corona/ct_dataset/ct_scan/covidneg/14%0.jpg\n",
            "/content/gdrive/My Drive/corona/ct_dataset/ct_scan/covidneg/14%1.jpg\n",
            "/content/gdrive/My Drive/corona/ct_dataset/ct_scan/covidneg/14%2.jpg\n",
            "/content/gdrive/My Drive/corona/ct_dataset/ct_scan/covidneg/14%3.jpg\n",
            "/content/gdrive/My Drive/corona/ct_dataset/ct_scan/covidneg/14.png\n",
            "/content/gdrive/My Drive/corona/ct_dataset/ct_scan/covidneg/1428.png\n",
            "/content/gdrive/My Drive/corona/ct_dataset/ct_scan/covidneg/1463.png\n",
            "/content/gdrive/My Drive/corona/ct_dataset/ct_scan/covidneg/1497.png\n",
            "/content/gdrive/My Drive/corona/ct_dataset/ct_scan/covidneg/1498.png\n",
            "/content/gdrive/My Drive/corona/ct_dataset/ct_scan/covidneg/1499.png\n",
            "/content/gdrive/My Drive/corona/ct_dataset/ct_scan/covidneg/15%0.jpg\n",
            "/content/gdrive/My Drive/corona/ct_dataset/ct_scan/covidneg/15%1.jpg\n",
            "/content/gdrive/My Drive/corona/ct_dataset/ct_scan/covidneg/15%2.jpg\n",
            "/content/gdrive/My Drive/corona/ct_dataset/ct_scan/covidneg/15%3.jpg\n",
            "/content/gdrive/My Drive/corona/ct_dataset/ct_scan/covidneg/15.png\n",
            "/content/gdrive/My Drive/corona/ct_dataset/ct_scan/covidneg/1500.png\n",
            "/content/gdrive/My Drive/corona/ct_dataset/ct_scan/covidneg/1501.png\n",
            "/content/gdrive/My Drive/corona/ct_dataset/ct_scan/covidneg/1561.png\n",
            "/content/gdrive/My Drive/corona/ct_dataset/ct_scan/covidneg/1562.png\n",
            "/content/gdrive/My Drive/corona/ct_dataset/ct_scan/covidneg/1575.png\n",
            "/content/gdrive/My Drive/corona/ct_dataset/ct_scan/covidneg/1576.png\n",
            "/content/gdrive/My Drive/corona/ct_dataset/ct_scan/covidneg/1577.png\n",
            "/content/gdrive/My Drive/corona/ct_dataset/ct_scan/covidneg/158.png\n",
            "/content/gdrive/My Drive/corona/ct_dataset/ct_scan/covidneg/16.jpg\n",
            "/content/gdrive/My Drive/corona/ct_dataset/ct_scan/covidneg/1638.png\n",
            "/content/gdrive/My Drive/corona/ct_dataset/ct_scan/covidneg/166.png\n",
            "/content/gdrive/My Drive/corona/ct_dataset/ct_scan/covidneg/167.png\n",
            "/content/gdrive/My Drive/corona/ct_dataset/ct_scan/covidneg/17%0.jpg\n",
            "/content/gdrive/My Drive/corona/ct_dataset/ct_scan/covidneg/17%1.jpg\n",
            "/content/gdrive/My Drive/corona/ct_dataset/ct_scan/covidneg/1702.png\n",
            "/content/gdrive/My Drive/corona/ct_dataset/ct_scan/covidneg/171.png\n",
            "/content/gdrive/My Drive/corona/ct_dataset/ct_scan/covidneg/174.png\n",
            "/content/gdrive/My Drive/corona/ct_dataset/ct_scan/covidneg/176.png\n",
            "/content/gdrive/My Drive/corona/ct_dataset/ct_scan/covidneg/177.png\n",
            "/content/gdrive/My Drive/corona/ct_dataset/ct_scan/covidneg/18%0.jpg\n",
            "/content/gdrive/My Drive/corona/ct_dataset/ct_scan/covidneg/18%1.jpg\n",
            "/content/gdrive/My Drive/corona/ct_dataset/ct_scan/covidneg/18%2.jpg\n",
            "/content/gdrive/My Drive/corona/ct_dataset/ct_scan/covidneg/18%3.jpg\n",
            "/content/gdrive/My Drive/corona/ct_dataset/ct_scan/covidneg/1814.png\n",
            "/content/gdrive/My Drive/corona/ct_dataset/ct_scan/covidneg/1845.png\n",
            "/content/gdrive/My Drive/corona/ct_dataset/ct_scan/covidneg/1846.png\n",
            "/content/gdrive/My Drive/corona/ct_dataset/ct_scan/covidneg/1857.png\n",
            "/content/gdrive/My Drive/corona/ct_dataset/ct_scan/covidneg/1858.png\n",
            "/content/gdrive/My Drive/corona/ct_dataset/ct_scan/covidneg/1859.png\n",
            "/content/gdrive/My Drive/corona/ct_dataset/ct_scan/covidneg/1868.png\n",
            "/content/gdrive/My Drive/corona/ct_dataset/ct_scan/covidneg/1876.png\n",
            "/content/gdrive/My Drive/corona/ct_dataset/ct_scan/covidneg/1877.png\n",
            "/content/gdrive/My Drive/corona/ct_dataset/ct_scan/covidneg/1888.png\n",
            "/content/gdrive/My Drive/corona/ct_dataset/ct_scan/covidneg/1889.png\n",
            "/content/gdrive/My Drive/corona/ct_dataset/ct_scan/covidneg/19%0.jpg\n",
            "/content/gdrive/My Drive/corona/ct_dataset/ct_scan/covidneg/19%1.jpg\n",
            "/content/gdrive/My Drive/corona/ct_dataset/ct_scan/covidneg/1919.png\n",
            "/content/gdrive/My Drive/corona/ct_dataset/ct_scan/covidneg/1920.png\n",
            "/content/gdrive/My Drive/corona/ct_dataset/ct_scan/covidneg/1921.png\n",
            "/content/gdrive/My Drive/corona/ct_dataset/ct_scan/covidneg/1922.png\n",
            "/content/gdrive/My Drive/corona/ct_dataset/ct_scan/covidneg/1923.png\n",
            "/content/gdrive/My Drive/corona/ct_dataset/ct_scan/covidneg/1924.png\n",
            "/content/gdrive/My Drive/corona/ct_dataset/ct_scan/covidneg/1952.png\n",
            "/content/gdrive/My Drive/corona/ct_dataset/ct_scan/covidneg/2%0.jpg\n",
            "/content/gdrive/My Drive/corona/ct_dataset/ct_scan/covidneg/2%1.jpg\n",
            "/content/gdrive/My Drive/corona/ct_dataset/ct_scan/covidneg/2%2.jpg\n",
            "/content/gdrive/My Drive/corona/ct_dataset/ct_scan/covidneg/2%3.jpg\n",
            "/content/gdrive/My Drive/corona/ct_dataset/ct_scan/covidneg/20.jpg\n",
            "/content/gdrive/My Drive/corona/ct_dataset/ct_scan/covidneg/2007.png\n",
            "/content/gdrive/My Drive/corona/ct_dataset/ct_scan/covidneg/2039.png\n",
            "/content/gdrive/My Drive/corona/ct_dataset/ct_scan/covidneg/2040.png\n",
            "/content/gdrive/My Drive/corona/ct_dataset/ct_scan/covidneg/2041.png\n",
            "/content/gdrive/My Drive/corona/ct_dataset/ct_scan/covidneg/21%0.jpg\n",
            "/content/gdrive/My Drive/corona/ct_dataset/ct_scan/covidneg/21%1.jpg\n",
            "/content/gdrive/My Drive/corona/ct_dataset/ct_scan/covidneg/2108.png\n",
            "/content/gdrive/My Drive/corona/ct_dataset/ct_scan/covidneg/2138.png\n",
            "/content/gdrive/My Drive/corona/ct_dataset/ct_scan/covidneg/2139.png\n",
            "/content/gdrive/My Drive/corona/ct_dataset/ct_scan/covidneg/2140.png\n",
            "/content/gdrive/My Drive/corona/ct_dataset/ct_scan/covidneg/2141.png\n",
            "/content/gdrive/My Drive/corona/ct_dataset/ct_scan/covidneg/2142.png\n",
            "/content/gdrive/My Drive/corona/ct_dataset/ct_scan/covidneg/2143.png\n",
            "/content/gdrive/My Drive/corona/ct_dataset/ct_scan/covidneg/2144.png\n",
            "/content/gdrive/My Drive/corona/ct_dataset/ct_scan/covidneg/2145.png\n",
            "/content/gdrive/My Drive/corona/ct_dataset/ct_scan/covidneg/22%0.jpg\n",
            "/content/gdrive/My Drive/corona/ct_dataset/ct_scan/covidneg/22%1.jpg\n",
            "/content/gdrive/My Drive/corona/ct_dataset/ct_scan/covidneg/2237.png\n",
            "/content/gdrive/My Drive/corona/ct_dataset/ct_scan/covidneg/226.png\n",
            "/content/gdrive/My Drive/corona/ct_dataset/ct_scan/covidneg/227.png\n",
            "/content/gdrive/My Drive/corona/ct_dataset/ct_scan/covidneg/23.png\n",
            "/content/gdrive/My Drive/corona/ct_dataset/ct_scan/covidneg/2341.png\n",
            "/content/gdrive/My Drive/corona/ct_dataset/ct_scan/covidneg/24.png\n",
            "/content/gdrive/My Drive/corona/ct_dataset/ct_scan/covidneg/25%0.jpg\n",
            "/content/gdrive/My Drive/corona/ct_dataset/ct_scan/covidneg/25%1.jpg\n",
            "/content/gdrive/My Drive/corona/ct_dataset/ct_scan/covidneg/25%2.jpg\n",
            "/content/gdrive/My Drive/corona/ct_dataset/ct_scan/covidneg/25%3.jpg\n",
            "/content/gdrive/My Drive/corona/ct_dataset/ct_scan/covidneg/25.png\n",
            "/content/gdrive/My Drive/corona/ct_dataset/ct_scan/covidneg/26%0.jpg\n",
            "/content/gdrive/My Drive/corona/ct_dataset/ct_scan/covidneg/26%1.jpg\n",
            "/content/gdrive/My Drive/corona/ct_dataset/ct_scan/covidneg/26%2.jpg\n",
            "/content/gdrive/My Drive/corona/ct_dataset/ct_scan/covidneg/26%3.jpg\n",
            "/content/gdrive/My Drive/corona/ct_dataset/ct_scan/covidneg/26.png\n",
            "/content/gdrive/My Drive/corona/ct_dataset/ct_scan/covidneg/27.jpg\n",
            "/content/gdrive/My Drive/corona/ct_dataset/ct_scan/covidneg/28.jpg\n",
            "/content/gdrive/My Drive/corona/ct_dataset/ct_scan/covidneg/29%0.jpg\n",
            "/content/gdrive/My Drive/corona/ct_dataset/ct_scan/covidneg/29%1.jpg\n",
            "/content/gdrive/My Drive/corona/ct_dataset/ct_scan/covidneg/29%2.jpg\n",
            "/content/gdrive/My Drive/corona/ct_dataset/ct_scan/covidneg/29%3.jpg\n",
            "/content/gdrive/My Drive/corona/ct_dataset/ct_scan/covidneg/294.png\n",
            "/content/gdrive/My Drive/corona/ct_dataset/ct_scan/covidneg/3.jpg\n",
            "/content/gdrive/My Drive/corona/ct_dataset/ct_scan/covidneg/30%0.jpg\n",
            "/content/gdrive/My Drive/corona/ct_dataset/ct_scan/covidneg/30%1.jpg\n",
            "/content/gdrive/My Drive/corona/ct_dataset/ct_scan/covidneg/30%2.jpg\n",
            "/content/gdrive/My Drive/corona/ct_dataset/ct_scan/covidneg/30%3.jpg\n",
            "/content/gdrive/My Drive/corona/ct_dataset/ct_scan/covidneg/30%4.jpg\n",
            "/content/gdrive/My Drive/corona/ct_dataset/ct_scan/covidneg/30%5.jpg\n",
            "/content/gdrive/My Drive/corona/ct_dataset/ct_scan/covidneg/31.jpg\n",
            "/content/gdrive/My Drive/corona/ct_dataset/ct_scan/covidneg/32%0.jpg\n",
            "/content/gdrive/My Drive/corona/ct_dataset/ct_scan/covidneg/32%1.jpg\n",
            "/content/gdrive/My Drive/corona/ct_dataset/ct_scan/covidneg/33%0.jpg\n",
            "/content/gdrive/My Drive/corona/ct_dataset/ct_scan/covidneg/33%1.jpg\n",
            "/content/gdrive/My Drive/corona/ct_dataset/ct_scan/covidneg/33.png\n",
            "/content/gdrive/My Drive/corona/ct_dataset/ct_scan/covidneg/34.jpg\n",
            "/content/gdrive/My Drive/corona/ct_dataset/ct_scan/covidneg/35%0.jpg\n",
            "/content/gdrive/My Drive/corona/ct_dataset/ct_scan/covidneg/35%1.jpg\n",
            "/content/gdrive/My Drive/corona/ct_dataset/ct_scan/covidneg/35%2.jpg\n",
            "/content/gdrive/My Drive/corona/ct_dataset/ct_scan/covidneg/354.png\n",
            "/content/gdrive/My Drive/corona/ct_dataset/ct_scan/covidneg/36%0.jpg\n",
            "/content/gdrive/My Drive/corona/ct_dataset/ct_scan/covidneg/36%1.jpg\n",
            "/content/gdrive/My Drive/corona/ct_dataset/ct_scan/covidneg/361.png\n",
            "/content/gdrive/My Drive/corona/ct_dataset/ct_scan/covidneg/37%0.jpg\n",
            "/content/gdrive/My Drive/corona/ct_dataset/ct_scan/covidneg/37%1.jpg\n",
            "/content/gdrive/My Drive/corona/ct_dataset/ct_scan/covidneg/37%2.jpg\n",
            "/content/gdrive/My Drive/corona/ct_dataset/ct_scan/covidneg/37%3.jpg\n",
            "/content/gdrive/My Drive/corona/ct_dataset/ct_scan/covidneg/37%4.jpg\n",
            "/content/gdrive/My Drive/corona/ct_dataset/ct_scan/covidneg/378.png\n",
            "/content/gdrive/My Drive/corona/ct_dataset/ct_scan/covidneg/38%0.jpg\n",
            "/content/gdrive/My Drive/corona/ct_dataset/ct_scan/covidneg/38%1.jpg\n",
            "/content/gdrive/My Drive/corona/ct_dataset/ct_scan/covidneg/38%2.jpg\n",
            "/content/gdrive/My Drive/corona/ct_dataset/ct_scan/covidneg/381.png\n",
            "/content/gdrive/My Drive/corona/ct_dataset/ct_scan/covidneg/382.png\n",
            "/content/gdrive/My Drive/corona/ct_dataset/ct_scan/covidneg/383.png\n",
            "/content/gdrive/My Drive/corona/ct_dataset/ct_scan/covidneg/385.png\n",
            "/content/gdrive/My Drive/corona/ct_dataset/ct_scan/covidneg/39%0.jpg\n",
            "/content/gdrive/My Drive/corona/ct_dataset/ct_scan/covidneg/39%1.jpg\n",
            "/content/gdrive/My Drive/corona/ct_dataset/ct_scan/covidneg/39%2.jpg\n",
            "/content/gdrive/My Drive/corona/ct_dataset/ct_scan/covidneg/39%3.jpg\n",
            "/content/gdrive/My Drive/corona/ct_dataset/ct_scan/covidneg/39%4.jpg\n",
            "/content/gdrive/My Drive/corona/ct_dataset/ct_scan/covidneg/39%5.jpg\n",
            "/content/gdrive/My Drive/corona/ct_dataset/ct_scan/covidneg/39%6.jpg\n",
            "/content/gdrive/My Drive/corona/ct_dataset/ct_scan/covidneg/39%7.jpg\n",
            "/content/gdrive/My Drive/corona/ct_dataset/ct_scan/covidneg/39%8.jpg\n",
            "/content/gdrive/My Drive/corona/ct_dataset/ct_scan/covidneg/4%1.jpg\n",
            "/content/gdrive/My Drive/corona/ct_dataset/ct_scan/covidneg/4%3.jpg\n",
            "/content/gdrive/My Drive/corona/ct_dataset/ct_scan/covidneg/4%5.jpg\n",
            "/content/gdrive/My Drive/corona/ct_dataset/ct_scan/covidneg/4%7.jpg\n",
            "/content/gdrive/My Drive/corona/ct_dataset/ct_scan/covidneg/40%0.jpg\n",
            "/content/gdrive/My Drive/corona/ct_dataset/ct_scan/covidneg/40%1.jpg\n",
            "/content/gdrive/My Drive/corona/ct_dataset/ct_scan/covidneg/41.jpg\n",
            "/content/gdrive/My Drive/corona/ct_dataset/ct_scan/covidneg/412.png\n",
            "/content/gdrive/My Drive/corona/ct_dataset/ct_scan/covidneg/413.png\n",
            "/content/gdrive/My Drive/corona/ct_dataset/ct_scan/covidneg/414.png\n",
            "/content/gdrive/My Drive/corona/ct_dataset/ct_scan/covidneg/42.jpg\n",
            "/content/gdrive/My Drive/corona/ct_dataset/ct_scan/covidneg/43%1.jpg\n",
            "/content/gdrive/My Drive/corona/ct_dataset/ct_scan/covidneg/43%2.jpg\n",
            "/content/gdrive/My Drive/corona/ct_dataset/ct_scan/covidneg/43%3.jpg\n",
            "/content/gdrive/My Drive/corona/ct_dataset/ct_scan/covidneg/43.png\n",
            "/content/gdrive/My Drive/corona/ct_dataset/ct_scan/covidneg/44%0.jpg\n",
            "/content/gdrive/My Drive/corona/ct_dataset/ct_scan/covidneg/44%1.jpg\n",
            "/content/gdrive/My Drive/corona/ct_dataset/ct_scan/covidneg/44.png\n",
            "/content/gdrive/My Drive/corona/ct_dataset/ct_scan/covidneg/45.jpg\n",
            "/content/gdrive/My Drive/corona/ct_dataset/ct_scan/covidneg/452.png\n",
            "/content/gdrive/My Drive/corona/ct_dataset/ct_scan/covidneg/46.jpg\n",
            "/content/gdrive/My Drive/corona/ct_dataset/ct_scan/covidneg/47.jpg\n",
            "/content/gdrive/My Drive/corona/ct_dataset/ct_scan/covidneg/48.jpg\n",
            "/content/gdrive/My Drive/corona/ct_dataset/ct_scan/covidneg/486.png\n",
            "/content/gdrive/My Drive/corona/ct_dataset/ct_scan/covidneg/487.png\n",
            "/content/gdrive/My Drive/corona/ct_dataset/ct_scan/covidneg/49%0.jpg\n",
            "/content/gdrive/My Drive/corona/ct_dataset/ct_scan/covidneg/49%1.jpg\n",
            "/content/gdrive/My Drive/corona/ct_dataset/ct_scan/covidneg/5%0.jpg\n",
            "/content/gdrive/My Drive/corona/ct_dataset/ct_scan/covidneg/5%1.jpg\n",
            "/content/gdrive/My Drive/corona/ct_dataset/ct_scan/covidneg/5%2.jpg\n",
            "/content/gdrive/My Drive/corona/ct_dataset/ct_scan/covidneg/5%3.jpg\n",
            "/content/gdrive/My Drive/corona/ct_dataset/ct_scan/covidneg/5%4.jpg\n",
            "/content/gdrive/My Drive/corona/ct_dataset/ct_scan/covidneg/5%5.jpg\n",
            "/content/gdrive/My Drive/corona/ct_dataset/ct_scan/covidneg/5%6.jpg\n",
            "/content/gdrive/My Drive/corona/ct_dataset/ct_scan/covidneg/5%7.jpg\n",
            "/content/gdrive/My Drive/corona/ct_dataset/ct_scan/covidneg/50.jpg\n",
            "/content/gdrive/My Drive/corona/ct_dataset/ct_scan/covidneg/51%0.jpg\n",
            "/content/gdrive/My Drive/corona/ct_dataset/ct_scan/covidneg/51%1.jpg\n",
            "/content/gdrive/My Drive/corona/ct_dataset/ct_scan/covidneg/51%2.jpg\n",
            "/content/gdrive/My Drive/corona/ct_dataset/ct_scan/covidneg/51%3.jpg\n",
            "/content/gdrive/My Drive/corona/ct_dataset/ct_scan/covidneg/52%0.jpg\n",
            "/content/gdrive/My Drive/corona/ct_dataset/ct_scan/covidneg/52%1.jpg\n",
            "/content/gdrive/My Drive/corona/ct_dataset/ct_scan/covidneg/53.jpg\n",
            "/content/gdrive/My Drive/corona/ct_dataset/ct_scan/covidneg/54%0.jpg\n",
            "/content/gdrive/My Drive/corona/ct_dataset/ct_scan/covidneg/54%1.jpg\n",
            "/content/gdrive/My Drive/corona/ct_dataset/ct_scan/covidneg/54%2.jpg\n",
            "/content/gdrive/My Drive/corona/ct_dataset/ct_scan/covidneg/54%3.jpg\n",
            "/content/gdrive/My Drive/corona/ct_dataset/ct_scan/covidneg/56%0.jpg\n",
            "/content/gdrive/My Drive/corona/ct_dataset/ct_scan/covidneg/56%1.jpg\n",
            "/content/gdrive/My Drive/corona/ct_dataset/ct_scan/covidneg/57%0.jpg\n",
            "/content/gdrive/My Drive/corona/ct_dataset/ct_scan/covidneg/575.png\n",
            "/content/gdrive/My Drive/corona/ct_dataset/ct_scan/covidneg/576.png\n",
            "/content/gdrive/My Drive/corona/ct_dataset/ct_scan/covidneg/577.png\n",
            "/content/gdrive/My Drive/corona/ct_dataset/ct_scan/covidneg/578.png\n",
            "/content/gdrive/My Drive/corona/ct_dataset/ct_scan/covidneg/579.png\n",
            "/content/gdrive/My Drive/corona/ct_dataset/ct_scan/covidneg/580.png\n",
            "/content/gdrive/My Drive/corona/ct_dataset/ct_scan/covidneg/583.png\n",
            "/content/gdrive/My Drive/corona/ct_dataset/ct_scan/covidneg/584.png\n",
            "/content/gdrive/My Drive/corona/ct_dataset/ct_scan/covidneg/585.png\n",
            "/content/gdrive/My Drive/corona/ct_dataset/ct_scan/covidneg/586.png\n",
            "/content/gdrive/My Drive/corona/ct_dataset/ct_scan/covidneg/587.png\n",
            "/content/gdrive/My Drive/corona/ct_dataset/ct_scan/covidneg/59%0.jpg\n",
            "/content/gdrive/My Drive/corona/ct_dataset/ct_scan/covidneg/59.png\n",
            "/content/gdrive/My Drive/corona/ct_dataset/ct_scan/covidneg/590.png\n",
            "/content/gdrive/My Drive/corona/ct_dataset/ct_scan/covidneg/591.png\n",
            "/content/gdrive/My Drive/corona/ct_dataset/ct_scan/covidneg/592.png\n",
            "/content/gdrive/My Drive/corona/ct_dataset/ct_scan/covidneg/6%0.jpg\n",
            "/content/gdrive/My Drive/corona/ct_dataset/ct_scan/covidneg/6%1.jpg\n",
            "/content/gdrive/My Drive/corona/ct_dataset/ct_scan/covidneg/6%2.jpg\n",
            "/content/gdrive/My Drive/corona/ct_dataset/ct_scan/covidneg/6%3.jpg\n",
            "/content/gdrive/My Drive/corona/ct_dataset/ct_scan/covidneg/60.jpg\n",
            "/content/gdrive/My Drive/corona/ct_dataset/ct_scan/covidneg/62.jpg\n",
            "/content/gdrive/My Drive/corona/ct_dataset/ct_scan/covidneg/63%0.jpg\n",
            "/content/gdrive/My Drive/corona/ct_dataset/ct_scan/covidneg/63%1.jpg\n",
            "/content/gdrive/My Drive/corona/ct_dataset/ct_scan/covidneg/63%2.jpg\n",
            "/content/gdrive/My Drive/corona/ct_dataset/ct_scan/covidneg/63%3.jpg\n",
            "/content/gdrive/My Drive/corona/ct_dataset/ct_scan/covidneg/63%4.jpg\n",
            "/content/gdrive/My Drive/corona/ct_dataset/ct_scan/covidneg/63%5.jpg\n",
            "/content/gdrive/My Drive/corona/ct_dataset/ct_scan/covidneg/63%6.jpg\n",
            "/content/gdrive/My Drive/corona/ct_dataset/ct_scan/covidneg/63%7.jpg\n",
            "/content/gdrive/My Drive/corona/ct_dataset/ct_scan/covidneg/64.jpg\n",
            "/content/gdrive/My Drive/corona/ct_dataset/ct_scan/covidneg/65%0.jpg\n",
            "/content/gdrive/My Drive/corona/ct_dataset/ct_scan/covidneg/65%1.jpg\n",
            "/content/gdrive/My Drive/corona/ct_dataset/ct_scan/covidneg/65%2.jpg\n",
            "/content/gdrive/My Drive/corona/ct_dataset/ct_scan/covidneg/65%3.jpg\n",
            "/content/gdrive/My Drive/corona/ct_dataset/ct_scan/covidneg/65%4.jpg\n",
            "/content/gdrive/My Drive/corona/ct_dataset/ct_scan/covidneg/658.png\n",
            "/content/gdrive/My Drive/corona/ct_dataset/ct_scan/covidneg/66.jpg\n",
            "/content/gdrive/My Drive/corona/ct_dataset/ct_scan/covidneg/660.png\n",
            "/content/gdrive/My Drive/corona/ct_dataset/ct_scan/covidneg/661.png\n",
            "/content/gdrive/My Drive/corona/ct_dataset/ct_scan/covidneg/662.png\n",
            "/content/gdrive/My Drive/corona/ct_dataset/ct_scan/covidneg/663.png\n",
            "/content/gdrive/My Drive/corona/ct_dataset/ct_scan/covidneg/67%0.jpg\n",
            "/content/gdrive/My Drive/corona/ct_dataset/ct_scan/covidneg/67%1.jpg\n",
            "/content/gdrive/My Drive/corona/ct_dataset/ct_scan/covidneg/67%2.jpg\n",
            "/content/gdrive/My Drive/corona/ct_dataset/ct_scan/covidneg/672.png\n",
            "/content/gdrive/My Drive/corona/ct_dataset/ct_scan/covidneg/673.png\n",
            "/content/gdrive/My Drive/corona/ct_dataset/ct_scan/covidneg/68.jpg\n",
            "/content/gdrive/My Drive/corona/ct_dataset/ct_scan/covidneg/69%0.jpg\n",
            "/content/gdrive/My Drive/corona/ct_dataset/ct_scan/covidneg/69%1.jpg\n",
            "/content/gdrive/My Drive/corona/ct_dataset/ct_scan/covidneg/7.jpg\n",
            "/content/gdrive/My Drive/corona/ct_dataset/ct_scan/covidneg/70%0.jpg\n",
            "/content/gdrive/My Drive/corona/ct_dataset/ct_scan/covidneg/70%1.jpg\n",
            "/content/gdrive/My Drive/corona/ct_dataset/ct_scan/covidneg/704.png\n",
            "/content/gdrive/My Drive/corona/ct_dataset/ct_scan/covidneg/705.png\n",
            "/content/gdrive/My Drive/corona/ct_dataset/ct_scan/covidneg/706.png\n",
            "/content/gdrive/My Drive/corona/ct_dataset/ct_scan/covidneg/709.png\n",
            "/content/gdrive/My Drive/corona/ct_dataset/ct_scan/covidneg/71%0.jpg\n",
            "/content/gdrive/My Drive/corona/ct_dataset/ct_scan/covidneg/71%1.jpg\n",
            "/content/gdrive/My Drive/corona/ct_dataset/ct_scan/covidneg/72.jpg\n",
            "/content/gdrive/My Drive/corona/ct_dataset/ct_scan/covidneg/73.jpg\n",
            "/content/gdrive/My Drive/corona/ct_dataset/ct_scan/covidneg/74.jpg\n",
            "/content/gdrive/My Drive/corona/ct_dataset/ct_scan/covidneg/75%0.jpg\n",
            "/content/gdrive/My Drive/corona/ct_dataset/ct_scan/covidneg/75%1.jpg\n",
            "/content/gdrive/My Drive/corona/ct_dataset/ct_scan/covidneg/753.png\n",
            "/content/gdrive/My Drive/corona/ct_dataset/ct_scan/covidneg/754.png\n",
            "/content/gdrive/My Drive/corona/ct_dataset/ct_scan/covidneg/76%0.jpg\n",
            "/content/gdrive/My Drive/corona/ct_dataset/ct_scan/covidneg/76%1.jpg\n",
            "/content/gdrive/My Drive/corona/ct_dataset/ct_scan/covidneg/76%2.jpg\n",
            "/content/gdrive/My Drive/corona/ct_dataset/ct_scan/covidneg/77.jpg\n",
            "/content/gdrive/My Drive/corona/ct_dataset/ct_scan/covidneg/78.jpg\n",
            "/content/gdrive/My Drive/corona/ct_dataset/ct_scan/covidneg/781.png\n",
            "/content/gdrive/My Drive/corona/ct_dataset/ct_scan/covidneg/782.png\n",
            "/content/gdrive/My Drive/corona/ct_dataset/ct_scan/covidneg/79.jpg\n",
            "/content/gdrive/My Drive/corona/ct_dataset/ct_scan/covidneg/8.jpg\n",
            "/content/gdrive/My Drive/corona/ct_dataset/ct_scan/covidneg/80%0.jpg\n",
            "/content/gdrive/My Drive/corona/ct_dataset/ct_scan/covidneg/80%1.jpg\n",
            "/content/gdrive/My Drive/corona/ct_dataset/ct_scan/covidneg/81%0.jpg\n",
            "/content/gdrive/My Drive/corona/ct_dataset/ct_scan/covidneg/81%1.jpg\n",
            "/content/gdrive/My Drive/corona/ct_dataset/ct_scan/covidneg/81%2.jpg\n",
            "/content/gdrive/My Drive/corona/ct_dataset/ct_scan/covidneg/81%3.jpg\n",
            "/content/gdrive/My Drive/corona/ct_dataset/ct_scan/covidneg/81.png\n",
            "/content/gdrive/My Drive/corona/ct_dataset/ct_scan/covidneg/82%0.jpg\n",
            "/content/gdrive/My Drive/corona/ct_dataset/ct_scan/covidneg/82%1.jpg\n",
            "/content/gdrive/My Drive/corona/ct_dataset/ct_scan/covidneg/82%2.jpg\n",
            "/content/gdrive/My Drive/corona/ct_dataset/ct_scan/covidneg/82%3.jpg\n",
            "/content/gdrive/My Drive/corona/ct_dataset/ct_scan/covidneg/82.png\n",
            "/content/gdrive/My Drive/corona/ct_dataset/ct_scan/covidneg/83%0.jpg\n",
            "/content/gdrive/My Drive/corona/ct_dataset/ct_scan/covidneg/83%1.jpg\n",
            "/content/gdrive/My Drive/corona/ct_dataset/ct_scan/covidneg/83%2.jpg\n",
            "/content/gdrive/My Drive/corona/ct_dataset/ct_scan/covidneg/83%3.jpg\n",
            "/content/gdrive/My Drive/corona/ct_dataset/ct_scan/covidneg/84%0.jpg\n",
            "/content/gdrive/My Drive/corona/ct_dataset/ct_scan/covidneg/84%1.jpg\n",
            "/content/gdrive/My Drive/corona/ct_dataset/ct_scan/covidneg/84%2.jpg\n",
            "/content/gdrive/My Drive/corona/ct_dataset/ct_scan/covidneg/84%3.jpg\n",
            "/content/gdrive/My Drive/corona/ct_dataset/ct_scan/covidneg/848.png\n",
            "/content/gdrive/My Drive/corona/ct_dataset/ct_scan/covidneg/849.png\n",
            "/content/gdrive/My Drive/corona/ct_dataset/ct_scan/covidneg/85%0.jpg\n",
            "/content/gdrive/My Drive/corona/ct_dataset/ct_scan/covidneg/85%1.jpg\n",
            "/content/gdrive/My Drive/corona/ct_dataset/ct_scan/covidneg/86.jpg\n",
            "/content/gdrive/My Drive/corona/ct_dataset/ct_scan/covidneg/88.jpg\n",
            "/content/gdrive/My Drive/corona/ct_dataset/ct_scan/covidneg/887.png\n",
            "/content/gdrive/My Drive/corona/ct_dataset/ct_scan/covidneg/889.png\n",
            "/content/gdrive/My Drive/corona/ct_dataset/ct_scan/covidneg/89%2.jpg\n",
            "/content/gdrive/My Drive/corona/ct_dataset/ct_scan/covidneg/89%3.jpg\n",
            "/content/gdrive/My Drive/corona/ct_dataset/ct_scan/covidneg/890.png\n",
            "/content/gdrive/My Drive/corona/ct_dataset/ct_scan/covidneg/9.jpg\n",
            "/content/gdrive/My Drive/corona/ct_dataset/ct_scan/covidneg/90.jpg\n",
            "/content/gdrive/My Drive/corona/ct_dataset/ct_scan/covidneg/91%0.jpg\n",
            "/content/gdrive/My Drive/corona/ct_dataset/ct_scan/covidneg/91%1.jpg\n",
            "/content/gdrive/My Drive/corona/ct_dataset/ct_scan/covidneg/921.png\n",
            "/content/gdrive/My Drive/corona/ct_dataset/ct_scan/covidneg/956.png\n",
            "/content/gdrive/My Drive/corona/ct_dataset/ct_scan/covidneg/957.png\n",
            "/content/gdrive/My Drive/corona/ct_dataset/ct_scan/covidneg/969.png\n",
            "/content/gdrive/My Drive/corona/ct_dataset/ct_scan/covidneg/996.png\n",
            "/content/gdrive/My Drive/corona/ct_dataset/ct_scan/covidneg/997.png\n"
          ],
          "name": "stdout"
        }
      ]
    },
    {
      "cell_type": "code",
      "metadata": {
        "id": "6UKErt8CjPEG",
        "colab_type": "code",
        "colab": {}
      },
      "source": [
        ""
      ],
      "execution_count": 0,
      "outputs": []
    },
    {
      "cell_type": "markdown",
      "metadata": {
        "id": "ogqg2RBN_t-t",
        "colab_type": "text"
      },
      "source": [
        "Now for the modelling.Firstly I will take in all the data that is available and check my accuracy."
      ]
    },
    {
      "cell_type": "code",
      "metadata": {
        "id": "qjodfuEuzuf0",
        "colab_type": "code",
        "colab": {}
      },
      "source": [
        ""
      ],
      "execution_count": 0,
      "outputs": []
    },
    {
      "cell_type": "code",
      "metadata": {
        "id": "AVg1fJ7izuk6",
        "colab_type": "code",
        "colab": {}
      },
      "source": [
        "import numpy as np\n",
        "import pandas as pd\n",
        "import matplotlib.pyplot as plt\n",
        "%matplotlib inline\n",
        "import torch\n",
        "import torchvision\n",
        "import cv2\n",
        "from PIL import Image"
      ],
      "execution_count": 0,
      "outputs": []
    },
    {
      "cell_type": "code",
      "metadata": {
        "id": "ODTEMxudzuyp",
        "colab_type": "code",
        "outputId": "25383647-b431-460b-a87c-6173fabcb697",
        "colab": {
          "base_uri": "https://localhost:8080/",
          "height": 121
        }
      },
      "source": [
        "from google.colab import drive\n",
        "drive.mount('/content/gdrive', force_remount=True)"
      ],
      "execution_count": 0,
      "outputs": [
        {
          "output_type": "stream",
          "text": [
            "Go to this URL in a browser: https://accounts.google.com/o/oauth2/auth?client_id=947318989803-6bn6qk8qdgf4n4g3pfee6491hc0brc4i.apps.googleusercontent.com&redirect_uri=urn%3aietf%3awg%3aoauth%3a2.0%3aoob&response_type=code&scope=email%20https%3a%2f%2fwww.googleapis.com%2fauth%2fdocs.test%20https%3a%2f%2fwww.googleapis.com%2fauth%2fdrive%20https%3a%2f%2fwww.googleapis.com%2fauth%2fdrive.photos.readonly%20https%3a%2f%2fwww.googleapis.com%2fauth%2fpeopleapi.readonly\n",
            "\n",
            "Enter your authorization code:\n",
            "··········\n",
            "Mounted at /content/gdrive\n"
          ],
          "name": "stdout"
        }
      ]
    },
    {
      "cell_type": "markdown",
      "metadata": {
        "id": "_FouBrcn_7Dk",
        "colab_type": "text"
      },
      "source": [
        "Images are set to 224x224 as I wanted to first model on VGG-19(a simpler model) and then resnet-50."
      ]
    },
    {
      "cell_type": "code",
      "metadata": {
        "id": "vcNKiv5YcOvJ",
        "colab_type": "code",
        "colab": {}
      },
      "source": [
        "from torchvision import transforms\n",
        "TRANSFORM_IMG = transforms.Compose([\n",
        "    transforms.Resize(224),\n",
        "    transforms.CenterCrop(224),\n",
        "    transforms.ToTensor(),transforms.Normalize(mean=[0.485, 0.456, 0.406],\n",
        "              std=[0.229, 0.224, 0.225])])\n",
        "path3=\"/content/gdrive/My Drive/corona/ct_dataset/ct_scan/final_dataset/\"\n",
        "\n",
        "\n",
        "\n",
        "data=torchvision.datasets.ImageFolder(path3,transform=TRANSFORM_IMG)"
      ],
      "execution_count": 0,
      "outputs": []
    },
    {
      "cell_type": "markdown",
      "metadata": {
        "id": "MWF1gsUaAMh0",
        "colab_type": "text"
      },
      "source": [
        "I had to remove 161 images at first as I found them to be completely distorted or rather lungs were not in good shape."
      ]
    },
    {
      "cell_type": "code",
      "metadata": {
        "id": "aKPWX9rPeWmo",
        "colab_type": "code",
        "outputId": "3783a6b3-bc0f-4769-bf3b-da881871cb7a",
        "colab": {
          "base_uri": "https://localhost:8080/",
          "height": 185
        }
      },
      "source": [
        "data\n",
        "#removed 161 images at first.Had 582 images.\n",
        " "
      ],
      "execution_count": 0,
      "outputs": [
        {
          "output_type": "execute_result",
          "data": {
            "text/plain": [
              "Dataset ImageFolder\n",
              "    Number of datapoints: 582\n",
              "    Root location: /content/gdrive/My Drive/corona/ct_dataset/ct_scan/final_dataset/\n",
              "    StandardTransform\n",
              "Transform: Compose(\n",
              "               Resize(size=224, interpolation=PIL.Image.BILINEAR)\n",
              "               CenterCrop(size=(224, 224))\n",
              "               ToTensor()\n",
              "               Normalize(mean=[0.485, 0.456, 0.406], std=[0.229, 0.224, 0.225])\n",
              "           )"
            ]
          },
          "metadata": {
            "tags": []
          },
          "execution_count": 5
        }
      ]
    },
    {
      "cell_type": "code",
      "metadata": {
        "id": "S-IuA8r1eWpo",
        "colab_type": "code",
        "outputId": "51c9876d-d501-46d5-a835-de096eb89c3a",
        "colab": {
          "base_uri": "https://localhost:8080/",
          "height": 34
        }
      },
      "source": [
        "data.class_to_idx"
      ],
      "execution_count": 0,
      "outputs": [
        {
          "output_type": "execute_result",
          "data": {
            "text/plain": [
              "{'covidneg_changed': 0, 'covidpos_changed': 1}"
            ]
          },
          "metadata": {
            "tags": []
          },
          "execution_count": 6
        }
      ]
    },
    {
      "cell_type": "code",
      "metadata": {
        "id": "jlNnX69vU1Rb",
        "colab_type": "code",
        "outputId": "3f222ed3-5e9e-4309-c424-283e978019d9",
        "colab": {
          "base_uri": "https://localhost:8080/",
          "height": 50
        }
      },
      "source": [
        "pos=0\n",
        "neg=0\n",
        "\n",
        "for i in range(0,582):\n",
        "  (_,target)=data.__getitem__(i)\n",
        "  if target==1 : pos=pos+1\n",
        "  else: neg=neg+1\n",
        "print(pos)\n",
        "print(neg)\n",
        "#We get the number of data points in each labels."
      ],
      "execution_count": 0,
      "outputs": [
        {
          "output_type": "stream",
          "text": [
            "279\n",
            "303\n"
          ],
          "name": "stdout"
        }
      ]
    },
    {
      "cell_type": "code",
      "metadata": {
        "id": "5RyDKDTXeWsh",
        "colab_type": "code",
        "colab": {}
      },
      "source": [
        "train,test =torch.utils.data.random_split(data, [512,70])\n"
      ],
      "execution_count": 0,
      "outputs": []
    },
    {
      "cell_type": "markdown",
      "metadata": {
        "id": "GLFNFfQdAeWh",
        "colab_type": "text"
      },
      "source": [
        "Tried with several training  batch sizes later on and found that 64 did my job.Not that the validation batch size has nothing to do with training."
      ]
    },
    {
      "cell_type": "code",
      "metadata": {
        "id": "6iFrBerzeWxg",
        "colab_type": "code",
        "colab": {}
      },
      "source": [
        "dataloaders = {\n",
        "    'train':\n",
        "    torch.utils.data.DataLoader(train,\n",
        "                                batch_size=64,\n",
        "                                shuffle=True,\n",
        "                                num_workers=0,\n",
        "                                drop_last=True),  \n",
        "    'validation':\n",
        "    torch.utils.data.DataLoader(test,\n",
        "                                batch_size=35,\n",
        "                                shuffle=False,\n",
        "                                num_workers=0,\n",
        "                                drop_last=False)  \n",
        "}"
      ],
      "execution_count": 0,
      "outputs": []
    },
    {
      "cell_type": "code",
      "metadata": {
        "id": "BZxi5r2TeW0O",
        "colab_type": "code",
        "outputId": "aba88ba7-2faf-418e-d48a-79ace8ead76f",
        "colab": {
          "base_uri": "https://localhost:8080/",
          "height": 34
        }
      },
      "source": [
        "# Iterate through the dataloader once\n",
        "trainiter = iter(dataloaders['train'])\n",
        "features, labels = next(trainiter)\n",
        "features.shape, labels.shape"
      ],
      "execution_count": 0,
      "outputs": [
        {
          "output_type": "execute_result",
          "data": {
            "text/plain": [
              "(torch.Size([64, 3, 224, 224]), torch.Size([64]))"
            ]
          },
          "metadata": {
            "tags": []
          },
          "execution_count": 52
        }
      ]
    },
    {
      "cell_type": "code",
      "metadata": {
        "id": "-VKfMu_8eWvY",
        "colab_type": "code",
        "outputId": "f16837ab-390c-490a-ced6-feb3189e5263",
        "colab": {
          "base_uri": "https://localhost:8080/",
          "height": 34
        }
      },
      "source": [
        "device = torch.device(\"cuda:0\" if torch.cuda.is_available() else \"cpu\")\n",
        "print(device)"
      ],
      "execution_count": 0,
      "outputs": [
        {
          "output_type": "stream",
          "text": [
            "cuda:0\n"
          ],
          "name": "stdout"
        }
      ]
    },
    {
      "cell_type": "code",
      "metadata": {
        "id": "6FlFoNVPcOx7",
        "colab_type": "code",
        "colab": {}
      },
      "source": [
        "import torchvision.models as models\n",
        "import torch.nn as nn\n",
        "\n",
        "model = models.resnet50(pretrained=True).to(device)\n",
        "    \n"
      ],
      "execution_count": 0,
      "outputs": []
    },
    {
      "cell_type": "markdown",
      "metadata": {
        "id": "zIr7PkQ4CrGR",
        "colab_type": "text"
      },
      "source": [
        "Since resnet-50 was trained on 1000 classes of images I need to change my fc layer in the model(see below).Firstly I trained only on the fc layer but gradually trained the last bottleneck layers too.With batch norm applied at each level my model's gradients would be intact.To check the results of my best model on this data,please visit my [github repo](https://github.com/themendu/covid_from_ctscan)."
      ]
    },
    {
      "cell_type": "code",
      "metadata": {
        "id": "P6FK6AFtucYY",
        "colab_type": "code",
        "colab": {}
      },
      "source": [
        "\n",
        "for param in model.parameters():\n",
        "    param.requires_grad = False   \n",
        "    \n",
        "model.fc = nn.Sequential(\n",
        "               nn.Linear(2048, 128),\n",
        "               nn.ReLU(inplace=True),            \n",
        "               nn.Linear(128, 2)).to(device)\n",
        "\n",
        "#for child in model.children():\n",
        "#  ct +=  1\n",
        "#  if ct < 3:\n",
        "#    for param in child.parameters():\n",
        "#        param.requires_grad = False              "
      ],
      "execution_count": 0,
      "outputs": []
    },
    {
      "cell_type": "code",
      "metadata": {
        "id": "L9MH5ZGcfFZt",
        "colab_type": "code",
        "outputId": "7fba3dbc-227a-41b3-b1d5-a4df6fac88f7",
        "colab": {
          "base_uri": "https://localhost:8080/",
          "height": 1000
        }
      },
      "source": [
        "model"
      ],
      "execution_count": 0,
      "outputs": [
        {
          "output_type": "execute_result",
          "data": {
            "text/plain": [
              "ResNet(\n",
              "  (conv1): Conv2d(3, 64, kernel_size=(7, 7), stride=(2, 2), padding=(3, 3), bias=False)\n",
              "  (bn1): BatchNorm2d(64, eps=1e-05, momentum=0.1, affine=True, track_running_stats=True)\n",
              "  (relu): ReLU(inplace=True)\n",
              "  (maxpool): MaxPool2d(kernel_size=3, stride=2, padding=1, dilation=1, ceil_mode=False)\n",
              "  (layer1): Sequential(\n",
              "    (0): Bottleneck(\n",
              "      (conv1): Conv2d(64, 64, kernel_size=(1, 1), stride=(1, 1), bias=False)\n",
              "      (bn1): BatchNorm2d(64, eps=1e-05, momentum=0.1, affine=True, track_running_stats=True)\n",
              "      (conv2): Conv2d(64, 64, kernel_size=(3, 3), stride=(1, 1), padding=(1, 1), bias=False)\n",
              "      (bn2): BatchNorm2d(64, eps=1e-05, momentum=0.1, affine=True, track_running_stats=True)\n",
              "      (conv3): Conv2d(64, 256, kernel_size=(1, 1), stride=(1, 1), bias=False)\n",
              "      (bn3): BatchNorm2d(256, eps=1e-05, momentum=0.1, affine=True, track_running_stats=True)\n",
              "      (relu): ReLU(inplace=True)\n",
              "      (downsample): Sequential(\n",
              "        (0): Conv2d(64, 256, kernel_size=(1, 1), stride=(1, 1), bias=False)\n",
              "        (1): BatchNorm2d(256, eps=1e-05, momentum=0.1, affine=True, track_running_stats=True)\n",
              "      )\n",
              "    )\n",
              "    (1): Bottleneck(\n",
              "      (conv1): Conv2d(256, 64, kernel_size=(1, 1), stride=(1, 1), bias=False)\n",
              "      (bn1): BatchNorm2d(64, eps=1e-05, momentum=0.1, affine=True, track_running_stats=True)\n",
              "      (conv2): Conv2d(64, 64, kernel_size=(3, 3), stride=(1, 1), padding=(1, 1), bias=False)\n",
              "      (bn2): BatchNorm2d(64, eps=1e-05, momentum=0.1, affine=True, track_running_stats=True)\n",
              "      (conv3): Conv2d(64, 256, kernel_size=(1, 1), stride=(1, 1), bias=False)\n",
              "      (bn3): BatchNorm2d(256, eps=1e-05, momentum=0.1, affine=True, track_running_stats=True)\n",
              "      (relu): ReLU(inplace=True)\n",
              "    )\n",
              "    (2): Bottleneck(\n",
              "      (conv1): Conv2d(256, 64, kernel_size=(1, 1), stride=(1, 1), bias=False)\n",
              "      (bn1): BatchNorm2d(64, eps=1e-05, momentum=0.1, affine=True, track_running_stats=True)\n",
              "      (conv2): Conv2d(64, 64, kernel_size=(3, 3), stride=(1, 1), padding=(1, 1), bias=False)\n",
              "      (bn2): BatchNorm2d(64, eps=1e-05, momentum=0.1, affine=True, track_running_stats=True)\n",
              "      (conv3): Conv2d(64, 256, kernel_size=(1, 1), stride=(1, 1), bias=False)\n",
              "      (bn3): BatchNorm2d(256, eps=1e-05, momentum=0.1, affine=True, track_running_stats=True)\n",
              "      (relu): ReLU(inplace=True)\n",
              "    )\n",
              "  )\n",
              "  (layer2): Sequential(\n",
              "    (0): Bottleneck(\n",
              "      (conv1): Conv2d(256, 128, kernel_size=(1, 1), stride=(1, 1), bias=False)\n",
              "      (bn1): BatchNorm2d(128, eps=1e-05, momentum=0.1, affine=True, track_running_stats=True)\n",
              "      (conv2): Conv2d(128, 128, kernel_size=(3, 3), stride=(2, 2), padding=(1, 1), bias=False)\n",
              "      (bn2): BatchNorm2d(128, eps=1e-05, momentum=0.1, affine=True, track_running_stats=True)\n",
              "      (conv3): Conv2d(128, 512, kernel_size=(1, 1), stride=(1, 1), bias=False)\n",
              "      (bn3): BatchNorm2d(512, eps=1e-05, momentum=0.1, affine=True, track_running_stats=True)\n",
              "      (relu): ReLU(inplace=True)\n",
              "      (downsample): Sequential(\n",
              "        (0): Conv2d(256, 512, kernel_size=(1, 1), stride=(2, 2), bias=False)\n",
              "        (1): BatchNorm2d(512, eps=1e-05, momentum=0.1, affine=True, track_running_stats=True)\n",
              "      )\n",
              "    )\n",
              "    (1): Bottleneck(\n",
              "      (conv1): Conv2d(512, 128, kernel_size=(1, 1), stride=(1, 1), bias=False)\n",
              "      (bn1): BatchNorm2d(128, eps=1e-05, momentum=0.1, affine=True, track_running_stats=True)\n",
              "      (conv2): Conv2d(128, 128, kernel_size=(3, 3), stride=(1, 1), padding=(1, 1), bias=False)\n",
              "      (bn2): BatchNorm2d(128, eps=1e-05, momentum=0.1, affine=True, track_running_stats=True)\n",
              "      (conv3): Conv2d(128, 512, kernel_size=(1, 1), stride=(1, 1), bias=False)\n",
              "      (bn3): BatchNorm2d(512, eps=1e-05, momentum=0.1, affine=True, track_running_stats=True)\n",
              "      (relu): ReLU(inplace=True)\n",
              "    )\n",
              "    (2): Bottleneck(\n",
              "      (conv1): Conv2d(512, 128, kernel_size=(1, 1), stride=(1, 1), bias=False)\n",
              "      (bn1): BatchNorm2d(128, eps=1e-05, momentum=0.1, affine=True, track_running_stats=True)\n",
              "      (conv2): Conv2d(128, 128, kernel_size=(3, 3), stride=(1, 1), padding=(1, 1), bias=False)\n",
              "      (bn2): BatchNorm2d(128, eps=1e-05, momentum=0.1, affine=True, track_running_stats=True)\n",
              "      (conv3): Conv2d(128, 512, kernel_size=(1, 1), stride=(1, 1), bias=False)\n",
              "      (bn3): BatchNorm2d(512, eps=1e-05, momentum=0.1, affine=True, track_running_stats=True)\n",
              "      (relu): ReLU(inplace=True)\n",
              "    )\n",
              "    (3): Bottleneck(\n",
              "      (conv1): Conv2d(512, 128, kernel_size=(1, 1), stride=(1, 1), bias=False)\n",
              "      (bn1): BatchNorm2d(128, eps=1e-05, momentum=0.1, affine=True, track_running_stats=True)\n",
              "      (conv2): Conv2d(128, 128, kernel_size=(3, 3), stride=(1, 1), padding=(1, 1), bias=False)\n",
              "      (bn2): BatchNorm2d(128, eps=1e-05, momentum=0.1, affine=True, track_running_stats=True)\n",
              "      (conv3): Conv2d(128, 512, kernel_size=(1, 1), stride=(1, 1), bias=False)\n",
              "      (bn3): BatchNorm2d(512, eps=1e-05, momentum=0.1, affine=True, track_running_stats=True)\n",
              "      (relu): ReLU(inplace=True)\n",
              "    )\n",
              "  )\n",
              "  (layer3): Sequential(\n",
              "    (0): Bottleneck(\n",
              "      (conv1): Conv2d(512, 256, kernel_size=(1, 1), stride=(1, 1), bias=False)\n",
              "      (bn1): BatchNorm2d(256, eps=1e-05, momentum=0.1, affine=True, track_running_stats=True)\n",
              "      (conv2): Conv2d(256, 256, kernel_size=(3, 3), stride=(2, 2), padding=(1, 1), bias=False)\n",
              "      (bn2): BatchNorm2d(256, eps=1e-05, momentum=0.1, affine=True, track_running_stats=True)\n",
              "      (conv3): Conv2d(256, 1024, kernel_size=(1, 1), stride=(1, 1), bias=False)\n",
              "      (bn3): BatchNorm2d(1024, eps=1e-05, momentum=0.1, affine=True, track_running_stats=True)\n",
              "      (relu): ReLU(inplace=True)\n",
              "      (downsample): Sequential(\n",
              "        (0): Conv2d(512, 1024, kernel_size=(1, 1), stride=(2, 2), bias=False)\n",
              "        (1): BatchNorm2d(1024, eps=1e-05, momentum=0.1, affine=True, track_running_stats=True)\n",
              "      )\n",
              "    )\n",
              "    (1): Bottleneck(\n",
              "      (conv1): Conv2d(1024, 256, kernel_size=(1, 1), stride=(1, 1), bias=False)\n",
              "      (bn1): BatchNorm2d(256, eps=1e-05, momentum=0.1, affine=True, track_running_stats=True)\n",
              "      (conv2): Conv2d(256, 256, kernel_size=(3, 3), stride=(1, 1), padding=(1, 1), bias=False)\n",
              "      (bn2): BatchNorm2d(256, eps=1e-05, momentum=0.1, affine=True, track_running_stats=True)\n",
              "      (conv3): Conv2d(256, 1024, kernel_size=(1, 1), stride=(1, 1), bias=False)\n",
              "      (bn3): BatchNorm2d(1024, eps=1e-05, momentum=0.1, affine=True, track_running_stats=True)\n",
              "      (relu): ReLU(inplace=True)\n",
              "    )\n",
              "    (2): Bottleneck(\n",
              "      (conv1): Conv2d(1024, 256, kernel_size=(1, 1), stride=(1, 1), bias=False)\n",
              "      (bn1): BatchNorm2d(256, eps=1e-05, momentum=0.1, affine=True, track_running_stats=True)\n",
              "      (conv2): Conv2d(256, 256, kernel_size=(3, 3), stride=(1, 1), padding=(1, 1), bias=False)\n",
              "      (bn2): BatchNorm2d(256, eps=1e-05, momentum=0.1, affine=True, track_running_stats=True)\n",
              "      (conv3): Conv2d(256, 1024, kernel_size=(1, 1), stride=(1, 1), bias=False)\n",
              "      (bn3): BatchNorm2d(1024, eps=1e-05, momentum=0.1, affine=True, track_running_stats=True)\n",
              "      (relu): ReLU(inplace=True)\n",
              "    )\n",
              "    (3): Bottleneck(\n",
              "      (conv1): Conv2d(1024, 256, kernel_size=(1, 1), stride=(1, 1), bias=False)\n",
              "      (bn1): BatchNorm2d(256, eps=1e-05, momentum=0.1, affine=True, track_running_stats=True)\n",
              "      (conv2): Conv2d(256, 256, kernel_size=(3, 3), stride=(1, 1), padding=(1, 1), bias=False)\n",
              "      (bn2): BatchNorm2d(256, eps=1e-05, momentum=0.1, affine=True, track_running_stats=True)\n",
              "      (conv3): Conv2d(256, 1024, kernel_size=(1, 1), stride=(1, 1), bias=False)\n",
              "      (bn3): BatchNorm2d(1024, eps=1e-05, momentum=0.1, affine=True, track_running_stats=True)\n",
              "      (relu): ReLU(inplace=True)\n",
              "    )\n",
              "    (4): Bottleneck(\n",
              "      (conv1): Conv2d(1024, 256, kernel_size=(1, 1), stride=(1, 1), bias=False)\n",
              "      (bn1): BatchNorm2d(256, eps=1e-05, momentum=0.1, affine=True, track_running_stats=True)\n",
              "      (conv2): Conv2d(256, 256, kernel_size=(3, 3), stride=(1, 1), padding=(1, 1), bias=False)\n",
              "      (bn2): BatchNorm2d(256, eps=1e-05, momentum=0.1, affine=True, track_running_stats=True)\n",
              "      (conv3): Conv2d(256, 1024, kernel_size=(1, 1), stride=(1, 1), bias=False)\n",
              "      (bn3): BatchNorm2d(1024, eps=1e-05, momentum=0.1, affine=True, track_running_stats=True)\n",
              "      (relu): ReLU(inplace=True)\n",
              "    )\n",
              "    (5): Bottleneck(\n",
              "      (conv1): Conv2d(1024, 256, kernel_size=(1, 1), stride=(1, 1), bias=False)\n",
              "      (bn1): BatchNorm2d(256, eps=1e-05, momentum=0.1, affine=True, track_running_stats=True)\n",
              "      (conv2): Conv2d(256, 256, kernel_size=(3, 3), stride=(1, 1), padding=(1, 1), bias=False)\n",
              "      (bn2): BatchNorm2d(256, eps=1e-05, momentum=0.1, affine=True, track_running_stats=True)\n",
              "      (conv3): Conv2d(256, 1024, kernel_size=(1, 1), stride=(1, 1), bias=False)\n",
              "      (bn3): BatchNorm2d(1024, eps=1e-05, momentum=0.1, affine=True, track_running_stats=True)\n",
              "      (relu): ReLU(inplace=True)\n",
              "    )\n",
              "  )\n",
              "  (layer4): Sequential(\n",
              "    (0): Bottleneck(\n",
              "      (conv1): Conv2d(1024, 512, kernel_size=(1, 1), stride=(1, 1), bias=False)\n",
              "      (bn1): BatchNorm2d(512, eps=1e-05, momentum=0.1, affine=True, track_running_stats=True)\n",
              "      (conv2): Conv2d(512, 512, kernel_size=(3, 3), stride=(2, 2), padding=(1, 1), bias=False)\n",
              "      (bn2): BatchNorm2d(512, eps=1e-05, momentum=0.1, affine=True, track_running_stats=True)\n",
              "      (conv3): Conv2d(512, 2048, kernel_size=(1, 1), stride=(1, 1), bias=False)\n",
              "      (bn3): BatchNorm2d(2048, eps=1e-05, momentum=0.1, affine=True, track_running_stats=True)\n",
              "      (relu): ReLU(inplace=True)\n",
              "      (downsample): Sequential(\n",
              "        (0): Conv2d(1024, 2048, kernel_size=(1, 1), stride=(2, 2), bias=False)\n",
              "        (1): BatchNorm2d(2048, eps=1e-05, momentum=0.1, affine=True, track_running_stats=True)\n",
              "      )\n",
              "    )\n",
              "    (1): Bottleneck(\n",
              "      (conv1): Conv2d(2048, 512, kernel_size=(1, 1), stride=(1, 1), bias=False)\n",
              "      (bn1): BatchNorm2d(512, eps=1e-05, momentum=0.1, affine=True, track_running_stats=True)\n",
              "      (conv2): Conv2d(512, 512, kernel_size=(3, 3), stride=(1, 1), padding=(1, 1), bias=False)\n",
              "      (bn2): BatchNorm2d(512, eps=1e-05, momentum=0.1, affine=True, track_running_stats=True)\n",
              "      (conv3): Conv2d(512, 2048, kernel_size=(1, 1), stride=(1, 1), bias=False)\n",
              "      (bn3): BatchNorm2d(2048, eps=1e-05, momentum=0.1, affine=True, track_running_stats=True)\n",
              "      (relu): ReLU(inplace=True)\n",
              "    )\n",
              "    (2): Bottleneck(\n",
              "      (conv1): Conv2d(2048, 512, kernel_size=(1, 1), stride=(1, 1), bias=False)\n",
              "      (bn1): BatchNorm2d(512, eps=1e-05, momentum=0.1, affine=True, track_running_stats=True)\n",
              "      (conv2): Conv2d(512, 512, kernel_size=(3, 3), stride=(1, 1), padding=(1, 1), bias=False)\n",
              "      (bn2): BatchNorm2d(512, eps=1e-05, momentum=0.1, affine=True, track_running_stats=True)\n",
              "      (conv3): Conv2d(512, 2048, kernel_size=(1, 1), stride=(1, 1), bias=False)\n",
              "      (bn3): BatchNorm2d(2048, eps=1e-05, momentum=0.1, affine=True, track_running_stats=True)\n",
              "      (relu): ReLU(inplace=True)\n",
              "    )\n",
              "  )\n",
              "  (avgpool): AdaptiveAvgPool2d(output_size=(1, 1))\n",
              "  (fc): Linear(in_features=2048, out_features=1000, bias=True)\n",
              ")"
            ]
          },
          "metadata": {
            "tags": []
          },
          "execution_count": 55
        }
      ]
    },
    {
      "cell_type": "markdown",
      "metadata": {
        "id": "SRHwyfhTFXYI",
        "colab_type": "text"
      },
      "source": [
        "Adding weight decay in Adam Optimizer would lead to regular L2-regression."
      ]
    },
    {
      "cell_type": "code",
      "metadata": {
        "id": "GZxAKYjffJqq",
        "colab_type": "code",
        "colab": {}
      },
      "source": [
        "import torch.optim as optim\n",
        "criterion = nn.CrossEntropyLoss()\n",
        "#optimizer = optim.Adam(model.fc.parameters(),lr=0.001, betas=(0.9, 0.999), eps=1e-08, weight_decay=0, amsgrad=False)\n",
        "\n",
        "optimizer = optim.SGD(model.fc.parameters(), lr=0.005, momentum=0,weight_decay=0.4)\n"
      ],
      "execution_count": 0,
      "outputs": []
    },
    {
      "cell_type": "code",
      "metadata": {
        "id": "YqjM0TmFfJtP",
        "colab_type": "code",
        "colab": {}
      },
      "source": [
        "def recall(y_true:torch.Tensor, y_pred:torch.Tensor, is_training=False) -> torch.Tensor:\n",
        "\n",
        "    assert y_true.ndim == 1\n",
        "    assert y_pred.ndim == 1 or y_pred.ndim == 2\n",
        "    \n",
        "    if y_pred.ndim == 2:\n",
        "        y_pred = y_pred.argmax(dim=1)\n",
        "        \n",
        "    \n",
        "    tp = (y_true * y_pred).sum().to(torch.float32)\n",
        "    fn = (y_true * (1 - y_pred)).sum().to(torch.float32)\n",
        "    \n",
        "    epsilon = 1e-7\n",
        "    recall = tp / (tp + fn + epsilon)\n",
        "  \n",
        "    return recall\n"
      ],
      "execution_count": 0,
      "outputs": []
    },
    {
      "cell_type": "markdown",
      "metadata": {
        "id": "qOzLBWg9Flnt",
        "colab_type": "text"
      },
      "source": [
        "The function keeps track of both the losses,accuracies and the recall scores."
      ]
    },
    {
      "cell_type": "code",
      "metadata": {
        "id": "Q2tF0YzLfJwG",
        "colab_type": "code",
        "colab": {}
      },
      "source": [
        "def train_model(model, criterion, optimizer, num_epochs):\n",
        "    losses_train_list=[]\n",
        "    losses_test_list=[]\n",
        "    recall_train_list=[]\n",
        "    recall_test_list=[]\n",
        "    for epoch in range(num_epochs):\n",
        "        print('Epoch {}/{}'.format(epoch+1, num_epochs))\n",
        "        print('-' * 10)\n",
        "\n",
        "        for phase in ['train', 'validation']:\n",
        "            if phase == 'train':\n",
        "                model.train()\n",
        "            else:\n",
        "                model.eval()\n",
        "\n",
        "            running_loss = 0.0\n",
        "            running_corrects = 0\n",
        "\n",
        "            for inputs, labels in dataloaders[phase]:\n",
        "                inputs = inputs.to(device)\n",
        "                labels = labels.to(device)\n",
        "\n",
        "                outputs = model(inputs)\n",
        "                loss = criterion(outputs, labels)\n",
        "\n",
        "                if phase == 'train':\n",
        "                    optimizer.zero_grad()\n",
        "                    loss.backward()\n",
        "                    optimizer.step()\n",
        "                _, preds = torch.max(outputs, 1)\n",
        "                running_loss += loss.item() * inputs.size(0)\n",
        "                running_corrects += torch.sum(preds == labels.data)\n",
        "            if phase=='train':\n",
        "                           epoch_loss = running_loss /512\n",
        "                           epoch_acc = running_corrects.double() /512\n",
        "                           print('train recall score is : {}'.format(recall(labels.data.to('cpu'), outputs.data.to('cpu'))))\n",
        "                           losses_train_list.append(epoch_loss)\n",
        "                           recall_train_list.append(recall(labels.data.to('cpu'), outputs.data.to('cpu')))\n",
        "\n",
        "\n",
        "            else: \n",
        "                           epoch_loss = running_loss /70\n",
        "                           epoch_acc = running_corrects.double() /70\n",
        "                           print('valid recall score is : {}'.format(recall(labels.data.to('cpu'), outputs.data.to('cpu'))))\n",
        "                           losses_test_list.append(epoch_loss)\n",
        "                           recall_test_list.append(recall(labels.data.to('cpu'), outputs.data.to('cpu')))\n",
        "\n",
        "\n",
        "\n",
        "            print('{} loss: {:.4f}, acc: {:.4f}'.format(phase,\n",
        "                                                        epoch_loss,\n",
        "                                                        epoch_acc))\n",
        "\n",
        "\n",
        "    return model,losses_train_list,losses_test_list,recall_train_list,recall_test_list,outputs,labels"
      ],
      "execution_count": 0,
      "outputs": []
    },
    {
      "cell_type": "markdown",
      "metadata": {
        "id": "dhFM8SbECQJa",
        "colab_type": "text"
      },
      "source": [
        "I have taken into account the recall score along with accuracy.I have tried to increase my recall score with no huge loss to accuracy.Ultimately to check the nature of fit, I have checked the values of train and test losses."
      ]
    },
    {
      "cell_type": "code",
      "metadata": {
        "id": "XH73pwRZfJy9",
        "colab_type": "code",
        "colab": {}
      },
      "source": [
        "model_trained,a,b,c,d,e,f= train_model(model, criterion, optimizer, num_epochs=5)\n"
      ],
      "execution_count": 0,
      "outputs": []
    },
    {
      "cell_type": "code",
      "metadata": {
        "id": "YBSLAYkafJ1N",
        "colab_type": "code",
        "colab": {}
      },
      "source": [
        "import matplotlib.pyplot as plt\n",
        "plt.figure(figsize=(8, 6))\n",
        "plt.plot(a,label='train_loss')\n",
        "plt.plot(b,label='test_loss')\n",
        "plt.plot(c,label='train_rec')\n",
        "plt.plot(d,label='test_rec')\n",
        "\n",
        "\n",
        "plt.xlabel(\"epochs\")\n",
        "plt.ylabel(\"value\")\n",
        "plt.title(\"train versus val plot\")\n",
        "\n",
        "plt.legend()\n",
        "plt.show()"
      ],
      "execution_count": 0,
      "outputs": []
    },
    {
      "cell_type": "code",
      "metadata": {
        "id": "ccYsG46LFOTP",
        "colab_type": "code",
        "colab": {}
      },
      "source": [
        ""
      ],
      "execution_count": 0,
      "outputs": []
    },
    {
      "cell_type": "code",
      "metadata": {
        "id": "LZCR1-7dfJ3_",
        "colab_type": "code",
        "colab": {}
      },
      "source": [
        "#torch.save(model_trained.state_dict(), '/content/gdrive/My Drive/corona/ct_dataset/ct_scan/resnet50_adam_finetuning.h5')\n"
      ],
      "execution_count": 0,
      "outputs": []
    },
    {
      "cell_type": "markdown",
      "metadata": {
        "id": "KtZKJ1xsA0-M",
        "colab_type": "text"
      },
      "source": [
        "Upon tuning to get a perfect fit(with changing optimizers,batch size,number of trainable layers in the model) I have achieved 91% accuracy and saved the model."
      ]
    },
    {
      "cell_type": "code",
      "metadata": {
        "id": "1_dH7MJccO0k",
        "colab_type": "code",
        "outputId": "7e9164d4-281b-4dde-b6fc-c825f86af240",
        "colab": {
          "base_uri": "https://localhost:8080/",
          "height": 34
        }
      },
      "source": [
        "model = models.resnet50(pretrained=False).to(device)\n",
        "model.fc = nn.Sequential(\n",
        "               nn.Linear(2048, 128),\n",
        "               nn.ReLU(inplace=True),\n",
        "               nn.Linear(128, 2)).to(device)\n",
        "model.load_state_dict(torch.load('/content/gdrive/My Drive/corona/ct_dataset/ct_scan/resnet50_adam_finetuning.h5'))"
      ],
      "execution_count": 0,
      "outputs": [
        {
          "output_type": "execute_result",
          "data": {
            "text/plain": [
              "<All keys matched successfully>"
            ]
          },
          "metadata": {
            "tags": []
          },
          "execution_count": 78
        }
      ]
    },
    {
      "cell_type": "code",
      "metadata": {
        "id": "nC_fCxSA3eJR",
        "colab_type": "code",
        "colab": {}
      },
      "source": [
        ""
      ],
      "execution_count": 0,
      "outputs": []
    },
    {
      "cell_type": "markdown",
      "metadata": {
        "id": "1pQaXm2rBJz6",
        "colab_type": "text"
      },
      "source": [
        "So now I needed to decrease my data to 232 images,where each image had perfect boundary and no noise and then trained.Finally I noticed that the above saved model when given as initial parameters to train this dataset I had a maximum accuracy(the first two bottleneck layers were not trained).The functions used for training and accuracies are same."
      ]
    },
    {
      "cell_type": "code",
      "metadata": {
        "id": "zSL6Wk_OBMIC",
        "colab_type": "code",
        "colab": {}
      },
      "source": [
        ""
      ],
      "execution_count": 0,
      "outputs": []
    },
    {
      "cell_type": "code",
      "metadata": {
        "id": "oTWA7mRRxtkQ",
        "colab_type": "code",
        "colab": {}
      },
      "source": [
        "import numpy as np\n",
        "import pandas as pd\n",
        "import matplotlib.pyplot as plt\n",
        "%matplotlib inline\n",
        "import torch\n",
        "import torchvision\n",
        "import cv2\n",
        "from PIL import Image"
      ],
      "execution_count": 0,
      "outputs": []
    },
    {
      "cell_type": "code",
      "metadata": {
        "id": "pgXCCBgSxtpp",
        "colab_type": "code",
        "outputId": "ace0532b-d164-4051-fa4e-ac0e0098d487",
        "colab": {
          "base_uri": "https://localhost:8080/",
          "height": 121
        }
      },
      "source": [
        "from google.colab import drive\n",
        "drive.mount('/content/gdrive', force_remount=True)"
      ],
      "execution_count": 0,
      "outputs": [
        {
          "output_type": "stream",
          "text": [
            "Go to this URL in a browser: https://accounts.google.com/o/oauth2/auth?client_id=947318989803-6bn6qk8qdgf4n4g3pfee6491hc0brc4i.apps.googleusercontent.com&redirect_uri=urn%3aietf%3awg%3aoauth%3a2.0%3aoob&response_type=code&scope=email%20https%3a%2f%2fwww.googleapis.com%2fauth%2fdocs.test%20https%3a%2f%2fwww.googleapis.com%2fauth%2fdrive%20https%3a%2f%2fwww.googleapis.com%2fauth%2fdrive.photos.readonly%20https%3a%2f%2fwww.googleapis.com%2fauth%2fpeopleapi.readonly\n",
            "\n",
            "Enter your authorization code:\n",
            "··········\n",
            "Mounted at /content/gdrive\n"
          ],
          "name": "stdout"
        }
      ]
    },
    {
      "cell_type": "code",
      "metadata": {
        "id": "qlcURiFQxCF7",
        "colab_type": "code",
        "colab": {}
      },
      "source": [
        "from torchvision import transforms\n",
        "TRANSFORM_IMG = transforms.Compose([\n",
        "    transforms.Resize(224),\n",
        "    transforms.CenterCrop(224),\n",
        "    transforms.ToTensor(),transforms.Normalize(mean=[0.485, 0.456, 0.406],\n",
        "              std=[0.229, 0.224, 0.225])])\n",
        "path4=\"/content/gdrive/My Drive/corona/ct_dataset/ct_scan/resised/\"\n",
        "\n",
        "\n",
        "\n",
        "data1=torchvision.datasets.ImageFolder(path4,transform=TRANSFORM_IMG)"
      ],
      "execution_count": 0,
      "outputs": []
    },
    {
      "cell_type": "code",
      "metadata": {
        "id": "zrlM17nGxCRv",
        "colab_type": "code",
        "outputId": "01a2a819-d5be-4cc5-999a-ab595306aa9c",
        "colab": {
          "base_uri": "https://localhost:8080/",
          "height": 185
        }
      },
      "source": [
        "data1"
      ],
      "execution_count": 0,
      "outputs": [
        {
          "output_type": "execute_result",
          "data": {
            "text/plain": [
              "Dataset ImageFolder\n",
              "    Number of datapoints: 232\n",
              "    Root location: /content/gdrive/My Drive/corona/ct_dataset/ct_scan/resised/\n",
              "    StandardTransform\n",
              "Transform: Compose(\n",
              "               Resize(size=224, interpolation=PIL.Image.BILINEAR)\n",
              "               CenterCrop(size=(224, 224))\n",
              "               ToTensor()\n",
              "               Normalize(mean=[0.485, 0.456, 0.406], std=[0.229, 0.224, 0.225])\n",
              "           )"
            ]
          },
          "metadata": {
            "tags": []
          },
          "execution_count": 5
        }
      ]
    },
    {
      "cell_type": "code",
      "metadata": {
        "id": "tfwdL8Q-xCOo",
        "colab_type": "code",
        "outputId": "582516b3-4ddb-4e91-dbbe-e800d6222239",
        "colab": {
          "base_uri": "https://localhost:8080/",
          "height": 34
        }
      },
      "source": [
        "data1.class_to_idx"
      ],
      "execution_count": 0,
      "outputs": [
        {
          "output_type": "execute_result",
          "data": {
            "text/plain": [
              "{'neg': 0, 'pos': 1}"
            ]
          },
          "metadata": {
            "tags": []
          },
          "execution_count": 6
        }
      ]
    },
    {
      "cell_type": "code",
      "metadata": {
        "id": "JJAzd47M2cZY",
        "colab_type": "code",
        "outputId": "d0e04015-7dfa-4c51-bf6b-125b27b9b3f3",
        "colab": {
          "base_uri": "https://localhost:8080/",
          "height": 50
        }
      },
      "source": [
        "pos=0\n",
        "neg=0\n",
        "\n",
        "for i in range(0,232):\n",
        "  (_,target)=data1.__getitem__(i)\n",
        "  if target==1 : pos=pos+1\n",
        "  else: neg=neg+1\n",
        "print(pos)\n",
        "print(neg)"
      ],
      "execution_count": 0,
      "outputs": [
        {
          "output_type": "stream",
          "text": [
            "116\n",
            "116\n"
          ],
          "name": "stdout"
        }
      ]
    },
    {
      "cell_type": "code",
      "metadata": {
        "id": "W_odKOhaxCMm",
        "colab_type": "code",
        "colab": {}
      },
      "source": [
        "train1,test1 =torch.utils.data.random_split(data1, [192,40])\n"
      ],
      "execution_count": 0,
      "outputs": []
    },
    {
      "cell_type": "code",
      "metadata": {
        "id": "i3lgpaXCxCKB",
        "colab_type": "code",
        "colab": {}
      },
      "source": [
        "dataloaders1= {\n",
        "    'train':\n",
        "    torch.utils.data.DataLoader(train1,\n",
        "                                batch_size=64,\n",
        "                                shuffle=True,\n",
        "                                num_workers=0,\n",
        "                                drop_last=True),  \n",
        "    'validation':\n",
        "    torch.utils.data.DataLoader(test1,\n",
        "                                batch_size=40,\n",
        "                                shuffle=False,\n",
        "                                num_workers=0,)  \n",
        "}"
      ],
      "execution_count": 0,
      "outputs": []
    },
    {
      "cell_type": "code",
      "metadata": {
        "id": "2zdEnvWAxCDM",
        "colab_type": "code",
        "outputId": "4f1cadc5-c170-499e-908c-01d4afc8eecd",
        "colab": {
          "base_uri": "https://localhost:8080/",
          "height": 34
        }
      },
      "source": [
        "# Iterate through the dataloader once\n",
        "trainiter = iter(dataloaders1['train'])\n",
        "features, labels = next(trainiter)\n",
        "features.shape, labels.shape"
      ],
      "execution_count": 0,
      "outputs": [
        {
          "output_type": "execute_result",
          "data": {
            "text/plain": [
              "(torch.Size([64, 3, 224, 224]), torch.Size([64]))"
            ]
          },
          "metadata": {
            "tags": []
          },
          "execution_count": 9
        }
      ]
    },
    {
      "cell_type": "code",
      "metadata": {
        "id": "3bUO6-v3xCAo",
        "colab_type": "code",
        "outputId": "517b255e-f0b3-47b8-985f-708a487caf8a",
        "colab": {
          "base_uri": "https://localhost:8080/",
          "height": 34
        }
      },
      "source": [
        "device = torch.device(\"cuda:0\" if torch.cuda.is_available() else \"cpu\")\n",
        "print(device)"
      ],
      "execution_count": 0,
      "outputs": [
        {
          "output_type": "stream",
          "text": [
            "cuda:0\n"
          ],
          "name": "stdout"
        }
      ]
    },
    {
      "cell_type": "code",
      "metadata": {
        "id": "31Q8da3hxpSA",
        "colab_type": "code",
        "outputId": "b21c784b-5323-44f9-b99a-571509f3cbc8",
        "colab": {
          "base_uri": "https://localhost:8080/",
          "height": 82,
          "referenced_widgets": [
            "d17f2840c5e741a8884d354346e8a16b",
            "787a5c9cc7054dcc8bd32b493e043227",
            "7f0554d359ea44b5be7a849734ac9ce7",
            "6e89b63de2b74a9b814ad30fdbb4007e",
            "2c2fdac71add41e4bc58640956955c0e",
            "0ef947a9819c45ffb71ba1e4ee5b56e1",
            "7b8be2af85c94017802b432182b5cb78",
            "f120bd8f98a94ea8a341873b06365fdc"
          ]
        }
      },
      "source": [
        "import torchvision.models as models\n",
        "import torch.nn as nn\n",
        "\n",
        "model1 = models.resnet50(pretrained=True).to(device)"
      ],
      "execution_count": 0,
      "outputs": [
        {
          "output_type": "stream",
          "text": [
            "Downloading: \"https://download.pytorch.org/models/resnet50-19c8e357.pth\" to /root/.cache/torch/checkpoints/resnet50-19c8e357.pth\n"
          ],
          "name": "stderr"
        },
        {
          "output_type": "display_data",
          "data": {
            "application/vnd.jupyter.widget-view+json": {
              "model_id": "d17f2840c5e741a8884d354346e8a16b",
              "version_minor": 0,
              "version_major": 2
            },
            "text/plain": [
              "HBox(children=(IntProgress(value=0, max=102502400), HTML(value='')))"
            ]
          },
          "metadata": {
            "tags": []
          }
        },
        {
          "output_type": "stream",
          "text": [
            "\n"
          ],
          "name": "stdout"
        }
      ]
    },
    {
      "cell_type": "code",
      "metadata": {
        "id": "UyU1DPE7e7hN",
        "colab_type": "code",
        "outputId": "3e725a3f-7f5c-41a2-997a-c4ea5de7424c",
        "colab": {
          "base_uri": "https://localhost:8080/",
          "height": 1000
        }
      },
      "source": [
        "model1"
      ],
      "execution_count": 0,
      "outputs": [
        {
          "output_type": "execute_result",
          "data": {
            "text/plain": [
              "ResNet(\n",
              "  (conv1): Conv2d(3, 64, kernel_size=(7, 7), stride=(2, 2), padding=(3, 3), bias=False)\n",
              "  (bn1): BatchNorm2d(64, eps=1e-05, momentum=0.1, affine=True, track_running_stats=True)\n",
              "  (relu): ReLU(inplace=True)\n",
              "  (maxpool): MaxPool2d(kernel_size=3, stride=2, padding=1, dilation=1, ceil_mode=False)\n",
              "  (layer1): Sequential(\n",
              "    (0): Bottleneck(\n",
              "      (conv1): Conv2d(64, 64, kernel_size=(1, 1), stride=(1, 1), bias=False)\n",
              "      (bn1): BatchNorm2d(64, eps=1e-05, momentum=0.1, affine=True, track_running_stats=True)\n",
              "      (conv2): Conv2d(64, 64, kernel_size=(3, 3), stride=(1, 1), padding=(1, 1), bias=False)\n",
              "      (bn2): BatchNorm2d(64, eps=1e-05, momentum=0.1, affine=True, track_running_stats=True)\n",
              "      (conv3): Conv2d(64, 256, kernel_size=(1, 1), stride=(1, 1), bias=False)\n",
              "      (bn3): BatchNorm2d(256, eps=1e-05, momentum=0.1, affine=True, track_running_stats=True)\n",
              "      (relu): ReLU(inplace=True)\n",
              "      (downsample): Sequential(\n",
              "        (0): Conv2d(64, 256, kernel_size=(1, 1), stride=(1, 1), bias=False)\n",
              "        (1): BatchNorm2d(256, eps=1e-05, momentum=0.1, affine=True, track_running_stats=True)\n",
              "      )\n",
              "    )\n",
              "    (1): Bottleneck(\n",
              "      (conv1): Conv2d(256, 64, kernel_size=(1, 1), stride=(1, 1), bias=False)\n",
              "      (bn1): BatchNorm2d(64, eps=1e-05, momentum=0.1, affine=True, track_running_stats=True)\n",
              "      (conv2): Conv2d(64, 64, kernel_size=(3, 3), stride=(1, 1), padding=(1, 1), bias=False)\n",
              "      (bn2): BatchNorm2d(64, eps=1e-05, momentum=0.1, affine=True, track_running_stats=True)\n",
              "      (conv3): Conv2d(64, 256, kernel_size=(1, 1), stride=(1, 1), bias=False)\n",
              "      (bn3): BatchNorm2d(256, eps=1e-05, momentum=0.1, affine=True, track_running_stats=True)\n",
              "      (relu): ReLU(inplace=True)\n",
              "    )\n",
              "    (2): Bottleneck(\n",
              "      (conv1): Conv2d(256, 64, kernel_size=(1, 1), stride=(1, 1), bias=False)\n",
              "      (bn1): BatchNorm2d(64, eps=1e-05, momentum=0.1, affine=True, track_running_stats=True)\n",
              "      (conv2): Conv2d(64, 64, kernel_size=(3, 3), stride=(1, 1), padding=(1, 1), bias=False)\n",
              "      (bn2): BatchNorm2d(64, eps=1e-05, momentum=0.1, affine=True, track_running_stats=True)\n",
              "      (conv3): Conv2d(64, 256, kernel_size=(1, 1), stride=(1, 1), bias=False)\n",
              "      (bn3): BatchNorm2d(256, eps=1e-05, momentum=0.1, affine=True, track_running_stats=True)\n",
              "      (relu): ReLU(inplace=True)\n",
              "    )\n",
              "  )\n",
              "  (layer2): Sequential(\n",
              "    (0): Bottleneck(\n",
              "      (conv1): Conv2d(256, 128, kernel_size=(1, 1), stride=(1, 1), bias=False)\n",
              "      (bn1): BatchNorm2d(128, eps=1e-05, momentum=0.1, affine=True, track_running_stats=True)\n",
              "      (conv2): Conv2d(128, 128, kernel_size=(3, 3), stride=(2, 2), padding=(1, 1), bias=False)\n",
              "      (bn2): BatchNorm2d(128, eps=1e-05, momentum=0.1, affine=True, track_running_stats=True)\n",
              "      (conv3): Conv2d(128, 512, kernel_size=(1, 1), stride=(1, 1), bias=False)\n",
              "      (bn3): BatchNorm2d(512, eps=1e-05, momentum=0.1, affine=True, track_running_stats=True)\n",
              "      (relu): ReLU(inplace=True)\n",
              "      (downsample): Sequential(\n",
              "        (0): Conv2d(256, 512, kernel_size=(1, 1), stride=(2, 2), bias=False)\n",
              "        (1): BatchNorm2d(512, eps=1e-05, momentum=0.1, affine=True, track_running_stats=True)\n",
              "      )\n",
              "    )\n",
              "    (1): Bottleneck(\n",
              "      (conv1): Conv2d(512, 128, kernel_size=(1, 1), stride=(1, 1), bias=False)\n",
              "      (bn1): BatchNorm2d(128, eps=1e-05, momentum=0.1, affine=True, track_running_stats=True)\n",
              "      (conv2): Conv2d(128, 128, kernel_size=(3, 3), stride=(1, 1), padding=(1, 1), bias=False)\n",
              "      (bn2): BatchNorm2d(128, eps=1e-05, momentum=0.1, affine=True, track_running_stats=True)\n",
              "      (conv3): Conv2d(128, 512, kernel_size=(1, 1), stride=(1, 1), bias=False)\n",
              "      (bn3): BatchNorm2d(512, eps=1e-05, momentum=0.1, affine=True, track_running_stats=True)\n",
              "      (relu): ReLU(inplace=True)\n",
              "    )\n",
              "    (2): Bottleneck(\n",
              "      (conv1): Conv2d(512, 128, kernel_size=(1, 1), stride=(1, 1), bias=False)\n",
              "      (bn1): BatchNorm2d(128, eps=1e-05, momentum=0.1, affine=True, track_running_stats=True)\n",
              "      (conv2): Conv2d(128, 128, kernel_size=(3, 3), stride=(1, 1), padding=(1, 1), bias=False)\n",
              "      (bn2): BatchNorm2d(128, eps=1e-05, momentum=0.1, affine=True, track_running_stats=True)\n",
              "      (conv3): Conv2d(128, 512, kernel_size=(1, 1), stride=(1, 1), bias=False)\n",
              "      (bn3): BatchNorm2d(512, eps=1e-05, momentum=0.1, affine=True, track_running_stats=True)\n",
              "      (relu): ReLU(inplace=True)\n",
              "    )\n",
              "    (3): Bottleneck(\n",
              "      (conv1): Conv2d(512, 128, kernel_size=(1, 1), stride=(1, 1), bias=False)\n",
              "      (bn1): BatchNorm2d(128, eps=1e-05, momentum=0.1, affine=True, track_running_stats=True)\n",
              "      (conv2): Conv2d(128, 128, kernel_size=(3, 3), stride=(1, 1), padding=(1, 1), bias=False)\n",
              "      (bn2): BatchNorm2d(128, eps=1e-05, momentum=0.1, affine=True, track_running_stats=True)\n",
              "      (conv3): Conv2d(128, 512, kernel_size=(1, 1), stride=(1, 1), bias=False)\n",
              "      (bn3): BatchNorm2d(512, eps=1e-05, momentum=0.1, affine=True, track_running_stats=True)\n",
              "      (relu): ReLU(inplace=True)\n",
              "    )\n",
              "  )\n",
              "  (layer3): Sequential(\n",
              "    (0): Bottleneck(\n",
              "      (conv1): Conv2d(512, 256, kernel_size=(1, 1), stride=(1, 1), bias=False)\n",
              "      (bn1): BatchNorm2d(256, eps=1e-05, momentum=0.1, affine=True, track_running_stats=True)\n",
              "      (conv2): Conv2d(256, 256, kernel_size=(3, 3), stride=(2, 2), padding=(1, 1), bias=False)\n",
              "      (bn2): BatchNorm2d(256, eps=1e-05, momentum=0.1, affine=True, track_running_stats=True)\n",
              "      (conv3): Conv2d(256, 1024, kernel_size=(1, 1), stride=(1, 1), bias=False)\n",
              "      (bn3): BatchNorm2d(1024, eps=1e-05, momentum=0.1, affine=True, track_running_stats=True)\n",
              "      (relu): ReLU(inplace=True)\n",
              "      (downsample): Sequential(\n",
              "        (0): Conv2d(512, 1024, kernel_size=(1, 1), stride=(2, 2), bias=False)\n",
              "        (1): BatchNorm2d(1024, eps=1e-05, momentum=0.1, affine=True, track_running_stats=True)\n",
              "      )\n",
              "    )\n",
              "    (1): Bottleneck(\n",
              "      (conv1): Conv2d(1024, 256, kernel_size=(1, 1), stride=(1, 1), bias=False)\n",
              "      (bn1): BatchNorm2d(256, eps=1e-05, momentum=0.1, affine=True, track_running_stats=True)\n",
              "      (conv2): Conv2d(256, 256, kernel_size=(3, 3), stride=(1, 1), padding=(1, 1), bias=False)\n",
              "      (bn2): BatchNorm2d(256, eps=1e-05, momentum=0.1, affine=True, track_running_stats=True)\n",
              "      (conv3): Conv2d(256, 1024, kernel_size=(1, 1), stride=(1, 1), bias=False)\n",
              "      (bn3): BatchNorm2d(1024, eps=1e-05, momentum=0.1, affine=True, track_running_stats=True)\n",
              "      (relu): ReLU(inplace=True)\n",
              "    )\n",
              "    (2): Bottleneck(\n",
              "      (conv1): Conv2d(1024, 256, kernel_size=(1, 1), stride=(1, 1), bias=False)\n",
              "      (bn1): BatchNorm2d(256, eps=1e-05, momentum=0.1, affine=True, track_running_stats=True)\n",
              "      (conv2): Conv2d(256, 256, kernel_size=(3, 3), stride=(1, 1), padding=(1, 1), bias=False)\n",
              "      (bn2): BatchNorm2d(256, eps=1e-05, momentum=0.1, affine=True, track_running_stats=True)\n",
              "      (conv3): Conv2d(256, 1024, kernel_size=(1, 1), stride=(1, 1), bias=False)\n",
              "      (bn3): BatchNorm2d(1024, eps=1e-05, momentum=0.1, affine=True, track_running_stats=True)\n",
              "      (relu): ReLU(inplace=True)\n",
              "    )\n",
              "    (3): Bottleneck(\n",
              "      (conv1): Conv2d(1024, 256, kernel_size=(1, 1), stride=(1, 1), bias=False)\n",
              "      (bn1): BatchNorm2d(256, eps=1e-05, momentum=0.1, affine=True, track_running_stats=True)\n",
              "      (conv2): Conv2d(256, 256, kernel_size=(3, 3), stride=(1, 1), padding=(1, 1), bias=False)\n",
              "      (bn2): BatchNorm2d(256, eps=1e-05, momentum=0.1, affine=True, track_running_stats=True)\n",
              "      (conv3): Conv2d(256, 1024, kernel_size=(1, 1), stride=(1, 1), bias=False)\n",
              "      (bn3): BatchNorm2d(1024, eps=1e-05, momentum=0.1, affine=True, track_running_stats=True)\n",
              "      (relu): ReLU(inplace=True)\n",
              "    )\n",
              "    (4): Bottleneck(\n",
              "      (conv1): Conv2d(1024, 256, kernel_size=(1, 1), stride=(1, 1), bias=False)\n",
              "      (bn1): BatchNorm2d(256, eps=1e-05, momentum=0.1, affine=True, track_running_stats=True)\n",
              "      (conv2): Conv2d(256, 256, kernel_size=(3, 3), stride=(1, 1), padding=(1, 1), bias=False)\n",
              "      (bn2): BatchNorm2d(256, eps=1e-05, momentum=0.1, affine=True, track_running_stats=True)\n",
              "      (conv3): Conv2d(256, 1024, kernel_size=(1, 1), stride=(1, 1), bias=False)\n",
              "      (bn3): BatchNorm2d(1024, eps=1e-05, momentum=0.1, affine=True, track_running_stats=True)\n",
              "      (relu): ReLU(inplace=True)\n",
              "    )\n",
              "    (5): Bottleneck(\n",
              "      (conv1): Conv2d(1024, 256, kernel_size=(1, 1), stride=(1, 1), bias=False)\n",
              "      (bn1): BatchNorm2d(256, eps=1e-05, momentum=0.1, affine=True, track_running_stats=True)\n",
              "      (conv2): Conv2d(256, 256, kernel_size=(3, 3), stride=(1, 1), padding=(1, 1), bias=False)\n",
              "      (bn2): BatchNorm2d(256, eps=1e-05, momentum=0.1, affine=True, track_running_stats=True)\n",
              "      (conv3): Conv2d(256, 1024, kernel_size=(1, 1), stride=(1, 1), bias=False)\n",
              "      (bn3): BatchNorm2d(1024, eps=1e-05, momentum=0.1, affine=True, track_running_stats=True)\n",
              "      (relu): ReLU(inplace=True)\n",
              "    )\n",
              "  )\n",
              "  (layer4): Sequential(\n",
              "    (0): Bottleneck(\n",
              "      (conv1): Conv2d(1024, 512, kernel_size=(1, 1), stride=(1, 1), bias=False)\n",
              "      (bn1): BatchNorm2d(512, eps=1e-05, momentum=0.1, affine=True, track_running_stats=True)\n",
              "      (conv2): Conv2d(512, 512, kernel_size=(3, 3), stride=(2, 2), padding=(1, 1), bias=False)\n",
              "      (bn2): BatchNorm2d(512, eps=1e-05, momentum=0.1, affine=True, track_running_stats=True)\n",
              "      (conv3): Conv2d(512, 2048, kernel_size=(1, 1), stride=(1, 1), bias=False)\n",
              "      (bn3): BatchNorm2d(2048, eps=1e-05, momentum=0.1, affine=True, track_running_stats=True)\n",
              "      (relu): ReLU(inplace=True)\n",
              "      (downsample): Sequential(\n",
              "        (0): Conv2d(1024, 2048, kernel_size=(1, 1), stride=(2, 2), bias=False)\n",
              "        (1): BatchNorm2d(2048, eps=1e-05, momentum=0.1, affine=True, track_running_stats=True)\n",
              "      )\n",
              "    )\n",
              "    (1): Bottleneck(\n",
              "      (conv1): Conv2d(2048, 512, kernel_size=(1, 1), stride=(1, 1), bias=False)\n",
              "      (bn1): BatchNorm2d(512, eps=1e-05, momentum=0.1, affine=True, track_running_stats=True)\n",
              "      (conv2): Conv2d(512, 512, kernel_size=(3, 3), stride=(1, 1), padding=(1, 1), bias=False)\n",
              "      (bn2): BatchNorm2d(512, eps=1e-05, momentum=0.1, affine=True, track_running_stats=True)\n",
              "      (conv3): Conv2d(512, 2048, kernel_size=(1, 1), stride=(1, 1), bias=False)\n",
              "      (bn3): BatchNorm2d(2048, eps=1e-05, momentum=0.1, affine=True, track_running_stats=True)\n",
              "      (relu): ReLU(inplace=True)\n",
              "    )\n",
              "    (2): Bottleneck(\n",
              "      (conv1): Conv2d(2048, 512, kernel_size=(1, 1), stride=(1, 1), bias=False)\n",
              "      (bn1): BatchNorm2d(512, eps=1e-05, momentum=0.1, affine=True, track_running_stats=True)\n",
              "      (conv2): Conv2d(512, 512, kernel_size=(3, 3), stride=(1, 1), padding=(1, 1), bias=False)\n",
              "      (bn2): BatchNorm2d(512, eps=1e-05, momentum=0.1, affine=True, track_running_stats=True)\n",
              "      (conv3): Conv2d(512, 2048, kernel_size=(1, 1), stride=(1, 1), bias=False)\n",
              "      (bn3): BatchNorm2d(2048, eps=1e-05, momentum=0.1, affine=True, track_running_stats=True)\n",
              "      (relu): ReLU(inplace=True)\n",
              "    )\n",
              "  )\n",
              "  (avgpool): AdaptiveAvgPool2d(output_size=(1, 1))\n",
              "  (fc): Linear(in_features=2048, out_features=1000, bias=True)\n",
              ")"
            ]
          },
          "metadata": {
            "tags": []
          },
          "execution_count": 39
        }
      ]
    },
    {
      "cell_type": "markdown",
      "metadata": {
        "id": "b5oda2lyHAUP",
        "colab_type": "text"
      },
      "source": [
        "The below code corresponds to initialization from the previous best model and training selected layers."
      ]
    },
    {
      "cell_type": "code",
      "metadata": {
        "id": "1xL9Ed0RlrzE",
        "colab_type": "code",
        "outputId": "5c7b43a2-be5c-4c10-ef3f-a63b8e17671f",
        "colab": {
          "base_uri": "https://localhost:8080/",
          "height": 34
        }
      },
      "source": [
        "model1 = models.resnet50(pretrained=False).to(device)\n",
        "ct=0\n",
        "for child in model1.children():\n",
        "  ct += 1\n",
        "  if ct < 3:\n",
        "    for param in child.parameters():\n",
        "        param.requires_grad = False\n",
        "model1.fc = nn.Sequential(\n",
        "               nn.Linear(2048, 128),\n",
        "               nn.ReLU(inplace=True),\n",
        "               nn.Linear(128, 2)).to(device)\n",
        "model1.load_state_dict(torch.load('/content/gdrive/My Drive/corona/ct_dataset/ct_scan/resnet50_adam_finetuning.h5'))"
      ],
      "execution_count": 0,
      "outputs": [
        {
          "output_type": "execute_result",
          "data": {
            "text/plain": [
              "<All keys matched successfully>"
            ]
          },
          "metadata": {
            "tags": []
          },
          "execution_count": 49
        }
      ]
    },
    {
      "cell_type": "code",
      "metadata": {
        "id": "q0uOq0l2xpYN",
        "colab_type": "code",
        "colab": {}
      },
      "source": [
        "\n",
        "for param in model1.parameters():\n",
        "    param.requires_grad = False   \n",
        "    \n",
        "model1.fc = nn.Sequential( \n",
        "               nn.Linear(2048,512),\n",
        "               nn.ReLU(inplace=True), \n",
        "               nn.Linear(512, 2)).to(device)"
      ],
      "execution_count": 0,
      "outputs": []
    },
    {
      "cell_type": "code",
      "metadata": {
        "id": "GYINipITxpgi",
        "colab_type": "code",
        "colab": {}
      },
      "source": [
        "import torch.optim as optim\n",
        "criterion = nn.CrossEntropyLoss()\n",
        "optimizer = optim.Adam(filter(lambda p: p.requires_grad, model1.parameters()),lr=0.000001, betas=(0.9, 0.999), eps=1e-08, weight_decay=0.4, amsgrad=False)\n",
        "\n",
        "#optimizer = optim.SGD(model1.fc.parameters(), lr=0.001, momentum=0,weight_decay=)"
      ],
      "execution_count": 0,
      "outputs": []
    },
    {
      "cell_type": "code",
      "metadata": {
        "id": "aDamEramxB-S",
        "colab_type": "code",
        "colab": {}
      },
      "source": [
        "def recall(y_true:torch.Tensor, y_pred:torch.Tensor, is_training=False) -> torch.Tensor:\n",
        "\n",
        "    assert y_true.ndim == 1\n",
        "    assert y_pred.ndim == 1 or y_pred.ndim == 2\n",
        "    \n",
        "    if y_pred.ndim == 2:\n",
        "        y_pred = y_pred.argmax(dim=1)\n",
        "        \n",
        "    \n",
        "    tp = (y_true * y_pred).sum().to(torch.float32)\n",
        "    fn = (y_true * (1 - y_pred)).sum().to(torch.float32)\n",
        "    \n",
        "    epsilon = 1e-7\n",
        "    recall = tp / (tp + fn + epsilon)\n",
        "  \n",
        "    return recall"
      ],
      "execution_count": 0,
      "outputs": []
    },
    {
      "cell_type": "code",
      "metadata": {
        "id": "2FLGaMg6xB7G",
        "colab_type": "code",
        "colab": {}
      },
      "source": [
        "def train_model(model, criterion, optimizer, num_epochs):\n",
        "    losses_train_list=[]\n",
        "    losses_test_list=[]\n",
        "    recall_train_list=[]\n",
        "    recall_test_list=[]\n",
        "    for epoch in range(num_epochs):\n",
        "        print('Epoch {}/{}'.format(epoch+1, num_epochs))\n",
        "        print('-' * 10)\n",
        "\n",
        "        for phase in ['train', 'validation']:\n",
        "            if phase == 'train':\n",
        "                model.train()\n",
        "            else:\n",
        "                model.eval()\n",
        "\n",
        "            running_loss = 0.0\n",
        "            running_corrects = 0\n",
        "\n",
        "            for inputs, labels in dataloaders1[phase]:\n",
        "                inputs = inputs.to(device)\n",
        "                labels = labels.to(device)\n",
        "\n",
        "                outputs = model(inputs)\n",
        "                loss = criterion(outputs, labels)\n",
        "\n",
        "                if phase == 'train':\n",
        "                    optimizer.zero_grad()\n",
        "                    loss.backward()\n",
        "                    optimizer.step()\n",
        "                _, preds = torch.max(outputs, 1)\n",
        "                running_loss += loss.item() * inputs.size(0)\n",
        "                running_corrects += torch.sum(preds == labels.data)\n",
        "            if phase=='train':\n",
        "                           epoch_loss = running_loss /192\n",
        "                           epoch_acc = running_corrects.double() /192\n",
        "                           print('train recall score is : {}'.format(recall(labels.data.to('cpu'), outputs.data.to('cpu'))))\n",
        "                           losses_train_list.append(epoch_loss)\n",
        "                           recall_train_list.append(recall(labels.data.to('cpu'), outputs.data.to('cpu')))\n",
        "\n",
        "\n",
        "            else: \n",
        "                           epoch_loss = running_loss /40\n",
        "                           epoch_acc = running_corrects.double() /40\n",
        "                           print('valid recall score is : {}'.format(recall(labels.data.to('cpu'), outputs.data.to('cpu'))))\n",
        "                           losses_test_list.append(epoch_loss)\n",
        "                           recall_test_list.append(recall(labels.data.to('cpu'), outputs.data.to('cpu')))\n",
        "\n",
        "\n",
        "\n",
        "            print('{} loss: {:.4f}, acc: {:.4f}'.format(phase,\n",
        "                                                        epoch_loss,\n",
        "                                                        epoch_acc))\n",
        "\n",
        "\n",
        "    return model,losses_train_list,losses_test_list,recall_train_list,recall_test_list"
      ],
      "execution_count": 0,
      "outputs": []
    },
    {
      "cell_type": "code",
      "metadata": {
        "id": "qw67Ol3NyBfK",
        "colab_type": "code",
        "outputId": "550da554-8734-42bb-d010-3d5fe9c8cacb",
        "colab": {
          "base_uri": "https://localhost:8080/",
          "height": 420
        }
      },
      "source": [
        "model_trained1,a1,b1,c1,d1= train_model(model_trained1, criterion, optimizer, num_epochs=4)\n",
        "#39/40 correctly determined by the model.So this may not be classified as an overfit."
      ],
      "execution_count": 0,
      "outputs": [
        {
          "output_type": "stream",
          "text": [
            "Epoch 1/4\n",
            "----------\n",
            "train recall score is : 1.0\n",
            "train loss: 0.0199, acc: 1.0000\n",
            "valid recall score is : 0.9523809552192688\n",
            "validation loss: 0.1315, acc: 0.9750\n",
            "Epoch 2/4\n",
            "----------\n",
            "train recall score is : 1.0\n",
            "train loss: 0.0213, acc: 1.0000\n",
            "valid recall score is : 0.9523809552192688\n",
            "validation loss: 0.1355, acc: 0.9750\n",
            "Epoch 3/4\n",
            "----------\n",
            "train recall score is : 1.0\n",
            "train loss: 0.0258, acc: 1.0000\n",
            "valid recall score is : 0.9523809552192688\n",
            "validation loss: 0.1392, acc: 0.9750\n",
            "Epoch 4/4\n",
            "----------\n",
            "train recall score is : 1.0\n",
            "train loss: 0.0283, acc: 1.0000\n",
            "valid recall score is : 0.9523809552192688\n",
            "validation loss: 0.1404, acc: 0.9750\n"
          ],
          "name": "stdout"
        }
      ]
    },
    {
      "cell_type": "code",
      "metadata": {
        "id": "qC4gR9U5yBnP",
        "colab_type": "code",
        "outputId": "92a45958-79e6-43cf-a79a-a635a305e3f7",
        "colab": {
          "base_uri": "https://localhost:8080/",
          "height": 404
        }
      },
      "source": [
        "import matplotlib.pyplot as plt\n",
        "plt.figure(figsize=(8, 6))\n",
        "plt.plot(a1,label='train_loss')\n",
        "plt.plot(b1,label='test_loss')\n",
        "plt.plot(c1,label='train_rec')\n",
        "plt.plot(d1,label='test_rec')\n",
        "\n",
        "\n",
        "plt.xlabel(\"epochs\")\n",
        "plt.ylabel(\"value\")\n",
        "plt.title(\"train versus val plot\")\n",
        "\n",
        "plt.legend()\n",
        "plt.show()"
      ],
      "execution_count": 0,
      "outputs": [
        {
          "output_type": "display_data",
          "data": {
            "image/png": "[encoded data removed]",
            "text/plain": [
              "<Figure size 576x432 with 1 Axes>"
            ]
          },
          "metadata": {
            "tags": [],
            "needs_background": "light"
          }
        }
      ]
    },
    {
      "cell_type": "code",
      "metadata": {
        "id": "KA72KDP2yBk8",
        "colab_type": "code",
        "colab": {}
      },
      "source": [
        "#torch.save(model_trained1.state_dict(), '/content/gdrive/My Drive/corona/ct_dataset/ct_scan/resnet50_lessdata_adam_tuneprevious_morelayertrain.h5')\n"
      ],
      "execution_count": 0,
      "outputs": []
    },
    {
      "cell_type": "code",
      "metadata": {
        "id": "2pbxWVptyBjJ",
        "colab_type": "code",
        "outputId": "d982928f-2875-415c-bb1e-9b5f49abca3f",
        "colab": {
          "base_uri": "https://localhost:8080/",
          "height": 34
        }
      },
      "source": [
        "model1 = models.resnet50(pretrained=False).to(device)\n",
        "model1.fc = nn.Sequential(\n",
        "               nn.Linear(2048, 128),\n",
        "               nn.ReLU(inplace=True),\n",
        "               nn.Linear(128, 2)).to(device)\n",
        "model1.load_state_dict(torch.load('/content/gdrive/My Drive/corona/ct_dataset/ct_scan/resnet50_adam_finetuning.h5'))"
      ],
      "execution_count": 0,
      "outputs": [
        {
          "output_type": "execute_result",
          "data": {
            "text/plain": [
              "<All keys matched successfully>"
            ]
          },
          "metadata": {
            "tags": []
          },
          "execution_count": 28
        }
      ]
    },
    {
      "cell_type": "code",
      "metadata": {
        "id": "VKOi6LCO5vDN",
        "colab_type": "code",
        "colab": {}
      },
      "source": [
        "modelxyz=model1 = models.resnet50(pretrained=False).to(device)\n",
        "modelxyz.fc = nn.Sequential(\n",
        "               nn.Linear(2048, 128),\n",
        "               nn.ReLU(inplace=True),\n",
        "               nn.Linear(128, 2)).to(device)\n",
        "modelxyz.load_state_dict(torch.load('/content/gdrive/My Drive/corona/ct_dataset/ct_scan/resnet50_lessdata_adam_tuneprevious_morelayertrain.h5'))"
      ],
      "execution_count": 0,
      "outputs": []
    },
    {
      "cell_type": "markdown",
      "metadata": {
        "id": "NPNF87UBGW3v",
        "colab_type": "text"
      },
      "source": [
        "Now to save my final and the best performing model.This model can now perform well."
      ]
    },
    {
      "cell_type": "code",
      "metadata": {
        "id": "d03s49Of5v4V",
        "colab_type": "code",
        "colab": {}
      },
      "source": [
        "torch.save(modelxyz,'/content/gdrive/My Drive/corona/ct_dataset/ct_scan/best_model1.pth')\n"
      ],
      "execution_count": 0,
      "outputs": []
    },
    {
      "cell_type": "markdown",
      "metadata": {
        "id": "06ODOTJ5GnMg",
        "colab_type": "text"
      },
      "source": [
        "I would use the below code to keep my notebook running in between my short breaks."
      ]
    },
    {
      "cell_type": "code",
      "metadata": {
        "id": "mRSrpB2c5jk5",
        "colab_type": "code",
        "colab": {}
      },
      "source": [
        "import time\n",
        "while 1:\n",
        "  time.sleep(300)"
      ],
      "execution_count": 0,
      "outputs": []
    },
    {
      "cell_type": "code",
      "metadata": {
        "id": "fYCzwRkbdINW",
        "colab_type": "code",
        "colab": {}
      },
      "source": [
        ""
      ],
      "execution_count": 0,
      "outputs": []
    }
  ]
}